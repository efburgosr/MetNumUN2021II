{
  "nbformat": 4,
  "nbformat_minor": 0,
  "metadata": {
    "colab": {
      "name": "efburgosr_lab1.ipynb",
      "provenance": [],
      "collapsed_sections": [],
      "include_colab_link": true
    },
    "kernelspec": {
      "display_name": "Python 3",
      "language": "python",
      "name": "python3"
    },
    "language_info": {
      "codemirror_mode": {
        "name": "ipython",
        "version": 3
      },
      "file_extension": ".py",
      "mimetype": "text/x-python",
      "name": "python",
      "nbconvert_exporter": "python",
      "pygments_lexer": "ipython3",
      "version": "3.6.4"
    }
  },
  "cells": [
    {
      "cell_type": "markdown",
      "metadata": {
        "id": "view-in-github",
        "colab_type": "text"
      },
      "source": [
        "<a href=\"https://colab.research.google.com/github/efburgosr/MetNumUN2021II/blob/main/Lab1/efburgosr_lab1.ipynb\" target=\"_parent\"><img src=\"https://colab.research.google.com/assets/colab-badge.svg\" alt=\"Open In Colab\"/></a>"
      ]
    },
    {
      "cell_type": "markdown",
      "metadata": {
        "id": "eQzBbvyKQymx"
      },
      "source": [
        "<div align=\"center\">\n",
        "<img style=\"display: block; margin: auto;\" alt=\"photo\" src=\"https://cdn.quantconnect.com/web/i/icon.png\">\n",
        "\n",
        "Quantconnect\n",
        "\n",
        "Introduction to Financial Python\n",
        "</div>\n",
        "\n",
        "# 01 Data Types and Data Structures\n",
        "\n",
        "# Introduction\n",
        "\n",
        "This tutorial provides a basic introduction to the Python programming language. If you are new to Python, you should run the code snippets while reading this tutorial. If you are an advanced Python user, please feel free to skip this chapter.\n",
        "\n",
        "# Basic Variable Types\n",
        "The basic types of variables in Python are: strings, integers, floating point numbers and booleans.\n",
        "\n",
        "Strings in python are identified as a contiguous set of characters represented in either single quotes (' ') or double quotes (\" \").\n"
      ]
    },
    {
      "cell_type": "code",
      "metadata": {
        "colab": {
          "base_uri": "https://localhost:8080/"
        },
        "id": "N5t-UrcfOqid",
        "outputId": "6588ae94-97f4-4566-bec8-16064c7ab680"
      },
      "source": [
        "my_string1 = 'Welcome to'\n",
        "my_string2 = \"QuantConnect\"\n",
        "print(my_string1 + ' ' + my_string2)"
      ],
      "execution_count": null,
      "outputs": [
        {
          "output_type": "stream",
          "name": "stdout",
          "text": [
            "Welcome to QuantConnect\n"
          ]
        }
      ]
    },
    {
      "cell_type": "code",
      "metadata": {
        "colab": {
          "base_uri": "https://localhost:8080/"
        },
        "id": "oOGmbr3jJ5uC",
        "outputId": "5d2adfa5-7412-45cd-b972-3c3b4ff9ff77"
      },
      "source": [
        "my_string1 = 'Bienvenido a'\n",
        "my_string2 = \"QuantConnect\"\n",
        "my_string3 = \"and  Google Colab\"\n",
        "print(my_string1 + ' ' + my_string2 + ' ' + my_string3)"
      ],
      "execution_count": 6,
      "outputs": [
        {
          "output_type": "stream",
          "name": "stdout",
          "text": [
            "Bienvenido a QuantConnect and  Google Colab\n"
          ]
        }
      ]
    },
    {
      "cell_type": "markdown",
      "metadata": {
        "id": "bXHnxZyHSd1M"
      },
      "source": [
        "An integer is a round number with no values after the decimal point."
      ]
    },
    {
      "cell_type": "code",
      "metadata": {
        "colab": {
          "base_uri": "https://localhost:8080/"
        },
        "id": "pNjuz3toOqif",
        "outputId": "d543c41e-0f15-487d-93f2-c0f4beab09bb"
      },
      "source": [
        "my_int = 10\n",
        "print(my_int)\n",
        "print(type(my_int))"
      ],
      "execution_count": null,
      "outputs": [
        {
          "output_type": "stream",
          "name": "stdout",
          "text": [
            "10\n",
            "<class 'int'>\n"
          ]
        }
      ]
    },
    {
      "cell_type": "code",
      "metadata": {
        "colab": {
          "base_uri": "https://localhost:8080/"
        },
        "id": "hHQGCgAnKRP6",
        "outputId": "d0109944-dc4d-4931-efc1-1acb92e205e7"
      },
      "source": [
        "my_int = 12\n",
        "print(my_int)\n",
        "print(type(my_int))"
      ],
      "execution_count": 7,
      "outputs": [
        {
          "output_type": "stream",
          "name": "stdout",
          "text": [
            "12\n",
            "<class 'int'>\n"
          ]
        }
      ]
    },
    {
      "cell_type": "markdown",
      "metadata": {
        "id": "_1ZanWrYSnzF"
      },
      "source": [
        "The built-in function int() can convert a string into an integer."
      ]
    },
    {
      "cell_type": "code",
      "metadata": {
        "colab": {
          "base_uri": "https://localhost:8080/"
        },
        "id": "zPwGb20FOqif",
        "outputId": "578dce75-668e-4668-c593-f72214175888"
      },
      "source": [
        "my_string = \"100\"\n",
        "print(type(my_string))\n",
        "my_int = int(my_string)\n",
        "print(type(my_int))"
      ],
      "execution_count": null,
      "outputs": [
        {
          "output_type": "stream",
          "name": "stdout",
          "text": [
            "<class 'str'>\n",
            "<class 'int'>\n"
          ]
        }
      ]
    },
    {
      "cell_type": "code",
      "metadata": {
        "colab": {
          "base_uri": "https://localhost:8080/"
        },
        "id": "c-Iq2930KcxJ",
        "outputId": "3af77c37-f3e5-4f7e-f516-ad42980279bf"
      },
      "source": [
        "my_string = \"89\"\n",
        "print(type(my_string))\n",
        "my_int = int(my_string)\n",
        "print(type(my_int))"
      ],
      "execution_count": 8,
      "outputs": [
        {
          "output_type": "stream",
          "name": "stdout",
          "text": [
            "<class 'str'>\n",
            "<class 'int'>\n"
          ]
        }
      ]
    },
    {
      "cell_type": "markdown",
      "metadata": {
        "id": "WqMDPDTHSrE9"
      },
      "source": [
        "A floating point number, or a float, is a real number in mathematics. In Python we need to include a value after a decimal point to define it as a float"
      ]
    },
    {
      "cell_type": "code",
      "metadata": {
        "colab": {
          "base_uri": "https://localhost:8080/"
        },
        "id": "otCzKKW9Oqig",
        "outputId": "a86233ed-3b60-44dd-dbbb-a6ba7b212918"
      },
      "source": [
        "my_string = \"100\"\n",
        "my_float = float(my_string)\n",
        "print(type(my_float))"
      ],
      "execution_count": null,
      "outputs": [
        {
          "output_type": "stream",
          "name": "stdout",
          "text": [
            "<class 'float'>\n"
          ]
        }
      ]
    },
    {
      "cell_type": "code",
      "metadata": {
        "colab": {
          "base_uri": "https://localhost:8080/"
        },
        "id": "e5E24hbcKhOp",
        "outputId": "07e0e067-a176-43c1-9aab-16e8a58debe7"
      },
      "source": [
        "my_string = \"89\"\n",
        "my_float = float(my_string)\n",
        "print(type(my_float))"
      ],
      "execution_count": 9,
      "outputs": [
        {
          "output_type": "stream",
          "name": "stdout",
          "text": [
            "<class 'float'>\n"
          ]
        }
      ]
    },
    {
      "cell_type": "markdown",
      "metadata": {
        "id": "2iuyv8Q7StTJ"
      },
      "source": [
        "As you can see above, if we don't include a decimal value, the variable would be defined as an integer. The built-in function float() can convert a string or an integer into a float."
      ]
    },
    {
      "cell_type": "code",
      "metadata": {
        "colab": {
          "base_uri": "https://localhost:8080/"
        },
        "id": "wwLw5VthOqig",
        "outputId": "d9da1137-5370-4cdb-bced-c27acb8ccf68"
      },
      "source": [
        "my_bool = False\n",
        "print(my_bool)\n",
        "print(type(my_bool))"
      ],
      "execution_count": null,
      "outputs": [
        {
          "output_type": "stream",
          "name": "stdout",
          "text": [
            "False\n",
            "<class 'bool'>\n"
          ]
        }
      ]
    },
    {
      "cell_type": "code",
      "metadata": {
        "colab": {
          "base_uri": "https://localhost:8080/"
        },
        "id": "Lvgs-Y4KKpL7",
        "outputId": "9fcb59ed-ba0f-4cf4-ecfa-cab1653b6da5"
      },
      "source": [
        "my_bool = True\n",
        "print(my_bool)\n",
        "print(type(my_bool))"
      ],
      "execution_count": 10,
      "outputs": [
        {
          "output_type": "stream",
          "name": "stdout",
          "text": [
            "True\n",
            "<class 'bool'>\n"
          ]
        }
      ]
    },
    {
      "cell_type": "markdown",
      "metadata": {
        "id": "bnGMwH21Szr_"
      },
      "source": [
        "A boolean, or bool, is a binary variable. Its value can only be True or False. It is useful when we do some logic operations, which would be covered in our next chapter."
      ]
    },
    {
      "cell_type": "code",
      "metadata": {
        "colab": {
          "base_uri": "https://localhost:8080/"
        },
        "id": "DMa6pDl5Oqig",
        "outputId": "c95fb06b-10d2-4860-ee5c-70c3e768ae75"
      },
      "source": [
        "print(\"Addition \", 1+1)\n",
        "print(\"Subtraction \", 5-2)\n",
        "print(\"Multiplication \", 2*3)\n",
        "print(\"Division \", 10/2)\n",
        "print('exponent', 2**3)"
      ],
      "execution_count": null,
      "outputs": [
        {
          "output_type": "stream",
          "name": "stdout",
          "text": [
            "Addition  2\n",
            "Subtraction  3\n",
            "Multiplication  6\n",
            "Division  5.0\n",
            "exponent 8\n"
          ]
        }
      ]
    },
    {
      "cell_type": "code",
      "metadata": {
        "colab": {
          "base_uri": "https://localhost:8080/"
        },
        "id": "QNWwv4YWKwrK",
        "outputId": "8adf9faa-3d9c-491c-df79-f7e6d5f8d844"
      },
      "source": [
        "print(\"Addition \", 1+1 + 2)\n",
        "print(\"Subtraction \", 5-2-9)\n",
        "print(\"Multiplication \", 2*3)\n",
        "print(\"Division \", 10/2)\n",
        "print('exponent', 2**3)"
      ],
      "execution_count": 11,
      "outputs": [
        {
          "output_type": "stream",
          "name": "stdout",
          "text": [
            "Addition  4\n",
            "Subtraction  -6\n",
            "Multiplication  6\n",
            "Division  5.0\n",
            "exponent 8\n"
          ]
        }
      ]
    },
    {
      "cell_type": "markdown",
      "metadata": {
        "id": "1Xc9G9_sS2ju"
      },
      "source": [
        "# Basic Math Operations\n",
        "\n",
        "The basic math operators in python are demonstrated below:"
      ]
    },
    {
      "cell_type": "code",
      "metadata": {
        "colab": {
          "base_uri": "https://localhost:8080/"
        },
        "id": "KE9gUryAOqig",
        "outputId": "82343653-3452-4cc1-a0d6-510cbc54d7cb"
      },
      "source": [
        "print(1/3)\n",
        "print(1.0/3)"
      ],
      "execution_count": null,
      "outputs": [
        {
          "output_type": "stream",
          "name": "stdout",
          "text": [
            "0.3333333333333333\n",
            "0.3333333333333333\n"
          ]
        }
      ]
    },
    {
      "cell_type": "code",
      "metadata": {
        "colab": {
          "base_uri": "https://localhost:8080/"
        },
        "id": "NFDlaBl4K8RB",
        "outputId": "088ebb70-3ff4-4a62-f320-619464a4fca5"
      },
      "source": [
        "print(2/3)\n",
        "print(2.0/3)"
      ],
      "execution_count": 12,
      "outputs": [
        {
          "output_type": "stream",
          "name": "stdout",
          "text": [
            "0.6666666666666666\n",
            "0.6666666666666666\n"
          ]
        }
      ]
    },
    {
      "cell_type": "markdown",
      "metadata": {
        "id": "AN5Oa3DoS_Nf"
      },
      "source": [
        "# Data Collections\n",
        "\n",
        "## List\n",
        "A list is an ordered collection of values. A list is mutable, which means you can change a list's value without changing the list itself. Creating a list is simply putting different comma-separated values between square brackets."
      ]
    },
    {
      "cell_type": "code",
      "metadata": {
        "colab": {
          "base_uri": "https://localhost:8080/"
        },
        "id": "-tQdNqCvOqig",
        "outputId": "d2bbb637-130c-4b29-c67c-2d4900f47b7e"
      },
      "source": [
        "my_list = ['Quant', 'Connect']#, 1,2,3]\n",
        "print(my_list)"
      ],
      "execution_count": 12,
      "outputs": [
        {
          "output_type": "stream",
          "name": "stdout",
          "text": [
            "['Quant', 'Connect']\n"
          ]
        }
      ]
    },
    {
      "cell_type": "code",
      "metadata": {
        "colab": {
          "base_uri": "https://localhost:8080/"
        },
        "id": "xSYIwlB1LCV5",
        "outputId": "33cae538-828f-4382-e09f-341c23dece60"
      },
      "source": [
        "my_list = ['Colab', 'Google']#, 1,2,3,4,5]\n",
        "my_list_2 = [1,2,3,4,5]\n",
        "print(my_list)\n",
        "print(my_list_2)"
      ],
      "execution_count": 13,
      "outputs": [
        {
          "output_type": "stream",
          "name": "stdout",
          "text": [
            "['Colab', 'Google']\n",
            "[1, 2, 3, 4, 5]\n"
          ]
        }
      ]
    },
    {
      "cell_type": "markdown",
      "metadata": {
        "id": "1O0TsgZCTHrM"
      },
      "source": [
        "The values in a list are called \"elements\". We can access list elements by indexing. Python index starts from 0. So if you have a list of length n, the index of the first element will be 0, and that of the last element will be n − 1. By the way, the length of a list can be obtained by the built-in function len()."
      ]
    },
    {
      "cell_type": "code",
      "metadata": {
        "colab": {
          "base_uri": "https://localhost:8080/"
        },
        "id": "QhuVhRR5Oqih",
        "outputId": "e8fa26aa-353f-4697-9701-6e8111a46ce4"
      },
      "source": [
        "my_list = ['Quant', 'Connect', 1,2,3]\n",
        "print(len(my_list))\n",
        "print(my_list[0])\n",
        "print(my_list[len(my_list) -1])"
      ],
      "execution_count": null,
      "outputs": [
        {
          "output_type": "stream",
          "name": "stdout",
          "text": [
            "5\n",
            "Quant\n",
            "3\n"
          ]
        }
      ]
    },
    {
      "cell_type": "code",
      "metadata": {
        "colab": {
          "base_uri": "https://localhost:8080/"
        },
        "id": "Sw6PDmAYLfwn",
        "outputId": "067cb2db-dc64-4288-967c-64fd60c3dfd4"
      },
      "source": [
        "my_list = ['Colab', 'Google', 1,2,3,4,5,6]\n",
        "print(len(my_list))\n",
        "print(my_list[0])\n",
        "print(my_list[len(my_list) -1])"
      ],
      "execution_count": 14,
      "outputs": [
        {
          "output_type": "stream",
          "name": "stdout",
          "text": [
            "8\n",
            "Colab\n",
            "6\n"
          ]
        }
      ]
    },
    {
      "cell_type": "markdown",
      "metadata": {
        "id": "jgSZy1VGTKSc"
      },
      "source": [
        "You can also change the elements in the list by accessing an index and assigning a new value."
      ]
    },
    {
      "cell_type": "code",
      "metadata": {
        "colab": {
          "base_uri": "https://localhost:8080/"
        },
        "id": "NQBNLjAvOqih",
        "outputId": "476b8e55-d299-41aa-9215-9c0098bbf43c"
      },
      "source": [
        "my_list = ['Quant','Connect',1,2,3]\n",
        "my_list[2] = 'go'\n",
        "print(my_list)"
      ],
      "execution_count": null,
      "outputs": [
        {
          "output_type": "stream",
          "name": "stdout",
          "text": [
            "['Quant', 'Connect', 'go', 2, 3]\n"
          ]
        }
      ]
    },
    {
      "cell_type": "code",
      "metadata": {
        "colab": {
          "base_uri": "https://localhost:8080/"
        },
        "id": "DoszSauPLxMJ",
        "outputId": "7f83cf73-6b56-4d4c-b587-f81197e92b3a"
      },
      "source": [
        "my_list = ['Colab','Google',1,2,3,4]\n",
        "my_list[2] = 0\n",
        "print(my_list)"
      ],
      "execution_count": 15,
      "outputs": [
        {
          "output_type": "stream",
          "name": "stdout",
          "text": [
            "['Colab', 'Google', 0, 2, 3, 4]\n"
          ]
        }
      ]
    },
    {
      "cell_type": "markdown",
      "metadata": {
        "id": "EQPs5ojoTVrk"
      },
      "source": [
        "A list can also be sliced with a colon:"
      ]
    },
    {
      "cell_type": "code",
      "metadata": {
        "colab": {
          "base_uri": "https://localhost:8080/"
        },
        "id": "keNX2RbtOqii",
        "outputId": "01219718-8be6-4b02-b241-f1747bea9ab5"
      },
      "source": [
        "my_list = ['Quant','Connect',1,2,3]\n",
        "print(my_list[1:3])"
      ],
      "execution_count": null,
      "outputs": [
        {
          "output_type": "stream",
          "name": "stdout",
          "text": [
            "['Connect', 1]\n"
          ]
        }
      ]
    },
    {
      "cell_type": "code",
      "metadata": {
        "colab": {
          "base_uri": "https://localhost:8080/"
        },
        "id": "4zamsgVqMEL6",
        "outputId": "a8749fed-12cf-4fd5-a9d1-33e8a93b3be2"
      },
      "source": [
        "my_list = ['Quant','Connect',1,2,3,4,5,6,7]\n",
        "print(my_list[1:4])"
      ],
      "execution_count": 16,
      "outputs": [
        {
          "output_type": "stream",
          "name": "stdout",
          "text": [
            "['Connect', 1, 2]\n"
          ]
        }
      ]
    },
    {
      "cell_type": "markdown",
      "metadata": {
        "id": "AZqQd0K8TYul"
      },
      "source": [
        "The slice starts from the first element indicated, but excludes the last element indicated. Here we select all elements starting from index 1, which refers to the second element:"
      ]
    },
    {
      "cell_type": "code",
      "metadata": {
        "colab": {
          "base_uri": "https://localhost:8080/"
        },
        "id": "0-76sLfkOqii",
        "outputId": "e0507043-0cd4-491b-bb9f-26100bf5ffd1"
      },
      "source": [
        "print(my_list[1:])"
      ],
      "execution_count": null,
      "outputs": [
        {
          "output_type": "stream",
          "name": "stdout",
          "text": [
            "['Connect', 1, 2, 3]\n"
          ]
        }
      ]
    },
    {
      "cell_type": "code",
      "metadata": {
        "colab": {
          "base_uri": "https://localhost:8080/"
        },
        "id": "XaWxjrv4MOOo",
        "outputId": "df511d8b-a898-48d9-dfba-fcb98e426407"
      },
      "source": [
        "print(my_list[3:])"
      ],
      "execution_count": 17,
      "outputs": [
        {
          "output_type": "stream",
          "name": "stdout",
          "text": [
            "[2, 3, 4, 5, 6, 7]\n"
          ]
        }
      ]
    },
    {
      "cell_type": "markdown",
      "metadata": {
        "id": "XBqvhUdZVKWs"
      },
      "source": [
        "And all elements up to but excluding index 3:"
      ]
    },
    {
      "cell_type": "code",
      "metadata": {
        "colab": {
          "base_uri": "https://localhost:8080/"
        },
        "id": "5NWr75L9Oqii",
        "outputId": "4b51d4c2-40d5-495c-cc54-cefab7fbea0e"
      },
      "source": [
        "print(my_list[:3])"
      ],
      "execution_count": null,
      "outputs": [
        {
          "output_type": "stream",
          "name": "stdout",
          "text": [
            "['Quant', 'Connect', 1]\n"
          ]
        }
      ]
    },
    {
      "cell_type": "code",
      "metadata": {
        "colab": {
          "base_uri": "https://localhost:8080/"
        },
        "id": "RAAdc9FjMbGJ",
        "outputId": "1da7750c-ee45-4379-ac1c-5dbd93948a1d"
      },
      "source": [
        "print(my_list[:4])"
      ],
      "execution_count": 18,
      "outputs": [
        {
          "output_type": "stream",
          "name": "stdout",
          "text": [
            "['Quant', 'Connect', 1, 2]\n"
          ]
        }
      ]
    },
    {
      "cell_type": "markdown",
      "metadata": {
        "id": "eAFmM6bkTZz9"
      },
      "source": [
        "If you wish to add or remove an element from a list, you can use the append() and remove() methods for lists as follows:"
      ]
    },
    {
      "cell_type": "code",
      "metadata": {
        "colab": {
          "base_uri": "https://localhost:8080/"
        },
        "id": "pHmgTPElTo19",
        "outputId": "ec107852-3c63-4766-a60e-5ac8afc66008"
      },
      "source": [
        "my_list = ['Hello', 'Quant']\n",
        "my_list.append('Hello')\n",
        "print(my_list)\n",
        "\n"
      ],
      "execution_count": null,
      "outputs": [
        {
          "output_type": "stream",
          "name": "stdout",
          "text": [
            "['Hello', 'Quant', 'Hello']\n"
          ]
        }
      ]
    },
    {
      "cell_type": "code",
      "metadata": {
        "colab": {
          "base_uri": "https://localhost:8080/"
        },
        "id": "6J40cOSSMezg",
        "outputId": "4a03fc70-ee2c-4f66-de18-9f65937d70a2"
      },
      "source": [
        "my_list = ['Hello', 'Quant']\n",
        "my_list.append('Hello')\n",
        "my_list.append('other')\n",
        "print(my_list)\n",
        "\n"
      ],
      "execution_count": 19,
      "outputs": [
        {
          "output_type": "stream",
          "name": "stdout",
          "text": [
            "['Hello', 'Quant', 'Hello', 'other']\n"
          ]
        }
      ]
    },
    {
      "cell_type": "code",
      "metadata": {
        "colab": {
          "base_uri": "https://localhost:8080/"
        },
        "id": "4C4U1Yf0Tr8l",
        "outputId": "e53d3f80-9f08-4bc7-8659-655418704265"
      },
      "source": [
        "my_list.remove('Hello')\n",
        "print(my_list)"
      ],
      "execution_count": null,
      "outputs": [
        {
          "output_type": "stream",
          "name": "stdout",
          "text": [
            "['Quant', 'Hello']\n"
          ]
        }
      ]
    },
    {
      "cell_type": "code",
      "metadata": {
        "colab": {
          "base_uri": "https://localhost:8080/"
        },
        "id": "xLMH64LqMn4w",
        "outputId": "e49da9f0-657d-4e20-c6c2-275d1847866f"
      },
      "source": [
        "my_list.remove('Quant')\n",
        "print(my_list)"
      ],
      "execution_count": 20,
      "outputs": [
        {
          "output_type": "stream",
          "name": "stdout",
          "text": [
            "['Hello', 'Hello', 'other']\n"
          ]
        }
      ]
    },
    {
      "cell_type": "markdown",
      "metadata": {
        "id": "11W1gG-cVmOU"
      },
      "source": [
        "When there are repeated instances of \"Hello\", the first one is removed.\n",
        "\n",
        "## Tuple\n",
        "A tuple is a data structure type similar to a list. The difference is that a tuple is immutable, which means you can't change the elements in it once it's defined. We create a tuple by putting comma-separated values between parentheses."
      ]
    },
    {
      "cell_type": "code",
      "metadata": {
        "collapsed": true,
        "id": "vPmn6BAaOqii"
      },
      "source": [
        "my_tuple = ('Welcome','to','QuantConnect')"
      ],
      "execution_count": null,
      "outputs": []
    },
    {
      "cell_type": "code",
      "metadata": {
        "collapsed": true,
        "id": "8LgPJa6MM9yy"
      },
      "source": [
        "my_tuple = ('Welcome','to','GoogleColab')"
      ],
      "execution_count": 21,
      "outputs": []
    },
    {
      "cell_type": "markdown",
      "metadata": {
        "id": "zMIme4dDV0Wz"
      },
      "source": [
        "Just like a list, a tuple can be sliced by using index."
      ]
    },
    {
      "cell_type": "code",
      "metadata": {
        "colab": {
          "base_uri": "https://localhost:8080/"
        },
        "id": "8P-ddO0sOqii",
        "outputId": "59410ade-8f39-420d-e0cc-cae6c015e1cf"
      },
      "source": [
        "my_tuple = ('Welcome','to','QuantConnect')\n",
        "print(my_tuple[1:])"
      ],
      "execution_count": null,
      "outputs": [
        {
          "output_type": "stream",
          "name": "stdout",
          "text": [
            "('to', 'QuantConnect')\n"
          ]
        }
      ]
    },
    {
      "cell_type": "code",
      "metadata": {
        "colab": {
          "base_uri": "https://localhost:8080/"
        },
        "id": "Zmh4vDfqNIWZ",
        "outputId": "5aa0aebd-483e-4c22-ce50-f8468907db11"
      },
      "source": [
        "my_tuple = ('Welcome','to','GoogleColab')\n",
        "print(my_tuple[2:])"
      ],
      "execution_count": 22,
      "outputs": [
        {
          "output_type": "stream",
          "name": "stdout",
          "text": [
            "('GoogleColab',)\n"
          ]
        }
      ]
    },
    {
      "cell_type": "markdown",
      "metadata": {
        "id": "l2JqbusAV1Y2"
      },
      "source": [
        "## Set\n",
        "A set is an **unordered**  collection with **no duplicate** elements. The built-in function **set()** can be used to create sets."
      ]
    },
    {
      "cell_type": "code",
      "metadata": {
        "colab": {
          "base_uri": "https://localhost:8080/"
        },
        "id": "Plau8r-UOqij",
        "outputId": "38956220-c75c-4046-ebfa-810880ea19f4"
      },
      "source": [
        "stock_list = ['AAPL','GOOG','IBM','AAPL','IBM','FB','F','GOOG']\n",
        "stock_set = set(stock_list)\n",
        "print(stock_set)"
      ],
      "execution_count": null,
      "outputs": [
        {
          "output_type": "stream",
          "name": "stdout",
          "text": [
            "{'FB', 'IBM', 'AAPL', 'GOOG', 'F'}\n"
          ]
        }
      ]
    },
    {
      "cell_type": "code",
      "metadata": {
        "colab": {
          "base_uri": "https://localhost:8080/"
        },
        "id": "60fpuwT9NQOE",
        "outputId": "5dbc2ef4-be81-4184-92e3-8042be2ada6d"
      },
      "source": [
        "stock_list = ['AAPL','GOOG','IBM','AAPL','IBM','FB','F','GOOG','VAL1', 'VAL1']\n",
        "stock_set = set(stock_list)\n",
        "print(stock_set)"
      ],
      "execution_count": 23,
      "outputs": [
        {
          "output_type": "stream",
          "name": "stdout",
          "text": [
            "{'FB', 'IBM', 'VAL1', 'AAPL', 'GOOG', 'F'}\n"
          ]
        }
      ]
    },
    {
      "cell_type": "markdown",
      "metadata": {
        "id": "Jyb4GGIoWIHk"
      },
      "source": [
        "Set is an easy way to remove duplicate elements from a list.\n",
        "\n",
        "##Dictionary\n",
        "A dictionary is one of the most important data structures in Python. Unlike sequences which are indexed by integers, dictionaries are indexed by keys which can be either strings or floats.\n",
        "\n",
        "A dictionary is an **unordered** collection of key : value pairs, with the requirement that the keys are unique. We create a dictionary by placing a comma-separated list of key : value pairs within the braces."
      ]
    },
    {
      "cell_type": "code",
      "metadata": {
        "collapsed": true,
        "id": "36mTe5BaOqij"
      },
      "source": [
        "my_dic = {'AAPL':'AAPLE', 'FB':'FaceBook', 'GOOG':'Alphabet'}"
      ],
      "execution_count": null,
      "outputs": []
    },
    {
      "cell_type": "code",
      "metadata": {
        "collapsed": true,
        "id": "QBhGI2l2N0Bh"
      },
      "source": [
        "my_dic = {'AAPL':'AAPLE', 'FB':'FaceBook', 'GOOG':'Alphabet', 'keyMYDIC': 'Mi diccionario'}"
      ],
      "execution_count": 24,
      "outputs": []
    },
    {
      "cell_type": "code",
      "metadata": {
        "colab": {
          "base_uri": "https://localhost:8080/"
        },
        "id": "KUfdVf43Oqij",
        "outputId": "4295a710-1edd-4b8c-b1fd-2610cfbf9146"
      },
      "source": [
        "print(my_dic['GOOG'])"
      ],
      "execution_count": null,
      "outputs": [
        {
          "output_type": "stream",
          "name": "stdout",
          "text": [
            "Alphabet\n"
          ]
        }
      ]
    },
    {
      "cell_type": "code",
      "metadata": {
        "colab": {
          "base_uri": "https://localhost:8080/"
        },
        "id": "cxNHAvsvOINh",
        "outputId": "e94fcd38-f149-4423-b834-b05fcd910b58"
      },
      "source": [
        "print(my_dic['keyMYDIC'])"
      ],
      "execution_count": 25,
      "outputs": [
        {
          "output_type": "stream",
          "name": "stdout",
          "text": [
            "Mi diccionario\n"
          ]
        }
      ]
    },
    {
      "cell_type": "markdown",
      "metadata": {
        "id": "gSicoNqDWP4c"
      },
      "source": [
        "After defining a dictionary, we can access any value by indicating its key in brackets."
      ]
    },
    {
      "cell_type": "code",
      "metadata": {
        "colab": {
          "base_uri": "https://localhost:8080/"
        },
        "id": "IrTZdq9FOqij",
        "outputId": "d5ccdda2-e268-4fe7-b79a-05487f00cf0e"
      },
      "source": [
        "my_dic['GOOG'] = 'Alphabet Company'\n",
        "print(my_dic['GOOG'])"
      ],
      "execution_count": null,
      "outputs": [
        {
          "output_type": "stream",
          "name": "stdout",
          "text": [
            "Alphabet Company\n"
          ]
        }
      ]
    },
    {
      "cell_type": "code",
      "metadata": {
        "colab": {
          "base_uri": "https://localhost:8080/"
        },
        "id": "0vua2H5iON_B",
        "outputId": "bb43d69b-f778-4e78-ba77-b6f1fc6b1b8b"
      },
      "source": [
        "my_dic['keyMYDIC'] = 'Valor cambiado ok'\n",
        "print(my_dic['keyMYDIC'])"
      ],
      "execution_count": 26,
      "outputs": [
        {
          "output_type": "stream",
          "name": "stdout",
          "text": [
            "Valor cambiado ok\n"
          ]
        }
      ]
    },
    {
      "cell_type": "markdown",
      "metadata": {
        "id": "M9sDsTEMWQvc"
      },
      "source": [
        "We can also change the value associated with a specified key:"
      ]
    },
    {
      "cell_type": "code",
      "metadata": {
        "colab": {
          "base_uri": "https://localhost:8080/"
        },
        "id": "lupRHf1_Oqij",
        "outputId": "315ce30c-459c-4a59-fef1-8844e30253bb"
      },
      "source": [
        "print(my_dic.keys())"
      ],
      "execution_count": null,
      "outputs": [
        {
          "output_type": "stream",
          "name": "stdout",
          "text": [
            "dict_keys(['AAPL', 'FB', 'GOOG'])\n"
          ]
        }
      ]
    },
    {
      "cell_type": "code",
      "metadata": {
        "colab": {
          "base_uri": "https://localhost:8080/"
        },
        "id": "mKJVQ4hTOaUy",
        "outputId": "f0dd2885-c718-4f3a-acb2-f7f9ddeedb2e"
      },
      "source": [
        " print(my_dic.keys())"
      ],
      "execution_count": 27,
      "outputs": [
        {
          "output_type": "stream",
          "name": "stdout",
          "text": [
            "dict_keys(['AAPL', 'FB', 'GOOG', 'keyMYDIC'])\n"
          ]
        }
      ]
    },
    {
      "cell_type": "markdown",
      "metadata": {
        "id": "VPuDinlwWS9D"
      },
      "source": [
        "The built-in method of the dictionary object dict.keys() returns a list of all the keys used in the dictionary."
      ]
    },
    {
      "cell_type": "markdown",
      "metadata": {
        "id": "kSGzgNb2Womz"
      },
      "source": [
        "# Common String Operations\n",
        "A string is an immutable sequence of characters. It can be sliced by index just like a tuple:"
      ]
    },
    {
      "cell_type": "code",
      "metadata": {
        "colab": {
          "base_uri": "https://localhost:8080/"
        },
        "id": "xPojDnm9Oqik",
        "outputId": "6566c80c-e15d-4a63-e34a-6e3c9393d71e"
      },
      "source": [
        "my_str = 'Welcome to QuantConnect'\n",
        "print(my_str[8:])"
      ],
      "execution_count": null,
      "outputs": [
        {
          "output_type": "stream",
          "name": "stdout",
          "text": [
            "to QuantConnect\n"
          ]
        }
      ]
    },
    {
      "cell_type": "code",
      "metadata": {
        "colab": {
          "base_uri": "https://localhost:8080/"
        },
        "id": "KFHVFPPbeNbT",
        "outputId": "fd24e0bf-1823-48ae-ecb0-fd6e76642911"
      },
      "source": [
        "my_str = 'Welcome to QuantConnect'\n",
        "print(my_str[3:])"
      ],
      "execution_count": 28,
      "outputs": [
        {
          "output_type": "stream",
          "name": "stdout",
          "text": [
            "come to QuantConnect\n"
          ]
        }
      ]
    },
    {
      "cell_type": "markdown",
      "metadata": {
        "id": "wuJYy7tvWtM7"
      },
      "source": [
        "There are many methods associated with strings. We can use string.count() to count the occurrences of a character in a string, use string.find() to return the index of a specific character, and use string.replace() to replace characters"
      ]
    },
    {
      "cell_type": "code",
      "metadata": {
        "colab": {
          "base_uri": "https://localhost:8080/"
        },
        "id": "u9deZq1SOqik",
        "outputId": "76dd7ace-0e6c-4768-f67d-4eaeac8d5bd8"
      },
      "source": [
        "print('Counting the number of e appears in this sentence'.count('e'))\n",
        "print('The first time e appears in this sentence'.find('e'))\n",
        "print('all the a in this sentence now becomes e'.replace('a','e'))"
      ],
      "execution_count": null,
      "outputs": [
        {
          "output_type": "stream",
          "name": "stdout",
          "text": [
            "7\n",
            "2\n",
            "ell the e in this sentence now becomes e\n"
          ]
        }
      ]
    },
    {
      "cell_type": "code",
      "metadata": {
        "colab": {
          "base_uri": "https://localhost:8080/"
        },
        "id": "bLWXc3okeRph",
        "outputId": "e6ce1554-8a23-4b9a-b543-d85a8b4f8ee9"
      },
      "source": [
        "print('Counting the number of e appears in this sentence'.count('n'))\n",
        "print('The first time e appears in this sentence'.find('a'))\n",
        "print('all the a in this sentence now becomes e'.replace('e','u'))"
      ],
      "execution_count": 29,
      "outputs": [
        {
          "output_type": "stream",
          "name": "stdout",
          "text": [
            "6\n",
            "17\n",
            "all thu a in this suntuncu now bucomus u\n"
          ]
        }
      ]
    },
    {
      "cell_type": "markdown",
      "metadata": {
        "id": "sJPn3rkvWwHN"
      },
      "source": [
        "The most commonly used method for strings is string.split(). This method will split the string by the indicated character and return a list:"
      ]
    },
    {
      "cell_type": "code",
      "metadata": {
        "colab": {
          "base_uri": "https://localhost:8080/"
        },
        "id": "hbIaFLFHOqik",
        "outputId": "e135eb46-22eb-4a87-8042-eed2ad79c828"
      },
      "source": [
        "Time = '2016-04-01 09:43:00'\n",
        "splited_list = Time.split(' ')\n",
        "date = splited_list[0]\n",
        "time = splited_list[1]\n",
        "print(date, time)\n",
        "hour = time.split(':')[0]\n",
        "print(hour)"
      ],
      "execution_count": null,
      "outputs": [
        {
          "output_type": "stream",
          "name": "stdout",
          "text": [
            "2016-04-01 09:43:00\n",
            "09\n"
          ]
        }
      ]
    },
    {
      "cell_type": "code",
      "metadata": {
        "colab": {
          "base_uri": "https://localhost:8080/"
        },
        "id": "RPrSUa_mecfF",
        "outputId": "0a7caf3f-a853-4b7a-abf5-1b852a88d949"
      },
      "source": [
        "Time = '2021-04-01 08:24:00'\n",
        "splited_list = Time.split(' ')\n",
        "date = splited_list[0]\n",
        "time = splited_list[1]\n",
        "print(date, time)\n",
        "hour = time.split(':')[0]\n",
        "print(hour)"
      ],
      "execution_count": 30,
      "outputs": [
        {
          "output_type": "stream",
          "name": "stdout",
          "text": [
            "2021-04-01 08:24:00\n",
            "08\n"
          ]
        }
      ]
    },
    {
      "cell_type": "markdown",
      "metadata": {
        "id": "9cJQGk96WyVc"
      },
      "source": [
        "We can replace parts of a string by our variable. This is called string formatting."
      ]
    },
    {
      "cell_type": "code",
      "metadata": {
        "colab": {
          "base_uri": "https://localhost:8080/"
        },
        "id": "-E_rIvv6Oqik",
        "outputId": "3e9fdbb8-2196-4b86-8ec1-b4536544de01"
      },
      "source": [
        "my_time = 'Hour: {}, Minute:{}'.format('09','43')\n",
        "print(my_time)"
      ],
      "execution_count": 42,
      "outputs": [
        {
          "output_type": "stream",
          "name": "stdout",
          "text": [
            "Hour: 09, Minute:43\n"
          ]
        }
      ]
    },
    {
      "cell_type": "code",
      "metadata": {
        "colab": {
          "base_uri": "https://localhost:8080/"
        },
        "id": "nmXyL5jrelRh",
        "outputId": "73b24514-915a-421a-9fc6-0fabb0dd987a"
      },
      "source": [
        "my_time = 'Hour: {}, Minute:{}'.format('08','40')\n",
        "print(my_time)"
      ],
      "execution_count": 31,
      "outputs": [
        {
          "output_type": "stream",
          "name": "stdout",
          "text": [
            "Hour: 08, Minute:40\n"
          ]
        }
      ]
    },
    {
      "cell_type": "markdown",
      "metadata": {
        "id": "1_NbVldpWzAs"
      },
      "source": [
        "Another way to format a string is to use the % symbol."
      ]
    },
    {
      "cell_type": "code",
      "metadata": {
        "colab": {
          "base_uri": "https://localhost:8080/"
        },
        "id": "4rZ4rkD2Oqik",
        "outputId": "cd5d93b8-56d7-4406-9c43-d84144bded85"
      },
      "source": [
        "print('the pi number is %f'%3.14)\n",
        "print('%s to %s'%('Welcome','Quantconnect'))"
      ],
      "execution_count": null,
      "outputs": [
        {
          "output_type": "stream",
          "name": "stdout",
          "text": [
            "the pi number is 3.140000\n",
            "Welcome to Quantconnect\n"
          ]
        }
      ]
    },
    {
      "cell_type": "code",
      "metadata": {
        "colab": {
          "base_uri": "https://localhost:8080/"
        },
        "id": "M2rM-4eCe56S",
        "outputId": "7df2e1dd-a2b2-423d-f166-5cf5c6e4b91b"
      },
      "source": [
        "print('the pi number is %f'%3.14)\n",
        "print('%s to %s'%('Welcome','GoogleColab'))\n",
        "print('%s to %s and %s'%('Welcome','GoogleColab', 'QuantConnect'))"
      ],
      "execution_count": 32,
      "outputs": [
        {
          "output_type": "stream",
          "name": "stdout",
          "text": [
            "the pi number is 3.140000\n",
            "Welcome to GoogleColab\n",
            "Welcome to GoogleColab and QuantConnect\n"
          ]
        }
      ]
    },
    {
      "cell_type": "markdown",
      "metadata": {
        "id": "v_5cocrDW3MN"
      },
      "source": [
        "# Summary\n",
        "\n",
        "Weave seen the basic data types and data structures in Python. It's important to keep practicing to become familiar with these data structures. In the next tutorial, we will cover for and while loops and logical operations in Python."
      ]
    },
    {
      "cell_type": "markdown",
      "metadata": {
        "id": "QL6dNxwCXNEt"
      },
      "source": [
        "<div align=\"center\">\n",
        "<img style=\"display: block; margin: auto;\" alt=\"photo\" src=\"https://cdn.quantconnect.com/web/i/icon.png\">\n",
        "\n",
        "Quantconnect\n",
        "\n",
        "Introduction to Financial Python\n",
        "</div>\n",
        "\n",
        "# 02 Logical Operations and Loops\n",
        "\n",
        "# Introduction\n",
        "We discussed the basic data types and data structures in Python in the last tutorial. This chapter covers logical operations and loops in Python, which are very common in programming.\n",
        "\n",
        "# Logical Operations\n",
        "Like most programming languages, Python has comparison operators:"
      ]
    },
    {
      "cell_type": "code",
      "metadata": {
        "colab": {
          "base_uri": "https://localhost:8080/"
        },
        "id": "70Guys_rOv7a",
        "outputId": "220ac34e-d9dd-4a30-9400-0fd74d9a0158"
      },
      "source": [
        "print(1 == 0)\n",
        "print(1 == 1)\n",
        "print(1 != 0)\n",
        "print(5 >= 5)\n",
        "print(5 >= 6)"
      ],
      "execution_count": null,
      "outputs": [
        {
          "output_type": "stream",
          "name": "stdout",
          "text": [
            "False\n",
            "True\n",
            "True\n",
            "True\n",
            "False\n"
          ]
        }
      ]
    },
    {
      "cell_type": "code",
      "metadata": {
        "colab": {
          "base_uri": "https://localhost:8080/"
        },
        "id": "QxmYD3RRfTm7",
        "outputId": "b514eeaf-d74d-416c-8603-298aac52a8e7"
      },
      "source": [
        "print(1 == 1)\n",
        "print(1 == 5)\n",
        "print(1 != 1)\n",
        "print(5 >= 9)\n",
        "print(6 >= 6)"
      ],
      "execution_count": 33,
      "outputs": [
        {
          "output_type": "stream",
          "name": "stdout",
          "text": [
            "True\n",
            "False\n",
            "False\n",
            "False\n",
            "True\n"
          ]
        }
      ]
    },
    {
      "cell_type": "markdown",
      "metadata": {
        "id": "8aFHYDj-YTXt"
      },
      "source": [
        "Each statement above has a boolean value, which must be either True or False, but not both.\n",
        "\n",
        "We can combine simple statements P and Q to form complex statements using logical operators:\n",
        "\n",
        "- The statement \"P and Q\" is true if both P and Q are true, otherwise it is false.\n",
        "- The statement \"P or Q\" is false if both P and Q are false, otherwise it is true.\n",
        "- The statement \"not P\" is true if P is false, and vice versa."
      ]
    },
    {
      "cell_type": "code",
      "metadata": {
        "colab": {
          "base_uri": "https://localhost:8080/"
        },
        "id": "O5YEEcUbOv7d",
        "outputId": "b0b66a4b-5e0b-493a-912d-ea3970a5026c"
      },
      "source": [
        "print(2 > 1 and 3 > 2)\n",
        "print(2 > 1 and 3 < 2) \n",
        "print(2 > 1 or 3 < 2)\n",
        "print(2 < 1 and 3 < 2)"
      ],
      "execution_count": null,
      "outputs": [
        {
          "output_type": "stream",
          "name": "stdout",
          "text": [
            "True\n",
            "False\n",
            "True\n",
            "False\n"
          ]
        }
      ]
    },
    {
      "cell_type": "code",
      "metadata": {
        "colab": {
          "base_uri": "https://localhost:8080/"
        },
        "id": "alDUQGXVfd1D",
        "outputId": "2a644fd6-c6d0-4f25-eb00-ca672924e96f"
      },
      "source": [
        "print(2 > 1 and 3 > 4)\n",
        "print(3 > 1 and 3 < 2) \n",
        "print(1 > 1 or 3 < 2)\n",
        "print(6 < 1 and 3 < 2)"
      ],
      "execution_count": 34,
      "outputs": [
        {
          "output_type": "stream",
          "name": "stdout",
          "text": [
            "False\n",
            "False\n",
            "False\n",
            "False\n"
          ]
        }
      ]
    },
    {
      "cell_type": "markdown",
      "metadata": {
        "id": "Dy7yzoSXYXmL"
      },
      "source": [
        "When dealing with a very complex logical statement that involves in several statements, we can use brackets to separate and combine them."
      ]
    },
    {
      "cell_type": "code",
      "metadata": {
        "colab": {
          "base_uri": "https://localhost:8080/"
        },
        "id": "QZ-W2xJZOv7d",
        "outputId": "25b7e3d0-7d41-4af4-ade3-bb35f2d469b9"
      },
      "source": [
        "print((3 > 2 or 1 < 3) and (1!=3 and 4>3) and not ( 3 < 2 or 1 < 3 and (1!=3 and 4>3)))\n",
        "print(3 > 2 or 1 < 3 and (1!=3 and 4>3) and not ( 3 < 2 or 1 < 3 and (1!=3 and 4>3)))"
      ],
      "execution_count": null,
      "outputs": [
        {
          "output_type": "stream",
          "name": "stdout",
          "text": [
            "False\n",
            "True\n"
          ]
        }
      ]
    },
    {
      "cell_type": "code",
      "metadata": {
        "colab": {
          "base_uri": "https://localhost:8080/"
        },
        "id": "qGpuB-rtflvP",
        "outputId": "d9f1f966-f103-47ab-8ab1-46ff8e975658"
      },
      "source": [
        "print((4 > 2 or 2 < 3) and (1!=3 and 4>3) and not ( 3 < 2 or 1 < 3 and (1!=3 and 4>3)))\n",
        "print(3 > 2 or 1 < 3 and (4!=3 and 4>3) and not ( 3 < 2 or 1 < 3 and (1!=3 and 4>3)))"
      ],
      "execution_count": 35,
      "outputs": [
        {
          "output_type": "stream",
          "name": "stdout",
          "text": [
            "False\n",
            "True\n"
          ]
        }
      ]
    },
    {
      "cell_type": "markdown",
      "metadata": {
        "id": "s95xoRYMYaPD"
      },
      "source": [
        "Comparing the above two statements, we can see that it's wise to use brackets when we make a complex logical statement.\n",
        "\n",
        "# If Statement\n",
        "An if statement executes a segment of code only if its condition is true. A standard if statement consists of 3 segments: if, elif and else."
      ]
    },
    {
      "cell_type": "markdown",
      "metadata": {
        "id": "aRzMMitAaBOL"
      },
      "source": [
        "```python\n",
        "if statement1:\n",
        "    # if the statement1 is true, execute the code here.\n",
        "    # code.....\n",
        "    # code.....\n",
        "elif statement2:\n",
        "    # if the statement 1 is false, skip the codes above to this part.\n",
        "    # code......\n",
        "    # code......\n",
        "else:\n",
        "    # if none of the above statements is True, skip to this part\n",
        "    # code......\n",
        "```"
      ]
    },
    {
      "cell_type": "markdown",
      "metadata": {
        "id": "l59R2AS8aH2K"
      },
      "source": [
        "An if statement doesn't necessarily has elif and else part. If it's not specified, the indented block of code will be executed when the condition is true, otherwise the whole if statement will be skipped."
      ]
    },
    {
      "cell_type": "code",
      "metadata": {
        "colab": {
          "base_uri": "https://localhost:8080/"
        },
        "id": "FZ5GoTXfOv7e",
        "outputId": "3e491f24-5e60-4ae8-8708-6af02357a24f"
      },
      "source": [
        "i = 0\n",
        "if i == 0:\n",
        "    print('i==0 is True')"
      ],
      "execution_count": null,
      "outputs": [
        {
          "output_type": "stream",
          "name": "stdout",
          "text": [
            "i==0 is True\n"
          ]
        }
      ]
    },
    {
      "cell_type": "code",
      "metadata": {
        "colab": {
          "base_uri": "https://localhost:8080/"
        },
        "id": "sT6aPsH2fs0w",
        "outputId": "a6a562f5-7b47-4552-8ab6-3bb537ec2b12"
      },
      "source": [
        "i = 1\n",
        "if i == 1:\n",
        "    print('i==1 is True')"
      ],
      "execution_count": 36,
      "outputs": [
        {
          "output_type": "stream",
          "name": "stdout",
          "text": [
            "i==1 is True\n"
          ]
        }
      ]
    },
    {
      "cell_type": "markdown",
      "metadata": {
        "id": "nPNW-l5eaJn8"
      },
      "source": [
        "As we mentioned above, we can write some complex statements here:"
      ]
    },
    {
      "cell_type": "code",
      "metadata": {
        "colab": {
          "base_uri": "https://localhost:8080/"
        },
        "id": "gh-U6nMzOv7e",
        "outputId": "278c09cc-10be-4372-f22e-29c1a5ee5f8b"
      },
      "source": [
        "p = 1 > 0\n",
        "q = 2 > 3\n",
        "if p and q:\n",
        "    print('p and q is true')\n",
        "elif p and not q:\n",
        "    print('q is false')\n",
        "elif q and not p:\n",
        "    print('p is false')\n",
        "else:\n",
        "    print('None of p and q is true')"
      ],
      "execution_count": null,
      "outputs": [
        {
          "output_type": "stream",
          "name": "stdout",
          "text": [
            "q is false\n"
          ]
        }
      ]
    },
    {
      "cell_type": "code",
      "metadata": {
        "colab": {
          "base_uri": "https://localhost:8080/"
        },
        "id": "zFbq8ekWf3Mi",
        "outputId": "6a379422-fb3e-48ec-a252-6179174337cb"
      },
      "source": [
        "p = 2 > 0\n",
        "q = 3 > 3\n",
        "if p and q:\n",
        "    print('p and q is true')\n",
        "elif p and not q:\n",
        "    print('q is false')\n",
        "elif q and not p:\n",
        "    print('p is false')\n",
        "else:\n",
        "    print('None of p and q is true')"
      ],
      "execution_count": 37,
      "outputs": [
        {
          "output_type": "stream",
          "name": "stdout",
          "text": [
            "q is false\n"
          ]
        }
      ]
    },
    {
      "cell_type": "markdown",
      "metadata": {
        "id": "tgRDwiAsaMOL"
      },
      "source": [
        "# Loop Structure\n",
        "Loops are an essential part of programming. The \"for\" and \"while\" loops run a block of code repeatedly.\n",
        "\n",
        "## While Loop\n",
        "A \"while\" loop will run repeatedly until a certain condition has been met."
      ]
    },
    {
      "cell_type": "code",
      "metadata": {
        "colab": {
          "base_uri": "https://localhost:8080/"
        },
        "id": "uQLau8d5Ov7f",
        "outputId": "aa7e27c1-cbf5-4347-89fb-a2b9558c5e78"
      },
      "source": [
        "i = 0\n",
        "while i < 5:\n",
        "    print(i)\n",
        "    i += 1 "
      ],
      "execution_count": null,
      "outputs": [
        {
          "output_type": "stream",
          "name": "stdout",
          "text": [
            "0\n",
            "1\n",
            "2\n",
            "3\n",
            "4\n"
          ]
        }
      ]
    },
    {
      "cell_type": "code",
      "metadata": {
        "colab": {
          "base_uri": "https://localhost:8080/"
        },
        "id": "MXCcllVvf_aR",
        "outputId": "5f060999-c04f-406b-fe76-149e8a873eeb"
      },
      "source": [
        "i = 0\n",
        "while i < 20:\n",
        "    print(i)\n",
        "    i += 1 "
      ],
      "execution_count": 38,
      "outputs": [
        {
          "output_type": "stream",
          "name": "stdout",
          "text": [
            "0\n",
            "1\n",
            "2\n",
            "3\n",
            "4\n",
            "5\n",
            "6\n",
            "7\n",
            "8\n",
            "9\n",
            "10\n",
            "11\n",
            "12\n",
            "13\n",
            "14\n",
            "15\n",
            "16\n",
            "17\n",
            "18\n",
            "19\n"
          ]
        }
      ]
    },
    {
      "cell_type": "markdown",
      "metadata": {
        "id": "ydLddFAPaTOE"
      },
      "source": [
        "When making a while loop, we need to ensure that something changes from iteration to iteration so that the while loop will terminate, otherwise, it will run forever. Here we used i += 1 (short for i = i + 1) to make i larger after each iteration. This is the most commonly used method to control a while loop.\n",
        "\n",
        "## For Loop\n",
        "A \"for\" loop will iterate over a sequence of value and terminate when the sequence has ended."
      ]
    },
    {
      "cell_type": "code",
      "metadata": {
        "colab": {
          "base_uri": "https://localhost:8080/"
        },
        "id": "kt8Ie8u1Ov7f",
        "outputId": "3e598608-0d6f-4e1c-b3fc-34d06ff14eb8"
      },
      "source": [
        "for i in [1,2,3,4,5]:\n",
        "    print(i)"
      ],
      "execution_count": null,
      "outputs": [
        {
          "output_type": "stream",
          "name": "stdout",
          "text": [
            "1\n",
            "2\n",
            "3\n",
            "4\n",
            "5\n"
          ]
        }
      ]
    },
    {
      "cell_type": "code",
      "metadata": {
        "colab": {
          "base_uri": "https://localhost:8080/"
        },
        "id": "LyhWrL5xgM0S",
        "outputId": "f9bd85a8-fe9c-4196-9e0c-7d98ae526d97"
      },
      "source": [
        "for i in [1,2,3,4,5,11,55,22]:\n",
        "    print(i)"
      ],
      "execution_count": 39,
      "outputs": [
        {
          "output_type": "stream",
          "name": "stdout",
          "text": [
            "1\n",
            "2\n",
            "3\n",
            "4\n",
            "5\n",
            "11\n",
            "55\n",
            "22\n"
          ]
        }
      ]
    },
    {
      "cell_type": "markdown",
      "metadata": {
        "id": "yWStqpreaX-T"
      },
      "source": [
        "We can also add if statements in a for loop. Here is a real example from our pairs trading algorithm:"
      ]
    },
    {
      "cell_type": "code",
      "metadata": {
        "colab": {
          "base_uri": "https://localhost:8080/"
        },
        "id": "kElmffvFOv7f",
        "outputId": "6161e9da-cf62-44a5-fa80-ad45276473f7"
      },
      "source": [
        "stocks = ['AAPL','GOOG','IBM','FB','F','V', 'G', 'GE']\n",
        "selected = ['AAPL','IBM']\n",
        "new_list = []\n",
        "for i in stocks:\n",
        "    if i not in selected:\n",
        "        new_list.append(i)\n",
        "print(stocks)"
      ],
      "execution_count": null,
      "outputs": [
        {
          "output_type": "stream",
          "name": "stdout",
          "text": [
            "['AAPL', 'GOOG', 'IBM', 'FB', 'F', 'V', 'G', 'GE']\n"
          ]
        }
      ]
    },
    {
      "cell_type": "code",
      "metadata": {
        "colab": {
          "base_uri": "https://localhost:8080/"
        },
        "id": "ECYqSZ5tgVLB",
        "outputId": "5abc9a0a-24ad-4b18-dde2-05705b6558ed"
      },
      "source": [
        "stocks = ['AAPL','GOOG','IBM','FB','F','V', 'G', 'GE']\n",
        "selected = ['AAPL','FB']\n",
        "new_list = []\n",
        "for i in stocks:\n",
        "    if i not in selected:\n",
        "        new_list.append(i)\n",
        "print(stocks)"
      ],
      "execution_count": 40,
      "outputs": [
        {
          "output_type": "stream",
          "name": "stdout",
          "text": [
            "['AAPL', 'GOOG', 'IBM', 'FB', 'F', 'V', 'G', 'GE']\n"
          ]
        }
      ]
    },
    {
      "cell_type": "markdown",
      "metadata": {
        "id": "wb2hry9dahE0"
      },
      "source": [
        "Here we iterated all the elements in the list 'stocks'. Later in this chapter, we will introduce a smarter way to do this, which is just a one-line code.\n",
        "\n",
        "## Break and continue\n",
        "These are two commonly used commands in a for loop. If \"break\" is triggered while a loop is executing, the loop will terminate immediately:"
      ]
    },
    {
      "cell_type": "code",
      "metadata": {
        "colab": {
          "base_uri": "https://localhost:8080/"
        },
        "id": "yF5wMVItOv7g",
        "outputId": "2eb40fb9-fe33-4936-b6dd-84614f6dcba9"
      },
      "source": [
        "stocks = ['AAPL','GOOG','IBM','FB','F','V', 'G', 'GE']\n",
        "for i in stocks:\n",
        "    print(i)\n",
        "    if i == 'FB':\n",
        "        break"
      ],
      "execution_count": null,
      "outputs": [
        {
          "output_type": "stream",
          "name": "stdout",
          "text": [
            "AAPL\n",
            "GOOG\n",
            "IBM\n",
            "FB\n"
          ]
        }
      ]
    },
    {
      "cell_type": "code",
      "metadata": {
        "colab": {
          "base_uri": "https://localhost:8080/"
        },
        "id": "b7LD145wggFp",
        "outputId": "12aab34f-d83d-431b-b01f-86a01a2ad291"
      },
      "source": [
        "stocks = ['AAPL','GOOG','IBM','FB','F','V', 'G', 'GE']\n",
        "for i in stocks:\n",
        "    print(i)\n",
        "    if i == 'GOOG':\n",
        "        break"
      ],
      "execution_count": 41,
      "outputs": [
        {
          "output_type": "stream",
          "name": "stdout",
          "text": [
            "AAPL\n",
            "GOOG\n"
          ]
        }
      ]
    },
    {
      "cell_type": "markdown",
      "metadata": {
        "id": "R0toxyp3ao0T"
      },
      "source": [
        "The \"continue\" command tells the loop to end this iteration and skip to the next iteration:"
      ]
    },
    {
      "cell_type": "code",
      "metadata": {
        "colab": {
          "base_uri": "https://localhost:8080/"
        },
        "id": "Stg-CH6IOv7g",
        "outputId": "7bff9c13-2d53-4ccc-e070-f4de7234d8cf"
      },
      "source": [
        "stocks = ['AAPL','GOOG','IBM','FB','F','V', 'G', 'GE']\n",
        "for i in stocks:\n",
        "    if i == 'FB':\n",
        "        continue\n",
        "    print(i)"
      ],
      "execution_count": null,
      "outputs": [
        {
          "output_type": "stream",
          "name": "stdout",
          "text": [
            "AAPL\n",
            "GOOG\n",
            "IBM\n",
            "F\n",
            "V\n",
            "G\n",
            "GE\n"
          ]
        }
      ]
    },
    {
      "cell_type": "code",
      "metadata": {
        "colab": {
          "base_uri": "https://localhost:8080/"
        },
        "id": "moarn3aZg5Fi",
        "outputId": "fda5b9cd-8034-4bdd-b872-b5e1e56fd44b"
      },
      "source": [
        "stocks = ['AAPL','GOOG','IBM','FB','F','V', 'G', 'GE']\n",
        "for i in stocks:\n",
        "    if i == 'IBM':\n",
        "        continue\n",
        "    print(i)"
      ],
      "execution_count": 42,
      "outputs": [
        {
          "output_type": "stream",
          "name": "stdout",
          "text": [
            "AAPL\n",
            "GOOG\n",
            "FB\n",
            "F\n",
            "V\n",
            "G\n",
            "GE\n"
          ]
        }
      ]
    },
    {
      "cell_type": "markdown",
      "metadata": {
        "id": "4NusvdhBaxpZ"
      },
      "source": [
        "# List Comprehension\n",
        "List comprehension is a Pythonic way to create lists. Common applications are to make new lists where each element is the result of some operations applied to each member of another sequence. For example, if we want to create a list of squares using for loop:"
      ]
    },
    {
      "cell_type": "code",
      "metadata": {
        "colab": {
          "base_uri": "https://localhost:8080/"
        },
        "id": "bdxxeOABOv7h",
        "outputId": "4c976f98-d139-4d13-afbf-4b2f45a6698e"
      },
      "source": [
        "squares = []\n",
        "for i in [1,2,3,4,5]:\n",
        "    squares.append(i**2)\n",
        "print(squares)"
      ],
      "execution_count": null,
      "outputs": [
        {
          "output_type": "stream",
          "name": "stdout",
          "text": [
            "[1, 4, 9, 16, 25]\n"
          ]
        }
      ]
    },
    {
      "cell_type": "code",
      "metadata": {
        "colab": {
          "base_uri": "https://localhost:8080/"
        },
        "id": "R-pBCYMbg9rp",
        "outputId": "5c98f4fe-0622-4bb5-df28-31c06f780237"
      },
      "source": [
        "squares = []\n",
        "for i in [1,2,3,4,5, 123, 435]:\n",
        "    squares.append(i**10)\n",
        "print(squares)"
      ],
      "execution_count": 43,
      "outputs": [
        {
          "output_type": "stream",
          "name": "stdout",
          "text": [
            "[1, 1024, 59049, 1048576, 9765625, 792594609605189126649, 242600990421323914541015625]\n"
          ]
        }
      ]
    },
    {
      "cell_type": "markdown",
      "metadata": {
        "id": "--KliJBOa1CC"
      },
      "source": [
        "Using list comprehension:"
      ]
    },
    {
      "cell_type": "code",
      "metadata": {
        "colab": {
          "base_uri": "https://localhost:8080/"
        },
        "id": "440-yjG8Ov7h",
        "outputId": "69947293-8145-425e-da94-197658f07e4b"
      },
      "source": [
        "list = [1,2,3,4,5]\n",
        "squares = [x**2 for x in list]\n",
        "print(squares)"
      ],
      "execution_count": null,
      "outputs": [
        {
          "output_type": "stream",
          "name": "stdout",
          "text": [
            "[1, 4, 9, 16, 25]\n"
          ]
        }
      ]
    },
    {
      "cell_type": "code",
      "metadata": {
        "colab": {
          "base_uri": "https://localhost:8080/"
        },
        "id": "wsGo0ssMhNgC",
        "outputId": "a3898084-b4e8-468e-ff85-3b82fdaa71cc"
      },
      "source": [
        "list = [1,2,3,4,5, 123]\n",
        "squares = [x**12 for x in list]\n",
        "print(squares)"
      ],
      "execution_count": 44,
      "outputs": [
        {
          "output_type": "stream",
          "name": "stdout",
          "text": [
            "[1, 4096, 531441, 16777216, 244140625, 11991163848716906297072721]\n"
          ]
        }
      ]
    },
    {
      "cell_type": "markdown",
      "metadata": {
        "id": "uMuCfR3ya3zT"
      },
      "source": [
        "Recall the example above where we used a for loop to select stocks. Here we use list comprehension:"
      ]
    },
    {
      "cell_type": "code",
      "metadata": {
        "colab": {
          "base_uri": "https://localhost:8080/"
        },
        "id": "ZGtCtog2Ov7h",
        "outputId": "97ebb092-5c56-4e1b-ab4c-6486642252bb"
      },
      "source": [
        "stocks = ['AAPL','GOOG','IBM','FB','F','V', 'G', 'GE']\n",
        "selected = ['AAPL','IBM']\n",
        "new_list = [x for x in stocks if x in selected]\n",
        "print(new_list)"
      ],
      "execution_count": null,
      "outputs": [
        {
          "output_type": "stream",
          "name": "stdout",
          "text": [
            "['AAPL', 'IBM']\n"
          ]
        }
      ]
    },
    {
      "cell_type": "code",
      "metadata": {
        "colab": {
          "base_uri": "https://localhost:8080/"
        },
        "id": "DN0uZQpYhXL7",
        "outputId": "95ecf9ad-7592-4667-c0e8-752085878cec"
      },
      "source": [
        "stocks = ['AAPL','GOOG','IBM','FB','F','V', 'G', 'GE']\n",
        "selected = ['AAPL','G']\n",
        "new_list = [x for x in stocks if x in selected]\n",
        "print(new_list)"
      ],
      "execution_count": 45,
      "outputs": [
        {
          "output_type": "stream",
          "name": "stdout",
          "text": [
            "['AAPL', 'G']\n"
          ]
        }
      ]
    },
    {
      "cell_type": "markdown",
      "metadata": {
        "id": "EPeUv6Lia5oD"
      },
      "source": [
        "A list comprehension consists of square brackets containing an expression followed by a \"for\" clause, and possibly \"for\" or \"if\" clauses. For example:"
      ]
    },
    {
      "cell_type": "code",
      "metadata": {
        "colab": {
          "base_uri": "https://localhost:8080/"
        },
        "id": "O1AMB5d7Ov7i",
        "outputId": "3585c3be-f0d4-4340-fcb1-dcd256dc8504"
      },
      "source": [
        "print([(x, y) for x in [1,2,3] for y in [3,1,4] if x != y])\n",
        "print([str(x)+' vs '+str(y) for x in ['AAPL','GOOG','IBM','FB'] for y in ['F','V','G','GE'] if x!=y])"
      ],
      "execution_count": null,
      "outputs": [
        {
          "output_type": "stream",
          "name": "stdout",
          "text": [
            "[(1, 3), (1, 4), (2, 3), (2, 1), (2, 4), (3, 1), (3, 4)]\n",
            "['AAPL vs F', 'AAPL vs V', 'AAPL vs G', 'AAPL vs GE', 'GOOG vs F', 'GOOG vs V', 'GOOG vs G', 'GOOG vs GE', 'IBM vs F', 'IBM vs V', 'IBM vs G', 'IBM vs GE', 'FB vs F', 'FB vs V', 'FB vs G', 'FB vs GE']\n"
          ]
        }
      ]
    },
    {
      "cell_type": "code",
      "metadata": {
        "colab": {
          "base_uri": "https://localhost:8080/"
        },
        "id": "5jy4zX5yhkSx",
        "outputId": "0950801e-4550-4ffd-dcd9-da12fa923544"
      },
      "source": [
        "print([(x, y) for x in [1,5,3] for y in [3,1,4] if x != y])\n",
        "print([str(x)+' vs '+str(y) for x in ['AAPL','GOOG','IBM','FB'] for y in ['F','V','G','GE'] if x!=y])"
      ],
      "execution_count": 46,
      "outputs": [
        {
          "output_type": "stream",
          "name": "stdout",
          "text": [
            "[(1, 3), (1, 4), (5, 3), (5, 1), (5, 4), (3, 1), (3, 4)]\n",
            "['AAPL vs F', 'AAPL vs V', 'AAPL vs G', 'AAPL vs GE', 'GOOG vs F', 'GOOG vs V', 'GOOG vs G', 'GOOG vs GE', 'IBM vs F', 'IBM vs V', 'IBM vs G', 'IBM vs GE', 'FB vs F', 'FB vs V', 'FB vs G', 'FB vs GE']\n"
          ]
        }
      ]
    },
    {
      "cell_type": "markdown",
      "metadata": {
        "id": "jJpvq-o4a8P7"
      },
      "source": [
        "List comprehension is an elegant way to organize one or more for loops when creating a list.\n",
        "\n",
        "# Summary\n",
        "This chapter has introduced logical operations, loops, and list comprehension. In the next chapter, we will introduce functions and object-oriented programming, which will enable us to make our codes clean and versatile."
      ]
    },
    {
      "cell_type": "markdown",
      "metadata": {
        "id": "Tef_X2wJbdhn"
      },
      "source": [
        "<div align=\"center\">\n",
        "<img style=\"display: block; margin: auto;\" alt=\"photo\" src=\"https://cdn.quantconnect.com/web/i/icon.png\">\n",
        "\n",
        "Quantconnect\n",
        "\n",
        "Introduction to Financial Python\n",
        "</div>\n",
        "\n",
        "# 03 Functions and Objective-Oriented Programming\n",
        "\n",
        "# Introduction\n",
        "\n",
        "In the last tutorial we introduced logical operations, loops and list comprehension. We will introduce functions and object-oriented programming in this chapter, which will enable us to build complex algorithms in more flexible ways.\n",
        "\n",
        "# Functions\n",
        "A function is a reusable block of code. We can use a function to output a value, or do anything else we want. We can easily define our own function by using the keyword \"def\"."
      ]
    },
    {
      "cell_type": "code",
      "metadata": {
        "colab": {
          "base_uri": "https://localhost:8080/"
        },
        "id": "eE_NkTiSO2PO",
        "outputId": "d2492acb-e355-4f23-88eb-9a8a410aec5e"
      },
      "source": [
        "def product(x,y):\n",
        "    return x*y\n",
        "print(product(2,3))\n",
        "print(product(5,10))"
      ],
      "execution_count": null,
      "outputs": [
        {
          "output_type": "stream",
          "name": "stdout",
          "text": [
            "6\n",
            "50\n"
          ]
        }
      ]
    },
    {
      "cell_type": "code",
      "metadata": {
        "colab": {
          "base_uri": "https://localhost:8080/"
        },
        "id": "SW3fcYKUhqpp",
        "outputId": "c3460271-6af0-44b9-bde6-2a2b024d5293"
      },
      "source": [
        "def product(x,y):\n",
        "    return x+y\n",
        "print(product(2,3))\n",
        "print(product(5,10))"
      ],
      "execution_count": 47,
      "outputs": [
        {
          "output_type": "stream",
          "name": "stdout",
          "text": [
            "5\n",
            "15\n"
          ]
        }
      ]
    },
    {
      "cell_type": "markdown",
      "metadata": {
        "id": "4oRU_dVJbsdD"
      },
      "source": [
        "The keyword \"def\" is followed by the function name and the parenthesized list of formal parameters. The statements that form the body of the function start at the next line, and must be indented. The product() function above has \"x\" and \"y\" as its parameters. A function doesn't necessarily have parameters:"
      ]
    },
    {
      "cell_type": "code",
      "metadata": {
        "colab": {
          "base_uri": "https://localhost:8080/"
        },
        "id": "JhdWVLbUO2PQ",
        "outputId": "0c544747-1d2c-444f-cc68-81d53a29aa66"
      },
      "source": [
        "def say_hi():\n",
        "    print('Welcome to QuantConnect')\n",
        "say_hi()"
      ],
      "execution_count": null,
      "outputs": [
        {
          "output_type": "stream",
          "name": "stdout",
          "text": [
            "Welcome to QuantConnect\n"
          ]
        }
      ]
    },
    {
      "cell_type": "code",
      "metadata": {
        "colab": {
          "base_uri": "https://localhost:8080/"
        },
        "id": "HnGGJJuAhzLq",
        "outputId": "34e6a4b7-8cdb-4afd-e797-067510bf6846"
      },
      "source": [
        "def say_hi():\n",
        "    print('Welcome to QuantConnect AND GOOGLECOLAB')\n",
        "say_hi()"
      ],
      "execution_count": 48,
      "outputs": [
        {
          "output_type": "stream",
          "name": "stdout",
          "text": [
            "Welcome to QuantConnect AND GOOGLECOLAB\n"
          ]
        }
      ]
    },
    {
      "cell_type": "markdown",
      "metadata": {
        "id": "lHwqVpWVb1Jr"
      },
      "source": [
        "# Built-in Function\n",
        "**range()** is a function that creates a list containing an arithmetic sequence. It's often used in for loops. The arguments must be integers. If the \"step\" argument is omitted, it defaults to 1."
      ]
    },
    {
      "cell_type": "code",
      "metadata": {
        "colab": {
          "base_uri": "https://localhost:8080/"
        },
        "id": "VVOTELcIO2PQ",
        "outputId": "aa49027e-a8d9-4e49-af6b-e9524ba564b5"
      },
      "source": [
        "print(range(10))\n",
        "print(range(1,11))\n",
        "print(range(1,11,2))"
      ],
      "execution_count": null,
      "outputs": [
        {
          "output_type": "stream",
          "name": "stdout",
          "text": [
            "range(0, 10)\n",
            "range(1, 11)\n",
            "range(1, 11, 2)\n"
          ]
        }
      ]
    },
    {
      "cell_type": "code",
      "metadata": {
        "colab": {
          "base_uri": "https://localhost:8080/"
        },
        "id": "E0fgHX7zh5K5",
        "outputId": "1ef944f8-216a-481e-f230-c8539b59790f"
      },
      "source": [
        "print(range(5))\n",
        "print(range(1,21))\n",
        "print(range(1,11,2))"
      ],
      "execution_count": 49,
      "outputs": [
        {
          "output_type": "stream",
          "name": "stdout",
          "text": [
            "range(0, 5)\n",
            "range(1, 21)\n",
            "range(1, 11, 2)\n"
          ]
        }
      ]
    },
    {
      "cell_type": "markdown",
      "metadata": {
        "id": "PD0cSgiwcQ4L"
      },
      "source": [
        "**len()** is another function used together with range() to create a for loop. This function returns the length of an object. The argument must be a sequence or a collection."
      ]
    },
    {
      "cell_type": "code",
      "metadata": {
        "colab": {
          "base_uri": "https://localhost:8080/"
        },
        "id": "Hg18c7v-O2PR",
        "outputId": "c96a69f4-c7d1-41bb-e266-c8cacb3913b3"
      },
      "source": [
        "tickers = ['AAPL','GOOG','IBM','FB','F','V', 'G', 'GE']\n",
        "print('The length of tickers is {}'.format(len(tickers)))\n",
        "for i in range(len(tickers)):\n",
        "    print(tickers[i])"
      ],
      "execution_count": null,
      "outputs": [
        {
          "output_type": "stream",
          "name": "stdout",
          "text": [
            "The length of tickers is 8\n",
            "AAPL\n",
            "GOOG\n",
            "IBM\n",
            "FB\n",
            "F\n",
            "V\n",
            "G\n",
            "GE\n"
          ]
        }
      ]
    },
    {
      "cell_type": "code",
      "metadata": {
        "colab": {
          "base_uri": "https://localhost:8080/"
        },
        "id": "tJrLaQnBiRNy",
        "outputId": "1d3d63e1-bbce-4b5e-ee6a-9a1dabe8b51b"
      },
      "source": [
        "tickers = ['AAPL','GOOG','IBM','FB','F','V', 'G', 'GE', 'K', 'U']\n",
        "print('La longitud de los tickers es {}'.format(len(tickers)))\n",
        "for i in range(len(tickers)):\n",
        "    print(tickers[i])"
      ],
      "execution_count": 50,
      "outputs": [
        {
          "output_type": "stream",
          "name": "stdout",
          "text": [
            "La longitud de los tickers es 10\n",
            "AAPL\n",
            "GOOG\n",
            "IBM\n",
            "FB\n",
            "F\n",
            "V\n",
            "G\n",
            "GE\n",
            "K\n",
            "U\n"
          ]
        }
      ]
    },
    {
      "cell_type": "markdown",
      "metadata": {
        "id": "OIQSuub1cWgi"
      },
      "source": [
        "Note: If you want to print only the tickers without those numbers, then simply write \"for ticker in tickers: print ticker\"\n",
        "\n",
        "**map(**) is a function that applies a specific function to every item of a sequence or collection, and returns a list of the results."
      ]
    },
    {
      "cell_type": "markdown",
      "metadata": {
        "id": "pqPuspeG5HAi"
      },
      "source": [
        "Because list at the moment is [1,2,3,4,5] and overwriting list() from builtins we del list"
      ]
    },
    {
      "cell_type": "code",
      "metadata": {
        "colab": {
          "base_uri": "https://localhost:8080/"
        },
        "id": "caV9c-qk4_eZ",
        "outputId": "2d9cb757-2fd5-44e0-f801-e0f6c001e6ee"
      },
      "source": [
        "print(list)\n",
        "del list\n",
        "list"
      ],
      "execution_count": null,
      "outputs": [
        {
          "output_type": "stream",
          "name": "stdout",
          "text": [
            "[1, 2, 3, 4, 5]\n"
          ]
        },
        {
          "output_type": "execute_result",
          "data": {
            "text/plain": [
              "list"
            ]
          },
          "metadata": {},
          "execution_count": 46
        }
      ]
    },
    {
      "cell_type": "code",
      "metadata": {
        "colab": {
          "base_uri": "https://localhost:8080/"
        },
        "id": "G9vIY2cU0W7F",
        "outputId": "309bc3bf-df2b-4aa5-c613-ae8e135d4411"
      },
      "source": [
        "print(list)\n",
        "del list\n",
        "list"
      ],
      "execution_count": 51,
      "outputs": [
        {
          "output_type": "stream",
          "name": "stdout",
          "text": [
            "[1, 2, 3, 4, 5, 123]\n"
          ]
        },
        {
          "output_type": "execute_result",
          "data": {
            "text/plain": [
              "list"
            ]
          },
          "metadata": {},
          "execution_count": 51
        }
      ]
    },
    {
      "cell_type": "code",
      "metadata": {
        "colab": {
          "base_uri": "https://localhost:8080/"
        },
        "id": "lJBs5ECT4mSq",
        "outputId": "6345ac5e-8d86-43c6-8b28-5a3fd119f6fc"
      },
      "source": [
        "tickers = ['AAPL','GOOG','IBM','FB','F','V', 'G', 'GE']\n",
        "list(map(len,tickers))"
      ],
      "execution_count": 52,
      "outputs": [
        {
          "output_type": "execute_result",
          "data": {
            "text/plain": [
              "[4, 4, 3, 2, 1, 1, 1, 2]"
            ]
          },
          "metadata": {},
          "execution_count": 52
        }
      ]
    },
    {
      "cell_type": "code",
      "metadata": {
        "colab": {
          "base_uri": "https://localhost:8080/"
        },
        "id": "twqahDYNi9VZ",
        "outputId": "ff5e0cff-25af-4e85-b1b1-b264d055aeba"
      },
      "source": [
        "tickers = ['UP','GOOG','IBM','FB','F','V', 'G', 'GE']\n",
        "list(map(len,tickers))"
      ],
      "execution_count": 53,
      "outputs": [
        {
          "output_type": "execute_result",
          "data": {
            "text/plain": [
              "[2, 4, 3, 2, 1, 1, 1, 2]"
            ]
          },
          "metadata": {},
          "execution_count": 53
        }
      ]
    },
    {
      "cell_type": "code",
      "metadata": {
        "colab": {
          "base_uri": "https://localhost:8080/"
        },
        "id": "78DyKVOyO2PR",
        "outputId": "ba242d1c-0d0a-4a32-abb7-8d85aba7e318"
      },
      "source": [
        "tickers = ['AAPL','GOOG','IBM','FB','F','V', 'G', 'GE']\n",
        "print(list(map(len,tickers)))"
      ],
      "execution_count": 54,
      "outputs": [
        {
          "output_type": "stream",
          "name": "stdout",
          "text": [
            "[4, 4, 3, 2, 1, 1, 1, 2]\n"
          ]
        }
      ]
    },
    {
      "cell_type": "code",
      "metadata": {
        "colab": {
          "base_uri": "https://localhost:8080/"
        },
        "id": "Ko3QvonFjJyJ",
        "outputId": "18ba1b6f-7c8b-47d3-b937-67574693a88c"
      },
      "source": [
        "tickers = ['up','GOG','IBM','FB','F','V', 'G', 'GE']\n",
        "print(list(map(len,tickers)))"
      ],
      "execution_count": 55,
      "outputs": [
        {
          "output_type": "stream",
          "name": "stdout",
          "text": [
            "[2, 3, 3, 2, 1, 1, 1, 2]\n"
          ]
        }
      ]
    },
    {
      "cell_type": "markdown",
      "metadata": {
        "id": "mvr06UM7ca7b"
      },
      "source": [
        "The **lambda operator** is a way to create small anonymous functions. These functions are just needed where they have been created. For example:"
      ]
    },
    {
      "cell_type": "code",
      "metadata": {
        "colab": {
          "base_uri": "https://localhost:8080/"
        },
        "id": "pAEHADYXO2PR",
        "outputId": "4239b703-e019-4e73-f11f-32e876f2acdd"
      },
      "source": [
        "list(map(lambda x: x**2, range(10)))"
      ],
      "execution_count": 56,
      "outputs": [
        {
          "output_type": "execute_result",
          "data": {
            "text/plain": [
              "[0, 1, 4, 9, 16, 25, 36, 49, 64, 81]"
            ]
          },
          "metadata": {},
          "execution_count": 56
        }
      ]
    },
    {
      "cell_type": "code",
      "metadata": {
        "colab": {
          "base_uri": "https://localhost:8080/"
        },
        "id": "cGLmUkZKjYGx",
        "outputId": "a2813fd4-cecd-468b-b5b7-036d3732f707"
      },
      "source": [
        "list(map(lambda x: x**2, range(20)))"
      ],
      "execution_count": 57,
      "outputs": [
        {
          "output_type": "execute_result",
          "data": {
            "text/plain": [
              "[0,\n",
              " 1,\n",
              " 4,\n",
              " 9,\n",
              " 16,\n",
              " 25,\n",
              " 36,\n",
              " 49,\n",
              " 64,\n",
              " 81,\n",
              " 100,\n",
              " 121,\n",
              " 144,\n",
              " 169,\n",
              " 196,\n",
              " 225,\n",
              " 256,\n",
              " 289,\n",
              " 324,\n",
              " 361]"
            ]
          },
          "metadata": {},
          "execution_count": 57
        }
      ]
    },
    {
      "cell_type": "markdown",
      "metadata": {
        "id": "Mgixpxomcj3T"
      },
      "source": [
        "map() can be applied to more than one list. The lists have to have the same length."
      ]
    },
    {
      "cell_type": "code",
      "metadata": {
        "colab": {
          "base_uri": "https://localhost:8080/"
        },
        "id": "HtckhAaJO2PS",
        "outputId": "e155b918-ffcc-4427-c6f4-f5bee5b0d802"
      },
      "source": [
        "list(map(lambda x, y: x+y, [1,2,3,4,5],[5,4,3,2,1]))"
      ],
      "execution_count": 58,
      "outputs": [
        {
          "output_type": "execute_result",
          "data": {
            "text/plain": [
              "[6, 6, 6, 6, 6]"
            ]
          },
          "metadata": {},
          "execution_count": 58
        }
      ]
    },
    {
      "cell_type": "code",
      "metadata": {
        "colab": {
          "base_uri": "https://localhost:8080/"
        },
        "id": "Vw7JPt7zjcs4",
        "outputId": "ed9d2677-7431-4db0-db24-8c3442e8aa49"
      },
      "source": [
        "list(map(lambda x, y: x-y, [1,2,3,4,5],[5,4,3,2,1]))"
      ],
      "execution_count": 59,
      "outputs": [
        {
          "output_type": "execute_result",
          "data": {
            "text/plain": [
              "[-4, -2, 0, 2, 4]"
            ]
          },
          "metadata": {},
          "execution_count": 59
        }
      ]
    },
    {
      "cell_type": "markdown",
      "metadata": {
        "id": "ZDnMTH-KcklT"
      },
      "source": [
        "**sorted()** takes a list or set and returns a new sorted list"
      ]
    },
    {
      "cell_type": "code",
      "metadata": {
        "colab": {
          "base_uri": "https://localhost:8080/"
        },
        "id": "P0sHUMFWO2PS",
        "outputId": "10b7f0e1-297b-4145-9575-7d14963adfa2"
      },
      "source": [
        "sorted([5,2,3,4,1])"
      ],
      "execution_count": 60,
      "outputs": [
        {
          "output_type": "execute_result",
          "data": {
            "text/plain": [
              "[1, 2, 3, 4, 5]"
            ]
          },
          "metadata": {},
          "execution_count": 60
        }
      ]
    },
    {
      "cell_type": "code",
      "metadata": {
        "colab": {
          "base_uri": "https://localhost:8080/"
        },
        "id": "kgPO7SbRjlUg",
        "outputId": "c8cd655c-0523-4f75-d561-eaf1c0472350"
      },
      "source": [
        "sorted([6,8,5,2,3,4,1])"
      ],
      "execution_count": 61,
      "outputs": [
        {
          "output_type": "execute_result",
          "data": {
            "text/plain": [
              "[1, 2, 3, 4, 5, 6, 8]"
            ]
          },
          "metadata": {},
          "execution_count": 61
        }
      ]
    },
    {
      "cell_type": "markdown",
      "metadata": {
        "id": "-N5_EDOFcnsc"
      },
      "source": [
        "We can add a \"key\" parameter to specify a function to be called on each list element prior to making comparisons. For example:"
      ]
    },
    {
      "cell_type": "code",
      "metadata": {
        "colab": {
          "base_uri": "https://localhost:8080/"
        },
        "id": "0i3peZ0bO2PS",
        "outputId": "b855c734-b4e0-4514-9511-5f48650670c9"
      },
      "source": [
        "price_list = [('AAPL',144.09),('GOOG',911.71),('MSFT',69),('FB',150),('WMT',75.32)]\n",
        "sorted(price_list, key = lambda x: x[1])"
      ],
      "execution_count": 62,
      "outputs": [
        {
          "output_type": "execute_result",
          "data": {
            "text/plain": [
              "[('MSFT', 69), ('WMT', 75.32), ('AAPL', 144.09), ('FB', 150), ('GOOG', 911.71)]"
            ]
          },
          "metadata": {},
          "execution_count": 62
        }
      ]
    },
    {
      "cell_type": "code",
      "metadata": {
        "colab": {
          "base_uri": "https://localhost:8080/"
        },
        "id": "JOV6nnXNjxaO",
        "outputId": "2ae3fa3b-cd92-48a5-9c56-8431bc0785a6"
      },
      "source": [
        "price_list = [('AAPL',14.09),('GOOG',1.71),('MSFT',9),('FB',150),('WMT',75.32)]\n",
        "sorted(price_list, key = lambda x: x[1])"
      ],
      "execution_count": 63,
      "outputs": [
        {
          "output_type": "execute_result",
          "data": {
            "text/plain": [
              "[('GOOG', 1.71), ('MSFT', 9), ('AAPL', 14.09), ('WMT', 75.32), ('FB', 150)]"
            ]
          },
          "metadata": {},
          "execution_count": 63
        }
      ]
    },
    {
      "cell_type": "markdown",
      "metadata": {
        "id": "yun2zptKcxe_"
      },
      "source": [
        "By default the values are sorted by ascending order. We can change it to descending by adding an optional parameter \"reverse'."
      ]
    },
    {
      "cell_type": "code",
      "metadata": {
        "colab": {
          "base_uri": "https://localhost:8080/"
        },
        "id": "dEZqdl94O2PT",
        "outputId": "a06cce93-21c8-45da-c3b9-cabd74ed9fc8"
      },
      "source": [
        "price_list = [('AAPL',144.09),('GOOG',911.71),('MSFT',69),('FB',150),('WMT',75.32)]\n",
        "sorted(price_list, key = lambda x: x[1],reverse = True)"
      ],
      "execution_count": 64,
      "outputs": [
        {
          "output_type": "execute_result",
          "data": {
            "text/plain": [
              "[('GOOG', 911.71), ('FB', 150), ('AAPL', 144.09), ('WMT', 75.32), ('MSFT', 69)]"
            ]
          },
          "metadata": {},
          "execution_count": 64
        }
      ]
    },
    {
      "cell_type": "code",
      "metadata": {
        "colab": {
          "base_uri": "https://localhost:8080/"
        },
        "id": "warxLvRdj663",
        "outputId": "a4b34d1c-e379-458a-e7e0-902068524da1"
      },
      "source": [
        "price_list = [('AAPL',14.09),('GOOG',911.71),('MSFT',69),('FB',150),('WMT',5.32)]\n",
        "sorted(price_list, key = lambda x: x[1],reverse = True)"
      ],
      "execution_count": 65,
      "outputs": [
        {
          "output_type": "execute_result",
          "data": {
            "text/plain": [
              "[('GOOG', 911.71), ('FB', 150), ('MSFT', 69), ('AAPL', 14.09), ('WMT', 5.32)]"
            ]
          },
          "metadata": {},
          "execution_count": 65
        }
      ]
    },
    {
      "cell_type": "markdown",
      "metadata": {
        "id": "OA2wYAa0c6Dn"
      },
      "source": [
        "Lists also have a function list.sort(). This function takes the same \"key\" and \"reverse\" arguments as sorted(), but it doesn't return a new list."
      ]
    },
    {
      "cell_type": "code",
      "metadata": {
        "colab": {
          "base_uri": "https://localhost:8080/"
        },
        "id": "pG9VQCLnO2PT",
        "outputId": "92f3e66e-afbf-44fd-dfe2-0e77b4c08e95"
      },
      "source": [
        "price_list = [('AAPL',144.09),('GOOG',911.71),('MSFT',69),('FB',150),('WMT',75.32)]\n",
        "price_list.sort(key = lambda x: x[1])\n",
        "print(price_list)"
      ],
      "execution_count": 66,
      "outputs": [
        {
          "output_type": "stream",
          "name": "stdout",
          "text": [
            "[('MSFT', 69), ('WMT', 75.32), ('AAPL', 144.09), ('FB', 150), ('GOOG', 911.71)]\n"
          ]
        }
      ]
    },
    {
      "cell_type": "code",
      "metadata": {
        "colab": {
          "base_uri": "https://localhost:8080/"
        },
        "id": "2oTQGp0RkDcy",
        "outputId": "3c45d6f3-860f-4657-da96-f4ed4a7d77fc"
      },
      "source": [
        "price_list = [('PL',144.09),('OG',911.71),('MSFT',69),('FB',150),('WMT',75.32)]\n",
        "price_list.sort(key = lambda x: x[1])\n",
        "print(price_list)\n",
        "print(\"Ordena la lista por Valor\")"
      ],
      "execution_count": 67,
      "outputs": [
        {
          "output_type": "stream",
          "name": "stdout",
          "text": [
            "[('MSFT', 69), ('WMT', 75.32), ('PL', 144.09), ('FB', 150), ('OG', 911.71)]\n",
            "Ordena la lista por Valor\n"
          ]
        }
      ]
    },
    {
      "cell_type": "markdown",
      "metadata": {
        "id": "mxljL1W1c_c5"
      },
      "source": [
        "# Object-Oriented Programming\n",
        "Python is an object-oriented programming language. It's important to understand the concept of \"objects\" because almost every kind of data from QuantConnect API is an object.\n",
        "\n",
        "## Class\n",
        "A class is a type of data, just like a string, float, or list. When we create an object of that data type, we call it an instance of a class.\n",
        "\n",
        "In Python, everything is an object - everything is an instance of some class. The data stored inside an object are called attributes, and the functions which are associated with the object are called methods.\n",
        "\n",
        "For example, as mentioned above, a list is an object of the \"list\" class, and it has a method list.sort().\n",
        "\n",
        "We can create our own objects by defining a class. We would do this when it's helpful to group certain functions together. For example, we define a class named \"Stock\" here:"
      ]
    },
    {
      "cell_type": "code",
      "metadata": {
        "id": "zC4Y4PgDO2PT"
      },
      "source": [
        "class stock:\n",
        "    def __init__(self, ticker, open, close, volume):\n",
        "        self.ticker = ticker\n",
        "        self.open = open\n",
        "        self.close = close\n",
        "        self.volume = volume\n",
        "        self.rate_return = float(close)/open - 1\n",
        " \n",
        "    def update(self, open, close):\n",
        "        self.open = open\n",
        "        self.close = close\n",
        "        self.rate_return = float(self.close)/self.open - 1\n",
        " \n",
        "    def print_return(self):\n",
        "        print(self.rate_return)"
      ],
      "execution_count": 68,
      "outputs": []
    },
    {
      "cell_type": "code",
      "metadata": {
        "id": "sY_Li5H2qX0_"
      },
      "source": [
        "class stock:\n",
        "    def __init__(self, ticker, open, close, volume):\n",
        "        self.ticker = ticker\n",
        "        self.open = open\n",
        "        self.close = close\n",
        "        self.volume = volume\n",
        "        self.rate_return = float(close)/open - 1\n",
        " \n",
        "    def update(self, open, close):\n",
        "        self.open = open\n",
        "        self.close = close\n",
        "        self.rate_return = float(self.close)/self.open - 1\n",
        " \n",
        "    def print_return(self):\n",
        "        print(self.rate_return)"
      ],
      "execution_count": 69,
      "outputs": []
    },
    {
      "cell_type": "markdown",
      "metadata": {
        "id": "rV06INT5dETi"
      },
      "source": [
        "The \"Stock\" class has attributes \"ticker\", \"open\", \"close\", \"volume\" and \"rate_return\". Inside the class body, the first method is called __init__, which is a special method. When we create a new instance of the class, the __init__ method is immediately executed with all the parameters that we pass to the \"Stock\" object. The purpose of this method is to set up a new \"Stock\" object using data we have provided.\n",
        "\n",
        "Here we create two Stock objects named \"apple\" and \"google\"."
      ]
    },
    {
      "cell_type": "code",
      "metadata": {
        "id": "8tIpNk93O2PU"
      },
      "source": [
        "apple = stock('AAPL', 143.69, 144.09, 20109375)\n",
        "google = stock('GOOG', 898.7, 911.7, 1561616)"
      ],
      "execution_count": 70,
      "outputs": []
    },
    {
      "cell_type": "code",
      "metadata": {
        "id": "hZGY86oiqbNy"
      },
      "source": [
        "apple = stock('AAPL', 143.69, 144.09, 20109375)\n",
        "google = stock('GOOG', 898.7, 911.7, 1561616)"
      ],
      "execution_count": 71,
      "outputs": []
    },
    {
      "cell_type": "markdown",
      "metadata": {
        "id": "VxmELNiHdPKS"
      },
      "source": [
        "Stock objects also have two other methods: update() and print_return(). We can access the attribues of a Stock object and call its methods:"
      ]
    },
    {
      "cell_type": "code",
      "metadata": {
        "colab": {
          "base_uri": "https://localhost:8080/"
        },
        "id": "SsiIkmekO2PU",
        "outputId": "ca8907de-3b16-4ebc-dde3-7c65fb5b3aa2"
      },
      "source": [
        "apple.ticker\n",
        "google.print_return()\n",
        "google.update(911.8,911.4)\n",
        "google.print_return()"
      ],
      "execution_count": 72,
      "outputs": [
        {
          "output_type": "stream",
          "name": "stdout",
          "text": [
            "0.014465338822744034\n",
            "-0.00043869269576657377\n"
          ]
        }
      ]
    },
    {
      "cell_type": "code",
      "metadata": {
        "colab": {
          "base_uri": "https://localhost:8080/"
        },
        "id": "zDrWFmzlql93",
        "outputId": "6ed80b4b-19b6-4cd9-c8e6-7ca3a6b7ef8a"
      },
      "source": [
        "apple.ticker\n",
        "google.print_return()\n",
        "google.update(912.8,913.4)\n",
        "google.print_return()"
      ],
      "execution_count": 73,
      "outputs": [
        {
          "output_type": "stream",
          "name": "stdout",
          "text": [
            "-0.00043869269576657377\n",
            "0.0006573181419806673\n"
          ]
        }
      ]
    },
    {
      "cell_type": "markdown",
      "metadata": {
        "id": "Q8fl7keNdVKF"
      },
      "source": [
        "By calling the update() function, we updated the open and close prices of a stock. Please note that when we use the attributes or call the methods **inside a class**, we need to specify them as self.attribute or self.method(), otherwise Python will deem them as global variables and thus raise an error.\n",
        "\n",
        "We can add an attribute to an object anywhere:"
      ]
    },
    {
      "cell_type": "code",
      "metadata": {
        "colab": {
          "base_uri": "https://localhost:8080/",
          "height": 35
        },
        "id": "rO4OLnqOO2PU",
        "outputId": "39c39b8e-c076-4fde-9391-32630c4903f6"
      },
      "source": [
        "apple.ceo = 'Tim Cook'\n",
        "apple.ceo"
      ],
      "execution_count": 74,
      "outputs": [
        {
          "output_type": "execute_result",
          "data": {
            "application/vnd.google.colaboratory.intrinsic+json": {
              "type": "string"
            },
            "text/plain": [
              "'Tim Cook'"
            ]
          },
          "metadata": {},
          "execution_count": 74
        }
      ]
    },
    {
      "cell_type": "markdown",
      "metadata": {
        "id": "WyfnFgVidh4J"
      },
      "source": [
        "We can check what names (i.e. attributes and methods) are defined on an object using the dir() function:"
      ]
    },
    {
      "cell_type": "code",
      "metadata": {
        "colab": {
          "base_uri": "https://localhost:8080/",
          "height": 35
        },
        "id": "HTGBphnPrEIf",
        "outputId": "f8b08096-78c3-443b-ea5c-0a416fdb2a40"
      },
      "source": [
        "apple.ceo = 'New Tim Cook'\n",
        "apple.ceo"
      ],
      "execution_count": 75,
      "outputs": [
        {
          "output_type": "execute_result",
          "data": {
            "application/vnd.google.colaboratory.intrinsic+json": {
              "type": "string"
            },
            "text/plain": [
              "'New Tim Cook'"
            ]
          },
          "metadata": {},
          "execution_count": 75
        }
      ]
    },
    {
      "cell_type": "code",
      "metadata": {
        "colab": {
          "base_uri": "https://localhost:8080/"
        },
        "id": "pPoz0LA8O2PU",
        "outputId": "ae1098a8-e94d-4e2b-aad7-1403a848650c"
      },
      "source": [
        "dir(apple)"
      ],
      "execution_count": 76,
      "outputs": [
        {
          "output_type": "execute_result",
          "data": {
            "text/plain": [
              "['__class__',\n",
              " '__delattr__',\n",
              " '__dict__',\n",
              " '__dir__',\n",
              " '__doc__',\n",
              " '__eq__',\n",
              " '__format__',\n",
              " '__ge__',\n",
              " '__getattribute__',\n",
              " '__gt__',\n",
              " '__hash__',\n",
              " '__init__',\n",
              " '__init_subclass__',\n",
              " '__le__',\n",
              " '__lt__',\n",
              " '__module__',\n",
              " '__ne__',\n",
              " '__new__',\n",
              " '__reduce__',\n",
              " '__reduce_ex__',\n",
              " '__repr__',\n",
              " '__setattr__',\n",
              " '__sizeof__',\n",
              " '__str__',\n",
              " '__subclasshook__',\n",
              " '__weakref__',\n",
              " 'ceo',\n",
              " 'close',\n",
              " 'open',\n",
              " 'print_return',\n",
              " 'rate_return',\n",
              " 'ticker',\n",
              " 'update',\n",
              " 'volume']"
            ]
          },
          "metadata": {},
          "execution_count": 76
        }
      ]
    },
    {
      "cell_type": "code",
      "metadata": {
        "colab": {
          "base_uri": "https://localhost:8080/"
        },
        "id": "mkChatcwrN0_",
        "outputId": "122e8de8-1c0a-4dab-9e1d-3f801b4b2fa2"
      },
      "source": [
        "dir(apple)"
      ],
      "execution_count": 77,
      "outputs": [
        {
          "output_type": "execute_result",
          "data": {
            "text/plain": [
              "['__class__',\n",
              " '__delattr__',\n",
              " '__dict__',\n",
              " '__dir__',\n",
              " '__doc__',\n",
              " '__eq__',\n",
              " '__format__',\n",
              " '__ge__',\n",
              " '__getattribute__',\n",
              " '__gt__',\n",
              " '__hash__',\n",
              " '__init__',\n",
              " '__init_subclass__',\n",
              " '__le__',\n",
              " '__lt__',\n",
              " '__module__',\n",
              " '__ne__',\n",
              " '__new__',\n",
              " '__reduce__',\n",
              " '__reduce_ex__',\n",
              " '__repr__',\n",
              " '__setattr__',\n",
              " '__sizeof__',\n",
              " '__str__',\n",
              " '__subclasshook__',\n",
              " '__weakref__',\n",
              " 'ceo',\n",
              " 'close',\n",
              " 'open',\n",
              " 'print_return',\n",
              " 'rate_return',\n",
              " 'ticker',\n",
              " 'update',\n",
              " 'volume']"
            ]
          },
          "metadata": {},
          "execution_count": 77
        }
      ]
    },
    {
      "cell_type": "markdown",
      "metadata": {
        "id": "Qpemj1UZd2aa"
      },
      "source": [
        "## Inheritance\n",
        "Inheritance is a way of arranging classes in a hierarchy from the most general to the most specific. A \"child\" class is a more specific type of a \"parent\" class because a child class will inherit all the attribues and methods of its parent. For example, we define a class named \"Child\" which inherits \"Stock\":"
      ]
    },
    {
      "cell_type": "code",
      "metadata": {
        "id": "UELXnxomO2PV"
      },
      "source": [
        "class child(stock):\n",
        "    def __init__(self,name):\n",
        "        self.name = name"
      ],
      "execution_count": 78,
      "outputs": []
    },
    {
      "cell_type": "code",
      "metadata": {
        "id": "aRka5ElgrUTC"
      },
      "source": [
        "class child(stock):\n",
        "    def __init__(self,name):\n",
        "        self.name = name"
      ],
      "execution_count": 79,
      "outputs": []
    },
    {
      "cell_type": "code",
      "metadata": {
        "colab": {
          "base_uri": "https://localhost:8080/"
        },
        "id": "ffS2THZyO2PV",
        "outputId": "d0bcd4c6-dbe6-4319-ce98-66498348be93"
      },
      "source": [
        "aa = child('aa')\n",
        "print(aa.name)\n",
        "aa.update(100,102)\n",
        "print(aa.open)\n",
        "print(aa.close)\n",
        "print(aa.print_return())"
      ],
      "execution_count": 80,
      "outputs": [
        {
          "output_type": "stream",
          "name": "stdout",
          "text": [
            "aa\n",
            "100\n",
            "102\n",
            "0.020000000000000018\n",
            "None\n"
          ]
        }
      ]
    },
    {
      "cell_type": "code",
      "metadata": {
        "colab": {
          "base_uri": "https://localhost:8080/"
        },
        "id": "UQY9aYE5rYci",
        "outputId": "0ea04004-b2fc-4726-9599-49afbecc2c86"
      },
      "source": [
        "aa = child('nombre')\n",
        "print(aa.name)\n",
        "aa.update(101,102)\n",
        "print(aa.open)\n",
        "print(aa.close)\n",
        "print(aa.print_return())"
      ],
      "execution_count": 81,
      "outputs": [
        {
          "output_type": "stream",
          "name": "stdout",
          "text": [
            "nombre\n",
            "101\n",
            "102\n",
            "0.00990099009900991\n",
            "None\n"
          ]
        }
      ]
    },
    {
      "cell_type": "markdown",
      "metadata": {
        "id": "pdIEjUv2eJqL"
      },
      "source": [
        "As seen above, the new class Child has inherited the methods from Stock.\n",
        "\n",
        "#Summary\n",
        "\n",
        "In this chapter we have introduced functions and classes. When we write a QuantConnect algorithm, we would define our algorithm as a class (QCAlgorithm). This means our algorithm inherited the QC API methods from QCAlgorithm class.\n",
        "\n",
        "In the next chapter, we will introduce NumPy and Pandas, which enable us to conduct scientific calculations in Python."
      ]
    },
    {
      "cell_type": "markdown",
      "metadata": {
        "id": "dQbENH6mexTd"
      },
      "source": [
        "<div align=\"center\">\n",
        "<img style=\"display: block; margin: auto;\" alt=\"photo\" src=\"https://cdn.quantconnect.com/web/i/icon.png\">\n",
        "\n",
        "Quantconnect\n",
        "\n",
        "Introduction to Financial Python\n",
        "</div>\n",
        "\n",
        "# 04 NumPy and Basic Pandas\n",
        "\n",
        "# Introduction\n",
        "\n",
        "Now that we have introduced the fundamentals of Python, it's time to learn about NumPy and Pandas.\n",
        "\n",
        "# NumPy\n",
        "NumPy is the core library for scientific computing in Python. It provides a high-performance multidimensional array object, and tools for working with these arrays. It also has strong integration with Pandas, which is another powerful tool for manipulating financial data.\n",
        "\n",
        "Python packages like NumPy and Pandas contain classes and methods which we can use by importing the package:"
      ]
    },
    {
      "cell_type": "code",
      "metadata": {
        "id": "aIESp-rdO58h"
      },
      "source": [
        "import numpy as np"
      ],
      "execution_count": null,
      "outputs": []
    },
    {
      "cell_type": "code",
      "metadata": {
        "id": "0TuTQcNPr5tl"
      },
      "source": [
        "import numpy as np"
      ],
      "execution_count": 82,
      "outputs": []
    },
    {
      "cell_type": "markdown",
      "metadata": {
        "id": "GScHHJ5ke7ea"
      },
      "source": [
        "## Basic NumPy Arrays\n",
        "A NumPy array is a grid of values, all of the same type, and is indexed by a tuple of nonnegative integers. Here we make an array by passing a list of Apple stock prices:"
      ]
    },
    {
      "cell_type": "code",
      "metadata": {
        "colab": {
          "base_uri": "https://localhost:8080/"
        },
        "id": "lZI1wkwDO58i",
        "outputId": "7792634b-b0f5-47d4-f998-be207f9fb485"
      },
      "source": [
        "price_list = [143.73, 145.83, 143.68, 144.02, 143.5, 142.62]\n",
        "price_array = np.array(price_list)\n",
        "print(price_array, type(price_array))"
      ],
      "execution_count": null,
      "outputs": [
        {
          "output_type": "stream",
          "name": "stdout",
          "text": [
            "[143.73 145.83 143.68 144.02 143.5  142.62] <class 'numpy.ndarray'>\n"
          ]
        }
      ]
    },
    {
      "cell_type": "code",
      "metadata": {
        "colab": {
          "base_uri": "https://localhost:8080/"
        },
        "id": "MlDwFECEsnOh",
        "outputId": "32b05604-7146-4e1b-cfe9-5816ad9d7da8"
      },
      "source": [
        "price_list = [123.73, 123.83, 123.68, 124.02, 123.5, 122.62]\n",
        "price_array = np.array(price_list)\n",
        "print(price_array, type(price_array))"
      ],
      "execution_count": 83,
      "outputs": [
        {
          "output_type": "stream",
          "name": "stdout",
          "text": [
            "[123.73 123.83 123.68 124.02 123.5  122.62] <class 'numpy.ndarray'>\n"
          ]
        }
      ]
    },
    {
      "cell_type": "markdown",
      "metadata": {
        "id": "-5Yj6u9ifB-t"
      },
      "source": [
        "Notice that the type of array is \"ndarray\" which is a multi-dimensional array. If we pass np.array() a list of lists, it will create a 2-dimensional array."
      ]
    },
    {
      "cell_type": "code",
      "metadata": {
        "colab": {
          "base_uri": "https://localhost:8080/"
        },
        "id": "obvIZrK-O58j",
        "outputId": "7bf6293a-350d-4167-a431-2fabb6353a74"
      },
      "source": [
        "Ar = np.array([[1,3],[2,4]])\n",
        "print(Ar, type(Ar))"
      ],
      "execution_count": null,
      "outputs": [
        {
          "output_type": "stream",
          "name": "stdout",
          "text": [
            "[[1 3]\n",
            " [2 4]] <class 'numpy.ndarray'>\n"
          ]
        }
      ]
    },
    {
      "cell_type": "code",
      "metadata": {
        "colab": {
          "base_uri": "https://localhost:8080/"
        },
        "id": "7AKr90_gsy7t",
        "outputId": "e060d356-b529-48f7-91c1-8ad0af6f867a"
      },
      "source": [
        "Ar = np.array([[2,3,5],[5,4,0],[2,8,1]])\n",
        "print(Ar, type(Ar))"
      ],
      "execution_count": 84,
      "outputs": [
        {
          "output_type": "stream",
          "name": "stdout",
          "text": [
            "[[2 3 5]\n",
            " [5 4 0]\n",
            " [2 8 1]] <class 'numpy.ndarray'>\n"
          ]
        }
      ]
    },
    {
      "cell_type": "markdown",
      "metadata": {
        "id": "uDdfLD9HfHkl"
      },
      "source": [
        "We get the dimensions of an ndarray using the .shape attribute:"
      ]
    },
    {
      "cell_type": "code",
      "metadata": {
        "colab": {
          "base_uri": "https://localhost:8080/"
        },
        "id": "G2txdn73O58j",
        "outputId": "003fcca5-fdc1-4477-8325-c936f6767de8"
      },
      "source": [
        "print(Ar.shape)"
      ],
      "execution_count": 98,
      "outputs": [
        {
          "output_type": "stream",
          "name": "stdout",
          "text": [
            "(3, 3)\n"
          ]
        }
      ]
    },
    {
      "cell_type": "code",
      "metadata": {
        "colab": {
          "base_uri": "https://localhost:8080/"
        },
        "id": "TFN1vFqstJhB",
        "outputId": "8dea152f-7960-4ab6-8978-3efa3885a9b0"
      },
      "source": [
        "print(Ar.shape)"
      ],
      "execution_count": 85,
      "outputs": [
        {
          "output_type": "stream",
          "name": "stdout",
          "text": [
            "(3, 3)\n"
          ]
        }
      ]
    },
    {
      "cell_type": "markdown",
      "metadata": {
        "id": "87W5ueORfPEy"
      },
      "source": [
        "If we create an 2-dimensional array (i.e. matrix), each row can be accessed by index:"
      ]
    },
    {
      "cell_type": "code",
      "metadata": {
        "colab": {
          "base_uri": "https://localhost:8080/"
        },
        "id": "x_QV9aPbO58j",
        "outputId": "ceaeabd6-af8c-435b-f376-0f73fa6af72e"
      },
      "source": [
        "print(Ar[0])\n",
        "print(Ar[1])"
      ],
      "execution_count": null,
      "outputs": [
        {
          "output_type": "stream",
          "name": "stdout",
          "text": [
            "[1 3]\n",
            "[2 4]\n"
          ]
        }
      ]
    },
    {
      "cell_type": "code",
      "metadata": {
        "colab": {
          "base_uri": "https://localhost:8080/"
        },
        "id": "6ir-sQy5taEi",
        "outputId": "480686fc-3578-440b-f41f-437b08aa4fe1"
      },
      "source": [
        "print(Ar[0])\n",
        "print(Ar[1])\n",
        "print(Ar[2])"
      ],
      "execution_count": 86,
      "outputs": [
        {
          "output_type": "stream",
          "name": "stdout",
          "text": [
            "[2 3 5]\n",
            "[5 4 0]\n",
            "[2 8 1]\n"
          ]
        }
      ]
    },
    {
      "cell_type": "markdown",
      "metadata": {
        "id": "5Hke7Vt-fSGB"
      },
      "source": [
        "If we want to access the matrix by column instead:"
      ]
    },
    {
      "cell_type": "code",
      "metadata": {
        "colab": {
          "base_uri": "https://localhost:8080/"
        },
        "id": "gHVwbPfOO58j",
        "outputId": "fbc8f0ca-38bf-4f98-d85f-1e95b30bb6f3"
      },
      "source": [
        "print('the first column: ', Ar[:,0])\n",
        "print('the second column: ', Ar[:,1])"
      ],
      "execution_count": null,
      "outputs": [
        {
          "output_type": "stream",
          "name": "stdout",
          "text": [
            "the first column:  [1 2]\n",
            "the second column:  [3 4]\n"
          ]
        }
      ]
    },
    {
      "cell_type": "code",
      "metadata": {
        "colab": {
          "base_uri": "https://localhost:8080/"
        },
        "id": "-nktvyaHtkCK",
        "outputId": "a200d743-f3b8-4f61-ae80-42d673aefdff"
      },
      "source": [
        "print('the first column: ', Ar[:,0])\n",
        "print('the second column: ', Ar[:,1])\n",
        "print('the third column: ', Ar[:,2])"
      ],
      "execution_count": 87,
      "outputs": [
        {
          "output_type": "stream",
          "name": "stdout",
          "text": [
            "the first column:  [2 5 2]\n",
            "the second column:  [3 4 8]\n",
            "the third column:  [5 0 1]\n"
          ]
        }
      ]
    },
    {
      "cell_type": "markdown",
      "metadata": {
        "id": "T61cD0HMfStB"
      },
      "source": [
        "## Array Functions\n",
        "Some functions built in NumPy that allow us to perform calculations on arrays. For example, we can apply the natural logarithm to each element of an array:"
      ]
    },
    {
      "cell_type": "code",
      "metadata": {
        "colab": {
          "base_uri": "https://localhost:8080/"
        },
        "id": "PKhwtJ7XO58k",
        "outputId": "5734372b-2ffa-44e4-8146-5906268cd6c8"
      },
      "source": [
        "print(np.log(price_array))"
      ],
      "execution_count": null,
      "outputs": [
        {
          "output_type": "stream",
          "name": "stdout",
          "text": [
            "[4.96793654 4.98244156 4.9675886  4.96995218 4.96633504 4.96018375]\n"
          ]
        }
      ]
    },
    {
      "cell_type": "code",
      "metadata": {
        "colab": {
          "base_uri": "https://localhost:8080/"
        },
        "id": "KjoFVqyAt2Wz",
        "outputId": "a05f0e10-125c-4c6c-c98d-dccfee76a0fc"
      },
      "source": [
        "print(np.log(price_array))"
      ],
      "execution_count": 88,
      "outputs": [
        {
          "output_type": "stream",
          "name": "stdout",
          "text": [
            "[4.81810177 4.81890966 4.81769758 4.82044284 4.81624116 4.80909014]\n"
          ]
        }
      ]
    },
    {
      "cell_type": "markdown",
      "metadata": {
        "id": "uzjBRFBLfZ-D"
      },
      "source": [
        "Other functions return a single value:"
      ]
    },
    {
      "cell_type": "code",
      "metadata": {
        "colab": {
          "base_uri": "https://localhost:8080/"
        },
        "id": "nQuABZqUO58k",
        "outputId": "42151fdc-de6a-4a12-aebc-6689f288d9fa"
      },
      "source": [
        "print(np.mean(price_array))\n",
        "print(np.std(price_array))\n",
        "print(np.sum(price_array))\n",
        "print(np.max(price_array))"
      ],
      "execution_count": null,
      "outputs": [
        {
          "output_type": "stream",
          "name": "stdout",
          "text": [
            "143.89666666666668\n",
            "0.9673790478515796\n",
            "863.38\n",
            "145.83\n"
          ]
        }
      ]
    },
    {
      "cell_type": "code",
      "metadata": {
        "colab": {
          "base_uri": "https://localhost:8080/"
        },
        "id": "FcAGoJilt77j",
        "outputId": "6ccd82cc-c7dd-4ffc-a18d-adaa623c17f3"
      },
      "source": [
        "print(np.mean(price_array))\n",
        "print(np.std(price_array))\n",
        "print(np.sum(price_array))\n",
        "print(np.max(price_array))"
      ],
      "execution_count": 89,
      "outputs": [
        {
          "output_type": "stream",
          "name": "stdout",
          "text": [
            "123.56333333333333\n",
            "0.4499876541516302\n",
            "741.38\n",
            "124.02\n"
          ]
        }
      ]
    },
    {
      "cell_type": "markdown",
      "metadata": {
        "id": "IRW95BsifgDB"
      },
      "source": [
        "The functions above return the mean, standard deviation, total and maximum value of an array.\n",
        "\n",
        "# Pandas\n",
        "Pandas is one of the most powerful tools for dealing with financial data. \n",
        "\n",
        "First we need to import Pandas:"
      ]
    },
    {
      "cell_type": "code",
      "metadata": {
        "id": "xIYH4oUfO58k"
      },
      "source": [
        "import pandas as pd"
      ],
      "execution_count": null,
      "outputs": []
    },
    {
      "cell_type": "code",
      "metadata": {
        "id": "krFfHrVmvF_M"
      },
      "source": [
        "import pandas as pd"
      ],
      "execution_count": 90,
      "outputs": []
    },
    {
      "cell_type": "markdown",
      "metadata": {
        "id": "zOig5gORfnJU"
      },
      "source": [
        "## Series\n",
        "Series is a one-dimensional labeled array capable of holding any data type (integers, strings, float, Python object, etc.)\n",
        "\n",
        "We create a Series by calling pd.Series(data), where data can be a dictionary, an array or just a scalar value."
      ]
    },
    {
      "cell_type": "code",
      "metadata": {
        "colab": {
          "base_uri": "https://localhost:8080/"
        },
        "id": "JmzoNzrPO58k",
        "outputId": "d2212475-9ad6-465b-e502-de9d9cf7be60"
      },
      "source": [
        "price = [143.73, 145.83, 143.68, 144.02, 143.5, 142.62]\n",
        "s = pd.Series(price)\n",
        "s"
      ],
      "execution_count": 91,
      "outputs": [
        {
          "output_type": "execute_result",
          "data": {
            "text/plain": [
              "0    143.73\n",
              "1    145.83\n",
              "2    143.68\n",
              "3    144.02\n",
              "4    143.50\n",
              "5    142.62\n",
              "dtype: float64"
            ]
          },
          "metadata": {},
          "execution_count": 91
        }
      ]
    },
    {
      "cell_type": "code",
      "metadata": {
        "colab": {
          "base_uri": "https://localhost:8080/"
        },
        "id": "hYMPUJUTvIdS",
        "outputId": "994f7d5f-29e1-4539-d389-927d3239d0b8"
      },
      "source": [
        "price = [123.73, 125.83, 123.68, 124.02, 123.5, 122.62]\n",
        "s = pd.Series(price)\n",
        "s"
      ],
      "execution_count": 92,
      "outputs": [
        {
          "output_type": "execute_result",
          "data": {
            "text/plain": [
              "0    123.73\n",
              "1    125.83\n",
              "2    123.68\n",
              "3    124.02\n",
              "4    123.50\n",
              "5    122.62\n",
              "dtype: float64"
            ]
          },
          "metadata": {},
          "execution_count": 92
        }
      ]
    },
    {
      "cell_type": "markdown",
      "metadata": {
        "id": "tP5iDnunfq46"
      },
      "source": [
        "We can customize the indices of a new Series:"
      ]
    },
    {
      "cell_type": "code",
      "metadata": {
        "colab": {
          "base_uri": "https://localhost:8080/"
        },
        "id": "eswQC3ZPO58l",
        "outputId": "6c6e3ff1-bc50-4ec9-8345-24f2af8feb18"
      },
      "source": [
        "s = pd.Series(price,index = ['a','b','c','d','e','f'])\n",
        "s"
      ],
      "execution_count": null,
      "outputs": [
        {
          "output_type": "execute_result",
          "data": {
            "text/plain": [
              "a    143.73\n",
              "b    145.83\n",
              "c    143.68\n",
              "d    144.02\n",
              "e    143.50\n",
              "f    142.62\n",
              "dtype: float64"
            ]
          },
          "metadata": {},
          "execution_count": 72
        }
      ]
    },
    {
      "cell_type": "code",
      "metadata": {
        "colab": {
          "base_uri": "https://localhost:8080/"
        },
        "id": "h--v1xu-vUF6",
        "outputId": "32ba078a-00dc-481f-c40f-282e846977e5"
      },
      "source": [
        "s = pd.Series(price,index = ['a','b','c','d','e','f'])\n",
        "s"
      ],
      "execution_count": 93,
      "outputs": [
        {
          "output_type": "execute_result",
          "data": {
            "text/plain": [
              "a    123.73\n",
              "b    125.83\n",
              "c    123.68\n",
              "d    124.02\n",
              "e    123.50\n",
              "f    122.62\n",
              "dtype: float64"
            ]
          },
          "metadata": {},
          "execution_count": 93
        }
      ]
    },
    {
      "cell_type": "markdown",
      "metadata": {
        "id": "wdZrb8pEfuua"
      },
      "source": [
        "Or we can change the indices of an existing Series:"
      ]
    },
    {
      "cell_type": "code",
      "metadata": {
        "colab": {
          "base_uri": "https://localhost:8080/"
        },
        "id": "MwlRnPF6O58l",
        "outputId": "6f1d38f9-b562-40a7-8c69-cf7605ddf732"
      },
      "source": [
        "s.index = [6,5,4,3,2,1]\n",
        "s"
      ],
      "execution_count": null,
      "outputs": [
        {
          "output_type": "execute_result",
          "data": {
            "text/plain": [
              "6    143.73\n",
              "5    145.83\n",
              "4    143.68\n",
              "3    144.02\n",
              "2    143.50\n",
              "1    142.62\n",
              "dtype: float64"
            ]
          },
          "metadata": {},
          "execution_count": 73
        }
      ]
    },
    {
      "cell_type": "code",
      "metadata": {
        "colab": {
          "base_uri": "https://localhost:8080/"
        },
        "id": "IJHB5MnGvXMt",
        "outputId": "d30d7daa-06a5-476c-c33a-fe50962ce955"
      },
      "source": [
        "s.index = [6,5,4,3,2,1]\n",
        "s"
      ],
      "execution_count": 94,
      "outputs": [
        {
          "output_type": "execute_result",
          "data": {
            "text/plain": [
              "6    123.73\n",
              "5    125.83\n",
              "4    123.68\n",
              "3    124.02\n",
              "2    123.50\n",
              "1    122.62\n",
              "dtype: float64"
            ]
          },
          "metadata": {},
          "execution_count": 94
        }
      ]
    },
    {
      "cell_type": "markdown",
      "metadata": {
        "id": "6cGNQZwLfxIz"
      },
      "source": [
        "Series is like a list since it can be sliced by index:"
      ]
    },
    {
      "cell_type": "code",
      "metadata": {
        "colab": {
          "base_uri": "https://localhost:8080/"
        },
        "id": "N9bBSg6cO58l",
        "outputId": "4fed1936-9b14-44ca-a4e8-6873d9b706d8"
      },
      "source": [
        "print(s[1:])\n",
        "print(s[:-2])"
      ],
      "execution_count": null,
      "outputs": [
        {
          "output_type": "stream",
          "name": "stdout",
          "text": [
            "5    145.83\n",
            "4    143.68\n",
            "3    144.02\n",
            "2    143.50\n",
            "1    142.62\n",
            "dtype: float64\n",
            "6    143.73\n",
            "5    145.83\n",
            "4    143.68\n",
            "3    144.02\n",
            "dtype: float64\n"
          ]
        }
      ]
    },
    {
      "cell_type": "code",
      "metadata": {
        "colab": {
          "base_uri": "https://localhost:8080/"
        },
        "id": "mXM4Qp8SvtLL",
        "outputId": "5cc97e4e-8051-4101-db0c-81007280f202"
      },
      "source": [
        "print(s[1:])\n",
        "print(s[:-2])"
      ],
      "execution_count": 95,
      "outputs": [
        {
          "output_type": "stream",
          "name": "stdout",
          "text": [
            "5    125.83\n",
            "4    123.68\n",
            "3    124.02\n",
            "2    123.50\n",
            "1    122.62\n",
            "dtype: float64\n",
            "6    123.73\n",
            "5    125.83\n",
            "4    123.68\n",
            "3    124.02\n",
            "dtype: float64\n"
          ]
        }
      ]
    },
    {
      "cell_type": "markdown",
      "metadata": {
        "id": "5V25nViZfz3Z"
      },
      "source": [
        "Series is also like a dictionary whose values can be set or fetched by index label:"
      ]
    },
    {
      "cell_type": "code",
      "metadata": {
        "colab": {
          "base_uri": "https://localhost:8080/"
        },
        "id": "b3Y0kKGYO58l",
        "outputId": "beb4aa36-3e49-4d1a-cf11-5309214e9e60"
      },
      "source": [
        "print(s[4])\n",
        "s[4] = 0\n",
        "print(s)"
      ],
      "execution_count": null,
      "outputs": [
        {
          "output_type": "stream",
          "name": "stdout",
          "text": [
            "143.68\n",
            "6    143.73\n",
            "5    145.83\n",
            "4      0.00\n",
            "3    144.02\n",
            "2    143.50\n",
            "1    142.62\n",
            "dtype: float64\n"
          ]
        }
      ]
    },
    {
      "cell_type": "code",
      "metadata": {
        "colab": {
          "base_uri": "https://localhost:8080/"
        },
        "id": "JFSbNXHtvyAM",
        "outputId": "94f3accd-3949-4f06-e40d-3f374e738a65"
      },
      "source": [
        "print(s[2])\n",
        "s[2] = 0\n",
        "print(s)"
      ],
      "execution_count": 96,
      "outputs": [
        {
          "output_type": "stream",
          "name": "stdout",
          "text": [
            "123.5\n",
            "6    123.73\n",
            "5    125.83\n",
            "4    123.68\n",
            "3    124.02\n",
            "2      0.00\n",
            "1    122.62\n",
            "dtype: float64\n"
          ]
        }
      ]
    },
    {
      "cell_type": "markdown",
      "metadata": {
        "id": "RQ1P7Gkyf060"
      },
      "source": [
        "Series can also have a name attribute, which will be used when we make up a Pandas DataFrame using several series."
      ]
    },
    {
      "cell_type": "code",
      "metadata": {
        "colab": {
          "base_uri": "https://localhost:8080/"
        },
        "id": "ZeD4-p7KO58m",
        "outputId": "0cdcac74-2b05-4565-d6a1-09134a9ca2d6"
      },
      "source": [
        "s = pd.Series(price, name = 'Apple Price List')\n",
        "print(s)\n",
        "print(s.name)"
      ],
      "execution_count": 97,
      "outputs": [
        {
          "output_type": "stream",
          "name": "stdout",
          "text": [
            "0    123.73\n",
            "1    125.83\n",
            "2    123.68\n",
            "3    124.02\n",
            "4    123.50\n",
            "5    122.62\n",
            "Name: Apple Price List, dtype: float64\n",
            "Apple Price List\n"
          ]
        }
      ]
    },
    {
      "cell_type": "code",
      "metadata": {
        "colab": {
          "base_uri": "https://localhost:8080/"
        },
        "id": "g2PtN0Nyv5SF",
        "outputId": "aad7485c-9948-4fcc-a229-84eb83da9908"
      },
      "source": [
        "s = pd.Series(price, name = 'Lista de precios de Apple')\n",
        "print(s)\n",
        "print(s.name)"
      ],
      "execution_count": 98,
      "outputs": [
        {
          "output_type": "stream",
          "name": "stdout",
          "text": [
            "0    123.73\n",
            "1    125.83\n",
            "2    123.68\n",
            "3    124.02\n",
            "4    123.50\n",
            "5    122.62\n",
            "Name: Lista de precios de Apple, dtype: float64\n",
            "Lista de precios de Apple\n"
          ]
        }
      ]
    },
    {
      "cell_type": "markdown",
      "metadata": {
        "id": "geJb1pGHf5Et"
      },
      "source": [
        "We can get the statistical summaries of a Series:"
      ]
    },
    {
      "cell_type": "code",
      "metadata": {
        "colab": {
          "base_uri": "https://localhost:8080/"
        },
        "id": "mGPtFcjegm4i",
        "outputId": "ef5db4d5-8375-41fd-8b40-8be8aab7b722"
      },
      "source": [
        "print(s.describe())"
      ],
      "execution_count": 99,
      "outputs": [
        {
          "output_type": "stream",
          "name": "stdout",
          "text": [
            "count      6.000000\n",
            "mean     123.896667\n",
            "std        1.059711\n",
            "min      122.620000\n",
            "25%      123.545000\n",
            "50%      123.705000\n",
            "75%      123.947500\n",
            "max      125.830000\n",
            "Name: Lista de precios de Apple, dtype: float64\n"
          ]
        }
      ]
    },
    {
      "cell_type": "code",
      "metadata": {
        "colab": {
          "base_uri": "https://localhost:8080/"
        },
        "id": "0MrrSYd1wIz_",
        "outputId": "91a6855e-af6b-40e9-b4c7-54d8ba72854d"
      },
      "source": [
        "print(s.describe())"
      ],
      "execution_count": 100,
      "outputs": [
        {
          "output_type": "stream",
          "name": "stdout",
          "text": [
            "count      6.000000\n",
            "mean     123.896667\n",
            "std        1.059711\n",
            "min      122.620000\n",
            "25%      123.545000\n",
            "50%      123.705000\n",
            "75%      123.947500\n",
            "max      125.830000\n",
            "Name: Lista de precios de Apple, dtype: float64\n"
          ]
        }
      ]
    },
    {
      "cell_type": "markdown",
      "metadata": {
        "id": "LkdZu-CDgvlR"
      },
      "source": [
        "## Time Index\n",
        "Pandas has a built-in function specifically for creating date indices: pd.date_range(). We use it to create a new index for our Series:"
      ]
    },
    {
      "cell_type": "code",
      "metadata": {
        "colab": {
          "base_uri": "https://localhost:8080/"
        },
        "id": "HJe5hU4zO58m",
        "outputId": "9d621c1b-9219-4df0-e281-c205122a501e"
      },
      "source": [
        "time_index = pd.date_range('2017-01-01',periods = len(s),freq = 'D')\n",
        "print(time_index)\n",
        "s.index = time_index\n",
        "print(s)"
      ],
      "execution_count": null,
      "outputs": [
        {
          "output_type": "stream",
          "name": "stdout",
          "text": [
            "DatetimeIndex(['2017-01-01', '2017-01-02', '2017-01-03', '2017-01-04',\n",
            "               '2017-01-05', '2017-01-06'],\n",
            "              dtype='datetime64[ns]', freq='D')\n",
            "2017-01-01    143.73\n",
            "2017-01-02    145.83\n",
            "2017-01-03    143.68\n",
            "2017-01-04    144.02\n",
            "2017-01-05    143.50\n",
            "2017-01-06    142.62\n",
            "Freq: D, Name: Apple Price List, dtype: float64\n"
          ]
        }
      ]
    },
    {
      "cell_type": "code",
      "metadata": {
        "colab": {
          "base_uri": "https://localhost:8080/"
        },
        "id": "BCWG6ovHwO2A",
        "outputId": "e7db2622-aa46-4da5-cfae-35836c4bac51"
      },
      "source": [
        "time_index = pd.date_range('2018-01-01',periods = len(s),freq = 'D')\n",
        "print(time_index)\n",
        "s.index = time_index\n",
        "print(s)"
      ],
      "execution_count": 101,
      "outputs": [
        {
          "output_type": "stream",
          "name": "stdout",
          "text": [
            "DatetimeIndex(['2018-01-01', '2018-01-02', '2018-01-03', '2018-01-04',\n",
            "               '2018-01-05', '2018-01-06'],\n",
            "              dtype='datetime64[ns]', freq='D')\n",
            "2018-01-01    123.73\n",
            "2018-01-02    125.83\n",
            "2018-01-03    123.68\n",
            "2018-01-04    124.02\n",
            "2018-01-05    123.50\n",
            "2018-01-06    122.62\n",
            "Freq: D, Name: Lista de precios de Apple, dtype: float64\n"
          ]
        }
      ]
    },
    {
      "cell_type": "markdown",
      "metadata": {
        "id": "7WedejFZg19J"
      },
      "source": [
        "Series are usually accessed using the iloc[] and loc[] methods. iloc[] is used to access elements by integer index, and loc[] is used to access the index of the series.\n",
        "\n",
        "iloc[] is necessary when the index of a series are integers, take our previous defined series as example:"
      ]
    },
    {
      "cell_type": "code",
      "metadata": {
        "colab": {
          "base_uri": "https://localhost:8080/"
        },
        "id": "KrVSOyMvO58m",
        "outputId": "53834718-43c5-4490-e361-2888f8651f96"
      },
      "source": [
        "s.index = [6,5,4,3,2,1]\n",
        "print(s)\n",
        "print(s[1])"
      ],
      "execution_count": null,
      "outputs": [
        {
          "output_type": "stream",
          "name": "stdout",
          "text": [
            "6    143.73\n",
            "5    145.83\n",
            "4    143.68\n",
            "3    144.02\n",
            "2    143.50\n",
            "1    142.62\n",
            "Name: Apple Price List, dtype: float64\n",
            "142.62\n"
          ]
        }
      ]
    },
    {
      "cell_type": "code",
      "metadata": {
        "colab": {
          "base_uri": "https://localhost:8080/"
        },
        "id": "27MvQJ3_wWOQ",
        "outputId": "a831bb06-cb54-47a0-a225-77dc3a9c04bb"
      },
      "source": [
        "s.index = [6,5,4,3,2,1]\n",
        "print(s)\n",
        "print(s[1])"
      ],
      "execution_count": 102,
      "outputs": [
        {
          "output_type": "stream",
          "name": "stdout",
          "text": [
            "6    123.73\n",
            "5    125.83\n",
            "4    123.68\n",
            "3    124.02\n",
            "2    123.50\n",
            "1    122.62\n",
            "Name: Lista de precios de Apple, dtype: float64\n",
            "122.62\n"
          ]
        }
      ]
    },
    {
      "cell_type": "markdown",
      "metadata": {
        "id": "r30VKPtpg61p"
      },
      "source": [
        "If we intended to take the second element of the series, we would make a mistake here, because the index are integers. In order to access to the element we want, we use iloc[] here:"
      ]
    },
    {
      "cell_type": "code",
      "metadata": {
        "colab": {
          "base_uri": "https://localhost:8080/"
        },
        "id": "bHukfaAmO58m",
        "outputId": "a75ed573-3d6e-45db-ece3-16aff3ced012"
      },
      "source": [
        "print(s.iloc[1])"
      ],
      "execution_count": null,
      "outputs": [
        {
          "output_type": "stream",
          "name": "stdout",
          "text": [
            "145.83\n"
          ]
        }
      ]
    },
    {
      "cell_type": "code",
      "metadata": {
        "colab": {
          "base_uri": "https://localhost:8080/"
        },
        "id": "q4JifiZNwZNg",
        "outputId": "75ab2785-adeb-4e7e-a284-d21e1d693aac"
      },
      "source": [
        "print(s.iloc[3])"
      ],
      "execution_count": 103,
      "outputs": [
        {
          "output_type": "stream",
          "name": "stdout",
          "text": [
            "124.02\n"
          ]
        }
      ]
    },
    {
      "cell_type": "markdown",
      "metadata": {
        "id": "kHVBRL_Rg84j"
      },
      "source": [
        "While working with time series data, we often use time as the index. Pandas provides us with various methods to access the data by time index"
      ]
    },
    {
      "cell_type": "code",
      "metadata": {
        "colab": {
          "base_uri": "https://localhost:8080/"
        },
        "id": "FCf8Hg7jO58n",
        "outputId": "b095c269-31ed-40e4-e4a8-d6d0b0b1a46d"
      },
      "source": [
        "s.index = time_index\n",
        "print(s['2017-01-03'])"
      ],
      "execution_count": null,
      "outputs": [
        {
          "output_type": "stream",
          "name": "stdout",
          "text": [
            "143.68\n"
          ]
        }
      ]
    },
    {
      "cell_type": "code",
      "metadata": {
        "colab": {
          "base_uri": "https://localhost:8080/"
        },
        "id": "jovjOVbxweJ5",
        "outputId": "9aa421fe-b7c2-4690-bf74-a77f8a04d0a0"
      },
      "source": [
        "s.index = time_index\n",
        "print(s['2018-01-03'])"
      ],
      "execution_count": 104,
      "outputs": [
        {
          "output_type": "stream",
          "name": "stdout",
          "text": [
            "123.68\n"
          ]
        }
      ]
    },
    {
      "cell_type": "markdown",
      "metadata": {
        "id": "XJXcrSFpg-To"
      },
      "source": [
        "We can even access to a range of dates:"
      ]
    },
    {
      "cell_type": "code",
      "metadata": {
        "colab": {
          "base_uri": "https://localhost:8080/"
        },
        "id": "NsE-Lr_9O58n",
        "outputId": "ecfd6e32-3661-4448-d4d7-9bf37fbe74c9"
      },
      "source": [
        "print(s['2017-01-02':'2017-01-05'])"
      ],
      "execution_count": null,
      "outputs": [
        {
          "output_type": "stream",
          "name": "stdout",
          "text": [
            "2017-01-02    145.83\n",
            "2017-01-03    143.68\n",
            "2017-01-04    144.02\n",
            "2017-01-05    143.50\n",
            "Freq: D, Name: Apple Price List, dtype: float64\n"
          ]
        }
      ]
    },
    {
      "cell_type": "code",
      "metadata": {
        "colab": {
          "base_uri": "https://localhost:8080/"
        },
        "id": "IHX7Bzxvw5MD",
        "outputId": "96147715-371f-4b44-f154-4e6d4b357ce1"
      },
      "source": [
        "print(s['2018-01-02':'2018-01-05'])"
      ],
      "execution_count": 105,
      "outputs": [
        {
          "output_type": "stream",
          "name": "stdout",
          "text": [
            "2018-01-02    125.83\n",
            "2018-01-03    123.68\n",
            "2018-01-04    124.02\n",
            "2018-01-05    123.50\n",
            "Freq: D, Name: Lista de precios de Apple, dtype: float64\n"
          ]
        }
      ]
    },
    {
      "cell_type": "code",
      "metadata": {
        "colab": {
          "base_uri": "https://localhost:8080/"
        },
        "id": "P0Q_L2KOwiKi",
        "outputId": "ecfd6e32-3661-4448-d4d7-9bf37fbe74c9"
      },
      "source": [
        "print(s['2017-01-02':'2017-01-05'])"
      ],
      "execution_count": null,
      "outputs": [
        {
          "output_type": "stream",
          "name": "stdout",
          "text": [
            "2017-01-02    145.83\n",
            "2017-01-03    143.68\n",
            "2017-01-04    144.02\n",
            "2017-01-05    143.50\n",
            "Freq: D, Name: Apple Price List, dtype: float64\n"
          ]
        }
      ]
    },
    {
      "cell_type": "code",
      "metadata": {
        "colab": {
          "base_uri": "https://localhost:8080/"
        },
        "id": "GToXIY70w9t9",
        "outputId": "2effaa48-3d51-45c8-fd81-dd128b566b44"
      },
      "source": [
        "print(s['2018-01-02':'2018-01-05'])"
      ],
      "execution_count": 106,
      "outputs": [
        {
          "output_type": "stream",
          "name": "stdout",
          "text": [
            "2018-01-02    125.83\n",
            "2018-01-03    123.68\n",
            "2018-01-04    124.02\n",
            "2018-01-05    123.50\n",
            "Freq: D, Name: Lista de precios de Apple, dtype: float64\n"
          ]
        }
      ]
    },
    {
      "cell_type": "markdown",
      "metadata": {
        "id": "cWA3NCXEhCLB"
      },
      "source": [
        "Series[] provides us a very flexible way to index data. We can add any condition in the square brackets:"
      ]
    },
    {
      "cell_type": "code",
      "metadata": {
        "colab": {
          "base_uri": "https://localhost:8080/"
        },
        "id": "aawbrg2EO58n",
        "outputId": "2df57a9d-6d50-4e9a-fbf9-b281692ec3d2"
      },
      "source": [
        "print(s[s < np.mean(s)] )\n",
        "print([(s > np.mean(s)) & (s < np.mean(s) + 1.64*np.std(s))])"
      ],
      "execution_count": null,
      "outputs": [
        {
          "output_type": "stream",
          "name": "stdout",
          "text": [
            "2017-01-01    143.73\n",
            "2017-01-03    143.68\n",
            "2017-01-05    143.50\n",
            "2017-01-06    142.62\n",
            "Name: Apple Price List, dtype: float64\n",
            "[2017-01-01    False\n",
            "2017-01-02    False\n",
            "2017-01-03    False\n",
            "2017-01-04     True\n",
            "2017-01-05    False\n",
            "2017-01-06    False\n",
            "Freq: D, Name: Apple Price List, dtype: bool]\n"
          ]
        }
      ]
    },
    {
      "cell_type": "code",
      "metadata": {
        "colab": {
          "base_uri": "https://localhost:8080/"
        },
        "id": "Mappo2iMxjyy",
        "outputId": "26bb765a-4873-4606-bb7d-ce9ce541888c"
      },
      "source": [
        "print(s[s < np.mean(s)] )\n",
        "print([(s > np.mean(s)) & (s < np.mean(s) + 1.34*np.std(s))])"
      ],
      "execution_count": 107,
      "outputs": [
        {
          "output_type": "stream",
          "name": "stdout",
          "text": [
            "2018-01-01    123.73\n",
            "2018-01-03    123.68\n",
            "2018-01-05    123.50\n",
            "2018-01-06    122.62\n",
            "Name: Lista de precios de Apple, dtype: float64\n",
            "[2018-01-01    False\n",
            "2018-01-02    False\n",
            "2018-01-03    False\n",
            "2018-01-04     True\n",
            "2018-01-05    False\n",
            "2018-01-06    False\n",
            "Freq: D, Name: Lista de precios de Apple, dtype: bool]\n"
          ]
        }
      ]
    },
    {
      "cell_type": "markdown",
      "metadata": {
        "id": "jAByChIwhEuI"
      },
      "source": [
        "As demonstrated, we can use logical operators like & (and), | (or) and ~ (not) to group multiple conditions.\n",
        "\n",
        "# Summary\n",
        "Here we have introduced NumPy and Pandas for scientific computing in Python. In the next chapter, we will dive into Pandas to learn resampling and manipulating Pandas DataFrame, which are commonly used in financial data analysis."
      ]
    },
    {
      "cell_type": "markdown",
      "metadata": {
        "id": "OtjOpw6oJp6z"
      },
      "source": [
        "<div align=\"center\">\n",
        "<img style=\"display: block; margin: auto;\" alt=\"photo\" src=\"https://cdn.quantconnect.com/web/i/icon.png\"> <img style=\"display: block; margin: auto;\" alt=\"photo\" src=\"https://www.marketing-branding.com/wp-content/uploads/2020/07/google-colaboratory-colab-guia-completa.jpg \" width=\"50\" height=\"50\">\n",
        "<img style=\"display: block; margin: auto;\" alt=\"photo\" src=\"https://upload.wikimedia.org/wikipedia/commons/d/da/Yahoo_Finance_Logo_2019.svg\" width=\"50\" height=\"50\">  \n",
        "\n",
        "Quantconnect -> Google Colab with Yahoo Finance data\n",
        "\n",
        "Introduction to Financial Python\n",
        "</div>\n",
        "\n",
        "# 05 Pandas-Resampling and DataFrame\n",
        "\n",
        "# Introduction\n",
        "In the last chapter we had a glimpse of Pandas. In this chapter we will learn about resampling methods and the DataFrame object, which is a powerful tool for financial data analysis.\n",
        "\n",
        "# Fetching Data\n",
        "Here we use the Yahoo Finance to retrieve data.\n"
      ]
    },
    {
      "cell_type": "code",
      "metadata": {
        "colab": {
          "base_uri": "https://localhost:8080/"
        },
        "id": "luU8mZTsHW9x",
        "outputId": "2f054d43-38b1-4dec-d669-d3d36a77a587"
      },
      "source": [
        "!pip install yfinance"
      ],
      "execution_count": null,
      "outputs": [
        {
          "output_type": "stream",
          "name": "stdout",
          "text": [
            "Collecting yfinance\n",
            "  Downloading yfinance-0.1.64.tar.gz (26 kB)\n",
            "Requirement already satisfied: pandas>=0.24 in /usr/local/lib/python3.7/dist-packages (from yfinance) (1.1.5)\n",
            "Requirement already satisfied: numpy>=1.15 in /usr/local/lib/python3.7/dist-packages (from yfinance) (1.19.5)\n",
            "Requirement already satisfied: requests>=2.20 in /usr/local/lib/python3.7/dist-packages (from yfinance) (2.23.0)\n",
            "Requirement already satisfied: multitasking>=0.0.7 in /usr/local/lib/python3.7/dist-packages (from yfinance) (0.0.9)\n",
            "Collecting lxml>=4.5.1\n",
            "  Downloading lxml-4.6.3-cp37-cp37m-manylinux2014_x86_64.whl (6.3 MB)\n",
            "\u001b[K     |████████████████████████████████| 6.3 MB 19.3 MB/s \n",
            "\u001b[?25hRequirement already satisfied: pytz>=2017.2 in /usr/local/lib/python3.7/dist-packages (from pandas>=0.24->yfinance) (2018.9)\n",
            "Requirement already satisfied: python-dateutil>=2.7.3 in /usr/local/lib/python3.7/dist-packages (from pandas>=0.24->yfinance) (2.8.2)\n",
            "Requirement already satisfied: six>=1.5 in /usr/local/lib/python3.7/dist-packages (from python-dateutil>=2.7.3->pandas>=0.24->yfinance) (1.15.0)\n",
            "Requirement already satisfied: urllib3!=1.25.0,!=1.25.1,<1.26,>=1.21.1 in /usr/local/lib/python3.7/dist-packages (from requests>=2.20->yfinance) (1.24.3)\n",
            "Requirement already satisfied: idna<3,>=2.5 in /usr/local/lib/python3.7/dist-packages (from requests>=2.20->yfinance) (2.10)\n",
            "Requirement already satisfied: certifi>=2017.4.17 in /usr/local/lib/python3.7/dist-packages (from requests>=2.20->yfinance) (2021.5.30)\n",
            "Requirement already satisfied: chardet<4,>=3.0.2 in /usr/local/lib/python3.7/dist-packages (from requests>=2.20->yfinance) (3.0.4)\n",
            "Building wheels for collected packages: yfinance\n",
            "  Building wheel for yfinance (setup.py) ... \u001b[?25l\u001b[?25hdone\n",
            "  Created wheel for yfinance: filename=yfinance-0.1.64-py2.py3-none-any.whl size=24109 sha256=7c1e0b6c04ba032b5df6b79cf742e39b2b6b369b5d461e7db9e6f1780d88c041\n",
            "  Stored in directory: /root/.cache/pip/wheels/86/fe/9b/a4d3d78796b699e37065e5b6c27b75cff448ddb8b24943c288\n",
            "Successfully built yfinance\n",
            "Installing collected packages: lxml, yfinance\n",
            "  Attempting uninstall: lxml\n",
            "    Found existing installation: lxml 4.2.6\n",
            "    Uninstalling lxml-4.2.6:\n",
            "      Successfully uninstalled lxml-4.2.6\n",
            "Successfully installed lxml-4.6.3 yfinance-0.1.64\n"
          ]
        }
      ]
    },
    {
      "cell_type": "code",
      "metadata": {
        "colab": {
          "base_uri": "https://localhost:8080/"
        },
        "id": "SQvM0iDrxquw",
        "outputId": "b8a08677-3431-44e5-8aad-867949f605d0"
      },
      "source": [
        "!pip install yfinance"
      ],
      "execution_count": 108,
      "outputs": [
        {
          "output_type": "stream",
          "name": "stdout",
          "text": [
            "Requirement already satisfied: yfinance in /usr/local/lib/python3.7/dist-packages (0.1.64)\n",
            "Requirement already satisfied: numpy>=1.15 in /usr/local/lib/python3.7/dist-packages (from yfinance) (1.19.5)\n",
            "Requirement already satisfied: multitasking>=0.0.7 in /usr/local/lib/python3.7/dist-packages (from yfinance) (0.0.9)\n",
            "Requirement already satisfied: pandas>=0.24 in /usr/local/lib/python3.7/dist-packages (from yfinance) (1.1.5)\n",
            "Requirement already satisfied: lxml>=4.5.1 in /usr/local/lib/python3.7/dist-packages (from yfinance) (4.6.3)\n",
            "Requirement already satisfied: requests>=2.20 in /usr/local/lib/python3.7/dist-packages (from yfinance) (2.23.0)\n",
            "Requirement already satisfied: python-dateutil>=2.7.3 in /usr/local/lib/python3.7/dist-packages (from pandas>=0.24->yfinance) (2.8.2)\n",
            "Requirement already satisfied: pytz>=2017.2 in /usr/local/lib/python3.7/dist-packages (from pandas>=0.24->yfinance) (2018.9)\n",
            "Requirement already satisfied: six>=1.5 in /usr/local/lib/python3.7/dist-packages (from python-dateutil>=2.7.3->pandas>=0.24->yfinance) (1.15.0)\n",
            "Requirement already satisfied: chardet<4,>=3.0.2 in /usr/local/lib/python3.7/dist-packages (from requests>=2.20->yfinance) (3.0.4)\n",
            "Requirement already satisfied: certifi>=2017.4.17 in /usr/local/lib/python3.7/dist-packages (from requests>=2.20->yfinance) (2021.5.30)\n",
            "Requirement already satisfied: urllib3!=1.25.0,!=1.25.1,<1.26,>=1.21.1 in /usr/local/lib/python3.7/dist-packages (from requests>=2.20->yfinance) (1.24.3)\n",
            "Requirement already satisfied: idna<3,>=2.5 in /usr/local/lib/python3.7/dist-packages (from requests>=2.20->yfinance) (2.10)\n"
          ]
        }
      ]
    },
    {
      "cell_type": "code",
      "metadata": {
        "colab": {
          "base_uri": "https://localhost:8080/",
          "height": 487
        },
        "id": "mWZ-nirTZHrE",
        "outputId": "ea7d6d55-81f0-41b4-ef1a-4788fd7204d5"
      },
      "source": [
        "import yfinance as yf\n",
        "\n",
        "aapl = yf.Ticker(\"AAPL\")\n",
        "\n",
        "# get stock info\n",
        "print(aapl.info)\n",
        "\n",
        "# get historical market data\n",
        "aapl_table = aapl.history(start=\"2016-01-01\",  end=\"2017-12-31\")\n",
        "aapl_table"
      ],
      "execution_count": null,
      "outputs": [
        {
          "output_type": "stream",
          "name": "stdout",
          "text": [
            "{'zip': '95014', 'sector': 'Technology', 'fullTimeEmployees': 147000, 'longBusinessSummary': 'Apple Inc. designs, manufactures, and markets smartphones, personal computers, tablets, wearables, and accessories worldwide. It also sells various related services. The company offers iPhone, a line of smartphones; Mac, a line of personal computers; iPad, a line of multi-purpose tablets; and wearables, home, and accessories comprising AirPods, Apple TV, Apple Watch, Beats products, HomePod, iPod touch, and other Apple-branded and third-party accessories. It also provides AppleCare support services; cloud services store services; and operates various platforms, including the App Store, that allow customers to discover and download applications and digital content, such as books, music, video, games, and podcasts. In addition, the company offers various services, such as Apple Arcade, a game subscription service; Apple Music, which offers users a curated listening experience with on-demand radio stations; Apple News+, a subscription news and magazine service; Apple TV+, which offers exclusive original content; Apple Card, a co-branded credit card; and Apple Pay, a cashless payment service, as well as licenses its intellectual property. The company serves consumers, and small and mid-sized businesses; and the education, enterprise, and government markets. It sells and delivers third-party applications for its products through the App Store. The company also sells its products through its retail and online stores, and direct sales force; and third-party cellular network carriers, wholesalers, retailers, and resellers. Apple Inc. was founded in 1977 and is headquartered in Cupertino, California.', 'city': 'Cupertino', 'phone': '408-996-1010', 'state': 'CA', 'country': 'United States', 'companyOfficers': [], 'website': 'http://www.apple.com', 'maxAge': 1, 'address1': 'One Apple Park Way', 'industry': 'Consumer Electronics', 'ebitdaMargins': 0.31955, 'profitMargins': 0.25004, 'grossMargins': 0.41005, 'operatingCashflow': 104414003200, 'revenueGrowth': 0.364, 'operatingMargins': 0.28788, 'ebitda': 110934999040, 'targetLowPrice': 132, 'recommendationKey': 'buy', 'grossProfits': 104956000000, 'freeCashflow': 80625876992, 'targetMedianPrice': 170, 'currentPrice': 148.36, 'earningsGrowth': 1, 'currentRatio': 1.062, 'returnOnAssets': 0.19302, 'numberOfAnalystOpinions': 40, 'targetMeanPrice': 168.89, 'debtToEquity': 210.782, 'returnOnEquity': 1.27125, 'targetHighPrice': 190, 'totalCash': 61696000000, 'totalDebt': 135491002368, 'totalRevenue': 347155005440, 'totalCashPerShare': 3.732, 'financialCurrency': 'USD', 'revenuePerShare': 20.61, 'quickRatio': 0.887, 'recommendationMean': 1.8, 'exchange': 'NMS', 'shortName': 'Apple Inc.', 'longName': 'Apple Inc.', 'exchangeTimezoneName': 'America/New_York', 'exchangeTimezoneShortName': 'EDT', 'isEsgPopulated': False, 'gmtOffSetMilliseconds': '-14400000', 'quoteType': 'EQUITY', 'symbol': 'AAPL', 'messageBoardId': 'finmb_24937', 'market': 'us_market', 'annualHoldingsTurnover': None, 'enterpriseToRevenue': 7.293, 'beta3Year': None, 'enterpriseToEbitda': 22.821, '52WeekChange': 0.29239464, 'morningStarRiskRating': None, 'forwardEps': 5.68, 'revenueQuarterlyGrowth': None, 'sharesOutstanding': 16530199552, 'fundInceptionDate': None, 'annualReportExpenseRatio': None, 'totalAssets': None, 'bookValue': 3.882, 'sharesShort': 101107412, 'sharesPercentSharesOut': 0.0061000003, 'fundFamily': None, 'lastFiscalYearEnd': 1601078400, 'heldPercentInstitutions': 0.58671004, 'netIncomeToCommon': 86801997824, 'trailingEps': 5.108, 'lastDividendValue': 0.22, 'SandP52WeekChange': 0.33635402, 'priceToBook': 38.217415, 'heldPercentInsiders': 0.00072999997, 'nextFiscalYearEnd': 1664150400, 'yield': None, 'mostRecentQuarter': 1624665600, 'shortRatio': 1.18, 'sharesShortPreviousMonthDate': 1630368000, 'floatShares': 16513139929, 'beta': 1.222222, 'enterpriseValue': 2531665379328, 'priceHint': 2, 'threeYearAverageReturn': None, 'lastSplitDate': 1598832000, 'lastSplitFactor': '4:1', 'legalType': None, 'lastDividendDate': 1628208000, 'morningStarOverallRating': None, 'earningsQuarterlyGrowth': 0.932, 'priceToSalesTrailing12Months': 7.064338, 'dateShortInterest': 1632960000, 'pegRatio': 1.34, 'ytdReturn': None, 'forwardPE': 26.119719, 'lastCapGain': None, 'shortPercentOfFloat': 0.0061000003, 'sharesShortPriorMonth': 96838699, 'impliedSharesOutstanding': None, 'category': None, 'fiveYearAverageReturn': None, 'previousClose': 148.69, 'regularMarketOpen': 148.68, 'twoHundredDayAverage': 139.49467, 'trailingAnnualDividendYield': 0.0056157103, 'payoutRatio': 0.16309999, 'volume24Hr': None, 'regularMarketDayHigh': 149.37, 'navPrice': None, 'averageDailyVolume10Day': 68088783, 'regularMarketPreviousClose': 148.69, 'fiftyDayAverage': 145.9303, 'trailingAnnualDividendRate': 0.835, 'open': 148.68, 'toCurrency': None, 'averageVolume10days': 68088783, 'expireDate': None, 'algorithm': None, 'dividendRate': 0.88, 'exDividendDate': 1628208000, 'circulatingSupply': None, 'startDate': None, 'regularMarketDayLow': 147.92, 'currency': 'USD', 'trailingPE': 29.044638, 'regularMarketVolume': 10036145, 'lastMarket': None, 'maxSupply': None, 'openInterest': None, 'marketCap': 2452420296704, 'volumeAllCurrencies': None, 'strikePrice': None, 'averageVolume': 75838454, 'dayLow': 147.92, 'ask': 148.39, 'askSize': 1200, 'volume': 10036145, 'fiftyTwoWeekHigh': 157.26, 'fromCurrency': None, 'fiveYearAvgDividendYield': 1.24, 'fiftyTwoWeekLow': 107.32, 'bid': 148.38, 'tradeable': False, 'dividendYield': 0.0058999998, 'bidSize': 900, 'dayHigh': 149.37, 'regularMarketPrice': 148.36, 'preMarketPrice': 148.69, 'logo_url': 'https://logo.clearbit.com/apple.com'}\n"
          ]
        },
        {
          "output_type": "execute_result",
          "data": {
            "text/html": [
              "<div>\n",
              "<style scoped>\n",
              "    .dataframe tbody tr th:only-of-type {\n",
              "        vertical-align: middle;\n",
              "    }\n",
              "\n",
              "    .dataframe tbody tr th {\n",
              "        vertical-align: top;\n",
              "    }\n",
              "\n",
              "    .dataframe thead th {\n",
              "        text-align: right;\n",
              "    }\n",
              "</style>\n",
              "<table border=\"1\" class=\"dataframe\">\n",
              "  <thead>\n",
              "    <tr style=\"text-align: right;\">\n",
              "      <th></th>\n",
              "      <th>Open</th>\n",
              "      <th>High</th>\n",
              "      <th>Low</th>\n",
              "      <th>Close</th>\n",
              "      <th>Volume</th>\n",
              "      <th>Dividends</th>\n",
              "      <th>Stock Splits</th>\n",
              "    </tr>\n",
              "    <tr>\n",
              "      <th>Date</th>\n",
              "      <th></th>\n",
              "      <th></th>\n",
              "      <th></th>\n",
              "      <th></th>\n",
              "      <th></th>\n",
              "      <th></th>\n",
              "      <th></th>\n",
              "    </tr>\n",
              "  </thead>\n",
              "  <tbody>\n",
              "    <tr>\n",
              "      <th>2016-01-04</th>\n",
              "      <td>23.655163</td>\n",
              "      <td>24.291439</td>\n",
              "      <td>23.514536</td>\n",
              "      <td>24.286827</td>\n",
              "      <td>270597600</td>\n",
              "      <td>0.0</td>\n",
              "      <td>0</td>\n",
              "    </tr>\n",
              "    <tr>\n",
              "      <th>2016-01-05</th>\n",
              "      <td>24.379045</td>\n",
              "      <td>24.402098</td>\n",
              "      <td>23.609059</td>\n",
              "      <td>23.678219</td>\n",
              "      <td>223164000</td>\n",
              "      <td>0.0</td>\n",
              "      <td>0</td>\n",
              "    </tr>\n",
              "    <tr>\n",
              "      <th>2016-01-06</th>\n",
              "      <td>23.182573</td>\n",
              "      <td>23.599842</td>\n",
              "      <td>23.023505</td>\n",
              "      <td>23.214848</td>\n",
              "      <td>273829600</td>\n",
              "      <td>0.0</td>\n",
              "      <td>0</td>\n",
              "    </tr>\n",
              "    <tr>\n",
              "      <th>2016-01-07</th>\n",
              "      <td>22.749158</td>\n",
              "      <td>23.083433</td>\n",
              "      <td>22.230456</td>\n",
              "      <td>22.235065</td>\n",
              "      <td>324377600</td>\n",
              "      <td>0.0</td>\n",
              "      <td>0</td>\n",
              "    </tr>\n",
              "    <tr>\n",
              "      <th>2016-01-08</th>\n",
              "      <td>22.719195</td>\n",
              "      <td>22.848294</td>\n",
              "      <td>22.306538</td>\n",
              "      <td>22.352644</td>\n",
              "      <td>283192000</td>\n",
              "      <td>0.0</td>\n",
              "      <td>0</td>\n",
              "    </tr>\n",
              "    <tr>\n",
              "      <th>...</th>\n",
              "      <td>...</td>\n",
              "      <td>...</td>\n",
              "      <td>...</td>\n",
              "      <td>...</td>\n",
              "      <td>...</td>\n",
              "      <td>...</td>\n",
              "      <td>...</td>\n",
              "    </tr>\n",
              "    <tr>\n",
              "      <th>2017-12-22</th>\n",
              "      <td>41.827756</td>\n",
              "      <td>42.004953</td>\n",
              "      <td>41.784656</td>\n",
              "      <td>41.906776</td>\n",
              "      <td>65397600</td>\n",
              "      <td>0.0</td>\n",
              "      <td>0</td>\n",
              "    </tr>\n",
              "    <tr>\n",
              "      <th>2017-12-26</th>\n",
              "      <td>40.898682</td>\n",
              "      <td>41.059116</td>\n",
              "      <td>40.630492</td>\n",
              "      <td>40.843609</td>\n",
              "      <td>132742000</td>\n",
              "      <td>0.0</td>\n",
              "      <td>0</td>\n",
              "    </tr>\n",
              "    <tr>\n",
              "      <th>2017-12-27</th>\n",
              "      <td>40.731054</td>\n",
              "      <td>40.893880</td>\n",
              "      <td>40.637667</td>\n",
              "      <td>40.850780</td>\n",
              "      <td>85992800</td>\n",
              "      <td>0.0</td>\n",
              "      <td>0</td>\n",
              "    </tr>\n",
              "    <tr>\n",
              "      <th>2017-12-28</th>\n",
              "      <td>40.946572</td>\n",
              "      <td>41.150109</td>\n",
              "      <td>40.822055</td>\n",
              "      <td>40.965729</td>\n",
              "      <td>65920800</td>\n",
              "      <td>0.0</td>\n",
              "      <td>0</td>\n",
              "    </tr>\n",
              "    <tr>\n",
              "      <th>2017-12-29</th>\n",
              "      <td>40.831625</td>\n",
              "      <td>40.848385</td>\n",
              "      <td>40.520335</td>\n",
              "      <td>40.522728</td>\n",
              "      <td>103999600</td>\n",
              "      <td>0.0</td>\n",
              "      <td>0</td>\n",
              "    </tr>\n",
              "  </tbody>\n",
              "</table>\n",
              "<p>503 rows × 7 columns</p>\n",
              "</div>"
            ],
            "text/plain": [
              "                 Open       High        Low  ...     Volume  Dividends  Stock Splits\n",
              "Date                                         ...                                    \n",
              "2016-01-04  23.655163  24.291439  23.514536  ...  270597600        0.0             0\n",
              "2016-01-05  24.379045  24.402098  23.609059  ...  223164000        0.0             0\n",
              "2016-01-06  23.182573  23.599842  23.023505  ...  273829600        0.0             0\n",
              "2016-01-07  22.749158  23.083433  22.230456  ...  324377600        0.0             0\n",
              "2016-01-08  22.719195  22.848294  22.306538  ...  283192000        0.0             0\n",
              "...               ...        ...        ...  ...        ...        ...           ...\n",
              "2017-12-22  41.827756  42.004953  41.784656  ...   65397600        0.0             0\n",
              "2017-12-26  40.898682  41.059116  40.630492  ...  132742000        0.0             0\n",
              "2017-12-27  40.731054  40.893880  40.637667  ...   85992800        0.0             0\n",
              "2017-12-28  40.946572  41.150109  40.822055  ...   65920800        0.0             0\n",
              "2017-12-29  40.831625  40.848385  40.520335  ...  103999600        0.0             0\n",
              "\n",
              "[503 rows x 7 columns]"
            ]
          },
          "metadata": {},
          "execution_count": 2
        }
      ]
    },
    {
      "cell_type": "markdown",
      "metadata": {
        "id": "NkFztSYhJyVA"
      },
      "source": [
        "We will create a Series named \"aapl\" whose values are Apple's daily closing prices, which are of course indexed by dates:"
      ]
    },
    {
      "cell_type": "code",
      "metadata": {
        "colab": {
          "base_uri": "https://localhost:8080/",
          "height": 487
        },
        "id": "QBmt9HqbycHs",
        "outputId": "36e69030-bec0-4acd-b59d-b7cc3b2f88a6"
      },
      "source": [
        "import yfinance as yf\n",
        "\n",
        "aapl = yf.Ticker(\"AAPL\")\n",
        "\n",
        "# get stock info\n",
        "print(aapl.info)\n",
        "\n",
        "# get historical market data\n",
        "aapl_table = aapl.history(start=\"2017-01-01\",  end=\"2018-12-31\")\n",
        "aapl_table"
      ],
      "execution_count": 109,
      "outputs": [
        {
          "output_type": "stream",
          "name": "stdout",
          "text": [
            "{'zip': '95014', 'sector': 'Technology', 'fullTimeEmployees': 154000, 'longBusinessSummary': 'Apple Inc. designs, manufactures, and markets smartphones, personal computers, tablets, wearables, and accessories worldwide. It also sells various related services. In addition, the company offers iPhone, a line of smartphones; Mac, a line of personal computers; iPad, a line of multi-purpose tablets; AirPods Max, an over-ear wireless headphone; and wearables, home, and accessories comprising AirPods, Apple TV, Apple Watch, Beats products, HomePod, and iPod touch. Further, it provides AppleCare support services; cloud services store services; and operates various platforms, including the App Store that allow customers to discover and download applications and digital content, such as books, music, video, games, and podcasts. Additionally, the company offers various services, such as Apple Arcade, a game subscription service; Apple Music, which offers users a curated listening experience with on-demand radio stations; Apple News+, a subscription news and magazine service; Apple TV+, which offers exclusive original content; Apple Card, a co-branded credit card; and Apple Pay, a cashless payment service, as well as licenses its intellectual property. The company serves consumers, and small and mid-sized businesses; and the education, enterprise, and government markets. It distributes third-party applications for its products through the App Store. The company also sells its products through its retail and online stores, and direct sales force; and third-party cellular network carriers, wholesalers, retailers, and resellers. Apple Inc. was incorporated in 1977 and is headquartered in Cupertino, California.', 'city': 'Cupertino', 'phone': '408 996 1010', 'state': 'CA', 'country': 'United States', 'companyOfficers': [], 'website': 'http://www.apple.com', 'maxAge': 1, 'address1': 'One Apple Park Way', 'industry': 'Consumer Electronics', 'ebitdaMargins': 0.32867, 'profitMargins': 0.25882, 'grossMargins': 0.41779, 'operatingCashflow': 104037998592, 'revenueGrowth': 0.288, 'operatingMargins': 0.29782, 'ebitda': 120233000960, 'targetLowPrice': 132, 'recommendationKey': 'buy', 'grossProfits': 152836000000, 'freeCashflow': 73295003648, 'targetMedianPrice': 170, 'currentPrice': 148.96, 'earningsGrowth': 0.662, 'currentRatio': 1.075, 'returnOnAssets': 0.20179, 'numberOfAnalystOpinions': 40, 'targetMeanPrice': 169.06, 'debtToEquity': 216.392, 'returnOnEquity': 1.47443, 'targetHighPrice': 190, 'totalCash': 62639001600, 'totalDebt': 136521998336, 'totalRevenue': 365817004032, 'totalCashPerShare': 3.818, 'financialCurrency': 'USD', 'revenuePerShare': 21.904, 'quickRatio': 0.91, 'recommendationMean': 1.9, 'exchange': 'NMS', 'shortName': 'Apple Inc.', 'longName': 'Apple Inc.', 'exchangeTimezoneName': 'America/New_York', 'exchangeTimezoneShortName': 'EDT', 'isEsgPopulated': False, 'gmtOffSetMilliseconds': '-14400000', 'quoteType': 'EQUITY', 'symbol': 'AAPL', 'messageBoardId': 'finmb_24937', 'market': 'us_market', 'annualHoldingsTurnover': None, 'enterpriseToRevenue': 6.883, 'beta3Year': None, 'enterpriseToEbitda': 20.941, '52WeekChange': 0.35639262, 'morningStarRiskRating': None, 'forwardEps': 6.07, 'revenueQuarterlyGrowth': None, 'sharesOutstanding': 16406400000, 'fundInceptionDate': None, 'annualReportExpenseRatio': None, 'totalAssets': None, 'bookValue': 3.841, 'sharesShort': 100881318, 'sharesPercentSharesOut': 0.0061000003, 'fundFamily': None, 'lastFiscalYearEnd': 1632528000, 'heldPercentInstitutions': 0.58625, 'netIncomeToCommon': 94679998464, 'trailingEps': 5.61, 'lastDividendValue': 0.22, 'SandP52WeekChange': 0.36692226, 'priceToBook': 38.781567, 'heldPercentInsiders': 0.00071999995, 'nextFiscalYearEnd': 1695600000, 'yield': None, 'mostRecentQuarter': 1632528000, 'shortRatio': 1.25, 'sharesShortPreviousMonthDate': 1631664000, 'floatShares': 16389334347, 'beta': 1.222222, 'enterpriseValue': 2517779873792, 'priceHint': 2, 'threeYearAverageReturn': None, 'lastSplitDate': 1598832000, 'lastSplitFactor': '4:1', 'legalType': None, 'lastDividendDate': 1628208000, 'morningStarOverallRating': None, 'earningsQuarterlyGrowth': 0.622, 'priceToSalesTrailing12Months': 6.680656, 'dateShortInterest': 1634256000, 'pegRatio': 1.7, 'ytdReturn': None, 'forwardPE': 24.540363, 'lastCapGain': None, 'shortPercentOfFloat': 0.0061000003, 'sharesShortPriorMonth': 100926641, 'impliedSharesOutstanding': None, 'category': None, 'fiveYearAverageReturn': None, 'previousClose': 149.8, 'regularMarketOpen': 148.985, 'twoHundredDayAverage': 140.16942, 'trailingAnnualDividendYield': 0.0056742323, 'payoutRatio': 0.1515, 'volume24Hr': None, 'regularMarketDayHigh': 149.7, 'navPrice': None, 'averageDailyVolume10Day': 78527440, 'regularMarketPreviousClose': 149.8, 'fiftyDayAverage': 145.59914, 'trailingAnnualDividendRate': 0.85, 'open': 148.985, 'toCurrency': None, 'averageVolume10days': 78527440, 'expireDate': None, 'algorithm': None, 'dividendRate': 0.88, 'exDividendDate': 1636070400, 'circulatingSupply': None, 'startDate': None, 'regularMarketDayLow': 147.8, 'currency': 'USD', 'trailingPE': 26.552586, 'regularMarketVolume': 74588258, 'lastMarket': None, 'maxSupply': None, 'openInterest': None, 'marketCap': 2443897470976, 'volumeAllCurrencies': None, 'strikePrice': None, 'averageVolume': 75360573, 'dayLow': 147.8, 'ask': 148.53, 'askSize': 1200, 'volume': 74588258, 'fiftyTwoWeekHigh': 157.26, 'fromCurrency': None, 'fiveYearAvgDividendYield': 1.22, 'fiftyTwoWeekLow': 108.73, 'bid': 148.5, 'tradeable': False, 'dividendYield': 0.0058999998, 'bidSize': 1300, 'dayHigh': 149.7, 'regularMarketPrice': 148.96, 'preMarketPrice': None, 'logo_url': 'https://logo.clearbit.com/apple.com'}\n"
          ]
        },
        {
          "output_type": "execute_result",
          "data": {
            "text/html": [
              "<div>\n",
              "<style scoped>\n",
              "    .dataframe tbody tr th:only-of-type {\n",
              "        vertical-align: middle;\n",
              "    }\n",
              "\n",
              "    .dataframe tbody tr th {\n",
              "        vertical-align: top;\n",
              "    }\n",
              "\n",
              "    .dataframe thead th {\n",
              "        text-align: right;\n",
              "    }\n",
              "</style>\n",
              "<table border=\"1\" class=\"dataframe\">\n",
              "  <thead>\n",
              "    <tr style=\"text-align: right;\">\n",
              "      <th></th>\n",
              "      <th>Open</th>\n",
              "      <th>High</th>\n",
              "      <th>Low</th>\n",
              "      <th>Close</th>\n",
              "      <th>Volume</th>\n",
              "      <th>Dividends</th>\n",
              "      <th>Stock Splits</th>\n",
              "    </tr>\n",
              "    <tr>\n",
              "      <th>Date</th>\n",
              "      <th></th>\n",
              "      <th></th>\n",
              "      <th></th>\n",
              "      <th></th>\n",
              "      <th></th>\n",
              "      <th></th>\n",
              "      <th></th>\n",
              "    </tr>\n",
              "  </thead>\n",
              "  <tbody>\n",
              "    <tr>\n",
              "      <th>2017-01-03</th>\n",
              "      <td>27.289880</td>\n",
              "      <td>27.414782</td>\n",
              "      <td>27.044789</td>\n",
              "      <td>27.372362</td>\n",
              "      <td>115127600</td>\n",
              "      <td>0.0</td>\n",
              "      <td>0</td>\n",
              "    </tr>\n",
              "    <tr>\n",
              "      <th>2017-01-04</th>\n",
              "      <td>27.301666</td>\n",
              "      <td>27.457205</td>\n",
              "      <td>27.278100</td>\n",
              "      <td>27.341728</td>\n",
              "      <td>84472400</td>\n",
              "      <td>0.0</td>\n",
              "      <td>0</td>\n",
              "    </tr>\n",
              "    <tr>\n",
              "      <th>2017-01-05</th>\n",
              "      <td>27.318158</td>\n",
              "      <td>27.539682</td>\n",
              "      <td>27.292234</td>\n",
              "      <td>27.480766</td>\n",
              "      <td>88774400</td>\n",
              "      <td>0.0</td>\n",
              "      <td>0</td>\n",
              "    </tr>\n",
              "    <tr>\n",
              "      <th>2017-01-06</th>\n",
              "      <td>27.520829</td>\n",
              "      <td>27.846046</td>\n",
              "      <td>27.447774</td>\n",
              "      <td>27.787130</td>\n",
              "      <td>127007600</td>\n",
              "      <td>0.0</td>\n",
              "      <td>0</td>\n",
              "    </tr>\n",
              "    <tr>\n",
              "      <th>2017-01-09</th>\n",
              "      <td>27.796554</td>\n",
              "      <td>28.145338</td>\n",
              "      <td>27.794199</td>\n",
              "      <td>28.041645</td>\n",
              "      <td>134247600</td>\n",
              "      <td>0.0</td>\n",
              "      <td>0</td>\n",
              "    </tr>\n",
              "    <tr>\n",
              "      <th>...</th>\n",
              "      <td>...</td>\n",
              "      <td>...</td>\n",
              "      <td>...</td>\n",
              "      <td>...</td>\n",
              "      <td>...</td>\n",
              "      <td>...</td>\n",
              "      <td>...</td>\n",
              "    </tr>\n",
              "    <tr>\n",
              "      <th>2018-12-21</th>\n",
              "      <td>38.124597</td>\n",
              "      <td>38.440561</td>\n",
              "      <td>36.367357</td>\n",
              "      <td>36.634708</td>\n",
              "      <td>382978400</td>\n",
              "      <td>0.0</td>\n",
              "      <td>0</td>\n",
              "    </tr>\n",
              "    <tr>\n",
              "      <th>2018-12-24</th>\n",
              "      <td>36.007643</td>\n",
              "      <td>36.834010</td>\n",
              "      <td>35.628488</td>\n",
              "      <td>35.686821</td>\n",
              "      <td>148676800</td>\n",
              "      <td>0.0</td>\n",
              "      <td>0</td>\n",
              "    </tr>\n",
              "    <tr>\n",
              "      <th>2018-12-26</th>\n",
              "      <td>36.044104</td>\n",
              "      <td>38.214526</td>\n",
              "      <td>35.660087</td>\n",
              "      <td>38.199944</td>\n",
              "      <td>234330000</td>\n",
              "      <td>0.0</td>\n",
              "      <td>0</td>\n",
              "    </tr>\n",
              "    <tr>\n",
              "      <th>2018-12-27</th>\n",
              "      <td>37.876693</td>\n",
              "      <td>38.102730</td>\n",
              "      <td>36.474306</td>\n",
              "      <td>37.952038</td>\n",
              "      <td>212468400</td>\n",
              "      <td>0.0</td>\n",
              "      <td>0</td>\n",
              "    </tr>\n",
              "    <tr>\n",
              "      <th>2018-12-28</th>\n",
              "      <td>38.280154</td>\n",
              "      <td>38.528065</td>\n",
              "      <td>37.563161</td>\n",
              "      <td>37.971481</td>\n",
              "      <td>169165600</td>\n",
              "      <td>0.0</td>\n",
              "      <td>0</td>\n",
              "    </tr>\n",
              "  </tbody>\n",
              "</table>\n",
              "<p>501 rows × 7 columns</p>\n",
              "</div>"
            ],
            "text/plain": [
              "                 Open       High        Low  ...     Volume  Dividends  Stock Splits\n",
              "Date                                         ...                                    \n",
              "2017-01-03  27.289880  27.414782  27.044789  ...  115127600        0.0             0\n",
              "2017-01-04  27.301666  27.457205  27.278100  ...   84472400        0.0             0\n",
              "2017-01-05  27.318158  27.539682  27.292234  ...   88774400        0.0             0\n",
              "2017-01-06  27.520829  27.846046  27.447774  ...  127007600        0.0             0\n",
              "2017-01-09  27.796554  28.145338  27.794199  ...  134247600        0.0             0\n",
              "...               ...        ...        ...  ...        ...        ...           ...\n",
              "2018-12-21  38.124597  38.440561  36.367357  ...  382978400        0.0             0\n",
              "2018-12-24  36.007643  36.834010  35.628488  ...  148676800        0.0             0\n",
              "2018-12-26  36.044104  38.214526  35.660087  ...  234330000        0.0             0\n",
              "2018-12-27  37.876693  38.102730  36.474306  ...  212468400        0.0             0\n",
              "2018-12-28  38.280154  38.528065  37.563161  ...  169165600        0.0             0\n",
              "\n",
              "[501 rows x 7 columns]"
            ]
          },
          "metadata": {},
          "execution_count": 109
        }
      ]
    },
    {
      "cell_type": "code",
      "metadata": {
        "id": "QDJbOpCeHW91"
      },
      "source": [
        "aapl = aapl_table['Close']['2017']"
      ],
      "execution_count": null,
      "outputs": []
    },
    {
      "cell_type": "code",
      "metadata": {
        "id": "Ln-xYaAkyl-i"
      },
      "source": [
        "aapl = aapl_table['Close']['2018']"
      ],
      "execution_count": 110,
      "outputs": []
    },
    {
      "cell_type": "code",
      "metadata": {
        "colab": {
          "base_uri": "https://localhost:8080/"
        },
        "id": "SXfgCQJOHW91",
        "outputId": "3edebb45-f7b8-43b4-c41d-1fb005c5c443"
      },
      "source": [
        "print(aapl)"
      ],
      "execution_count": null,
      "outputs": [
        {
          "output_type": "stream",
          "name": "stdout",
          "text": [
            "Date\n",
            "2017-01-03    27.372364\n",
            "2017-01-04    27.341724\n",
            "2017-01-05    27.480768\n",
            "2017-01-06    27.787132\n",
            "2017-01-09    28.041645\n",
            "                ...    \n",
            "2017-12-22    41.906776\n",
            "2017-12-26    40.843601\n",
            "2017-12-27    40.850777\n",
            "2017-12-28    40.965721\n",
            "2017-12-29    40.522736\n",
            "Name: Close, Length: 251, dtype: float64\n"
          ]
        }
      ]
    },
    {
      "cell_type": "code",
      "metadata": {
        "colab": {
          "base_uri": "https://localhost:8080/"
        },
        "id": "MQntiu9GypWS",
        "outputId": "4a148367-03bc-40f1-80a0-dd72580406f3"
      },
      "source": [
        "print(aapl)"
      ],
      "execution_count": 111,
      "outputs": [
        {
          "output_type": "stream",
          "name": "stdout",
          "text": [
            "Date\n",
            "2018-01-02    41.248276\n",
            "2018-01-03    41.241096\n",
            "2018-01-04    41.432652\n",
            "2018-01-05    41.904373\n",
            "2018-01-08    41.748737\n",
            "                ...    \n",
            "2018-12-21    36.634708\n",
            "2018-12-24    35.686821\n",
            "2018-12-26    38.199944\n",
            "2018-12-27    37.952038\n",
            "2018-12-28    37.971481\n",
            "Name: Close, Length: 250, dtype: float64\n"
          ]
        }
      ]
    },
    {
      "cell_type": "markdown",
      "metadata": {
        "id": "waUEgBhzKEcA"
      },
      "source": [
        "Recall that we can fetch a specific data point using series['yyyy-mm-dd']. We can also fetch the data in a specific month using series['yyyy-mm']."
      ]
    },
    {
      "cell_type": "code",
      "metadata": {
        "colab": {
          "base_uri": "https://localhost:8080/"
        },
        "id": "2gS50G0zHW92",
        "outputId": "c964a391-f9db-450d-aa01-52e041570c4e"
      },
      "source": [
        "print(aapl['2017-3'])"
      ],
      "execution_count": null,
      "outputs": [
        {
          "output_type": "stream",
          "name": "stdout",
          "text": [
            "Date\n",
            "2017-03-01    33.086281\n",
            "2017-03-02    32.889839\n",
            "2017-03-03    33.083920\n",
            "2017-03-06    32.979778\n",
            "2017-03-07    33.022373\n",
            "2017-03-08    32.899296\n",
            "2017-03-09    32.823563\n",
            "2017-03-10    32.932434\n",
            "2017-03-13    32.946640\n",
            "2017-03-14    32.896942\n",
            "2017-03-15    33.244865\n",
            "2017-03-16    33.299305\n",
            "2017-03-17    33.133617\n",
            "2017-03-20    33.481544\n",
            "2017-03-21    33.098122\n",
            "2017-03-22    33.472084\n",
            "2017-03-23    33.353741\n",
            "2017-03-24    33.287464\n",
            "2017-03-27    33.344276\n",
            "2017-03-28    34.035393\n",
            "2017-03-29    34.111141\n",
            "2017-03-30    34.066158\n",
            "2017-03-31    34.002254\n",
            "Name: Close, dtype: float64\n"
          ]
        }
      ]
    },
    {
      "cell_type": "code",
      "metadata": {
        "colab": {
          "base_uri": "https://localhost:8080/"
        },
        "id": "dLwxnHGSyvL6",
        "outputId": "f5343bff-b7ce-448b-8d95-d2535a272947"
      },
      "source": [
        "print(aapl['2018-3'])"
      ],
      "execution_count": 112,
      "outputs": [
        {
          "output_type": "stream",
          "name": "stdout",
          "text": [
            "Date\n",
            "2018-03-01    42.075230\n",
            "2018-03-02    42.366150\n",
            "2018-03-05    42.512814\n",
            "2018-03-06    42.476753\n",
            "2018-03-07    42.082432\n",
            "2018-03-08    42.541668\n",
            "2018-03-09    43.272568\n",
            "2018-03-12    43.690910\n",
            "2018-03-13    43.270164\n",
            "2018-03-14    42.902306\n",
            "2018-03-15    42.952789\n",
            "2018-03-16    42.801327\n",
            "2018-03-19    42.147350\n",
            "2018-03-20    42.132935\n",
            "2018-03-21    41.178421\n",
            "2018-03-22    40.596588\n",
            "2018-03-23    39.656502\n",
            "2018-03-26    41.539070\n",
            "2018-03-27    40.473969\n",
            "2018-03-28    40.026768\n",
            "2018-03-29    40.339317\n",
            "Name: Close, dtype: float64\n"
          ]
        }
      ]
    },
    {
      "cell_type": "code",
      "metadata": {
        "colab": {
          "base_uri": "https://localhost:8080/"
        },
        "id": "vpvxGwXtHW92",
        "outputId": "5b1625b9-71e5-4db7-99c4-a4914e3922c2"
      },
      "source": [
        "aapl['2017-2':'2017-4']"
      ],
      "execution_count": null,
      "outputs": [
        {
          "output_type": "execute_result",
          "data": {
            "text/plain": [
              "Date\n",
              "2017-02-01    30.341726\n",
              "2017-02-02    30.289885\n",
              "2017-02-03    30.419493\n",
              "2017-02-06    30.704651\n",
              "2017-02-07    30.996870\n",
              "                ...    \n",
              "2017-04-24    33.997528\n",
              "2017-04-25    34.208179\n",
              "2017-04-26    34.006985\n",
              "2017-04-27    34.033024\n",
              "2017-04-28    33.999889\n",
              "Name: Close, Length: 61, dtype: float64"
            ]
          },
          "metadata": {},
          "execution_count": 89
        }
      ]
    },
    {
      "cell_type": "code",
      "metadata": {
        "colab": {
          "base_uri": "https://localhost:8080/"
        },
        "id": "9R1hU4dFy0rS",
        "outputId": "ebd95013-ae85-43b8-c522-39e700cf0167"
      },
      "source": [
        "aapl['2018-2':'2018-4']"
      ],
      "execution_count": 113,
      "outputs": [
        {
          "output_type": "execute_result",
          "data": {
            "text/plain": [
              "Date\n",
              "2018-02-01    40.175518\n",
              "2018-02-02    38.432301\n",
              "2018-02-05    37.472099\n",
              "2018-02-06    39.038120\n",
              "2018-02-07    38.202427\n",
              "                ...    \n",
              "2018-04-24    39.175644\n",
              "2018-04-25    39.346348\n",
              "2018-04-26    39.483391\n",
              "2018-04-27    39.026577\n",
              "2018-04-30    39.733444\n",
              "Name: Close, Length: 61, dtype: float64"
            ]
          },
          "metadata": {},
          "execution_count": 113
        }
      ]
    },
    {
      "cell_type": "markdown",
      "metadata": {
        "id": "lWwoD39pKNKb"
      },
      "source": [
        ".head(N) and .tail(N) are methods for quickly accessing the first or last N elements."
      ]
    },
    {
      "cell_type": "code",
      "metadata": {
        "colab": {
          "base_uri": "https://localhost:8080/"
        },
        "id": "1eU218ALHW93",
        "outputId": "a5c6f29f-9b4e-45ab-ec16-381ebf0defd3"
      },
      "source": [
        "print(aapl.head(5))\n",
        "print(aapl.tail(10))"
      ],
      "execution_count": null,
      "outputs": [
        {
          "output_type": "stream",
          "name": "stdout",
          "text": [
            "Date\n",
            "2017-01-03    27.372364\n",
            "2017-01-04    27.341724\n",
            "2017-01-05    27.480768\n",
            "2017-01-06    27.787132\n",
            "2017-01-09    28.041645\n",
            "Name: Close, dtype: float64\n",
            "Date\n",
            "2017-12-15    41.657745\n",
            "2017-12-18    42.244392\n",
            "2017-12-19    41.794228\n",
            "2017-12-20    41.748734\n",
            "2017-12-21    41.906776\n",
            "2017-12-22    41.906776\n",
            "2017-12-26    40.843601\n",
            "2017-12-27    40.850777\n",
            "2017-12-28    40.965721\n",
            "2017-12-29    40.522736\n",
            "Name: Close, dtype: float64\n"
          ]
        }
      ]
    },
    {
      "cell_type": "code",
      "metadata": {
        "colab": {
          "base_uri": "https://localhost:8080/"
        },
        "id": "cqYj-M_Ty7iq",
        "outputId": "e6efe807-dc6f-4b70-b112-288703b19132"
      },
      "source": [
        "print(aapl.head(3))\n",
        "print(aapl.tail(6))"
      ],
      "execution_count": 114,
      "outputs": [
        {
          "output_type": "stream",
          "name": "stdout",
          "text": [
            "Date\n",
            "2018-01-02    41.248276\n",
            "2018-01-03    41.241096\n",
            "2018-01-04    41.432652\n",
            "Name: Close, dtype: float64\n",
            "Date\n",
            "2018-12-20    38.117306\n",
            "2018-12-21    36.634708\n",
            "2018-12-24    35.686821\n",
            "2018-12-26    38.199944\n",
            "2018-12-27    37.952038\n",
            "2018-12-28    37.971481\n",
            "Name: Close, dtype: float64\n"
          ]
        }
      ]
    },
    {
      "cell_type": "markdown",
      "metadata": {
        "id": "IxhKxtj-KQ66"
      },
      "source": [
        "# Resampling\n",
        "**_series.resample(freq)_** is a class called \"DatetimeIndexResampler\" which groups data in a Series object into regular time intervals. The argument \"freq\" determines the length of each interval.\n",
        "\n",
        "**_series.resample.mean()_** is a complete statement that groups data into intervals, and then compute the mean of each interval. For example, if we want to aggregate the daily data into monthly data by mean:"
      ]
    },
    {
      "cell_type": "code",
      "metadata": {
        "colab": {
          "base_uri": "https://localhost:8080/"
        },
        "id": "rAV8NkHkHW93",
        "outputId": "c29d30ec-ab67-43e8-de4f-ccf601869faf"
      },
      "source": [
        "by_month = aapl.resample('M').mean()\n",
        "print(by_month)"
      ],
      "execution_count": null,
      "outputs": [
        {
          "output_type": "stream",
          "name": "stdout",
          "text": [
            "Date\n",
            "2017-01-31    28.178332\n",
            "2017-02-28    31.606276\n",
            "2017-03-31    33.282219\n",
            "2017-04-30    33.819262\n",
            "2017-05-31    36.125686\n",
            "2017-06-30    35.133984\n",
            "2017-07-31    35.245242\n",
            "2017-08-31    37.897228\n",
            "2017-09-30    37.604739\n",
            "2017-10-31    37.654550\n",
            "2017-11-30    41.233914\n",
            "2017-12-31    41.160038\n",
            "Freq: M, Name: Close, dtype: float64\n"
          ]
        }
      ]
    },
    {
      "cell_type": "code",
      "metadata": {
        "colab": {
          "base_uri": "https://localhost:8080/"
        },
        "id": "Y3nLSglU1UyM",
        "outputId": "c1248c76-992d-4a94-a701-18bfcf5cd0ca"
      },
      "source": [
        "by_month = aapl.resample('M').mean()\n",
        "print(by_month)"
      ],
      "execution_count": 115,
      "outputs": [
        {
          "output_type": "stream",
          "name": "stdout",
          "text": [
            "Date\n",
            "2018-01-31    41.666180\n",
            "2018-02-28    40.255955\n",
            "2018-03-31    41.954097\n",
            "2018-04-30    40.833236\n",
            "2018-05-31    44.719292\n",
            "2018-06-30    45.525102\n",
            "2018-07-31    45.932997\n",
            "2018-08-31    51.619829\n",
            "2018-09-30    53.787015\n",
            "2018-10-31    53.489583\n",
            "2018-11-30    46.437511\n",
            "2018-12-31    40.012815\n",
            "Freq: M, Name: Close, dtype: float64\n"
          ]
        }
      ]
    },
    {
      "cell_type": "markdown",
      "metadata": {
        "id": "QDPfVzBEKV6Q"
      },
      "source": [
        "We can also aggregate the data by week:"
      ]
    },
    {
      "cell_type": "code",
      "metadata": {
        "colab": {
          "base_uri": "https://localhost:8080/"
        },
        "id": "aAP3tKkBHW94",
        "outputId": "7a27268b-2052-445d-d0c0-f0d53f680de9"
      },
      "source": [
        "by_week = aapl.resample('W').mean()\n",
        "print(by_week.head())"
      ],
      "execution_count": null,
      "outputs": [
        {
          "output_type": "stream",
          "name": "stdout",
          "text": [
            "Date\n",
            "2017-01-08    27.495497\n",
            "2017-01-15    28.097734\n",
            "2017-01-22    28.266116\n",
            "2017-01-29    28.553982\n",
            "2017-02-05    29.662543\n",
            "Freq: W-SUN, Name: Close, dtype: float64\n"
          ]
        }
      ]
    },
    {
      "cell_type": "code",
      "metadata": {
        "colab": {
          "base_uri": "https://localhost:8080/"
        },
        "id": "7yhTZ0-fzYS-",
        "outputId": "580c8cb6-301f-4e0a-abd4-e1f37168f0e6"
      },
      "source": [
        "by_week = aapl.resample('W').mean()\n",
        "print(by_week.head())"
      ],
      "execution_count": 116,
      "outputs": [
        {
          "output_type": "stream",
          "name": "stdout",
          "text": [
            "Date\n",
            "2018-01-07    41.456599\n",
            "2018-01-14    41.920663\n",
            "2018-01-21    42.683205\n",
            "2018-01-28    41.707069\n",
            "2018-02-04    39.779945\n",
            "Freq: W-SUN, Name: Close, dtype: float64\n"
          ]
        }
      ]
    },
    {
      "cell_type": "markdown",
      "metadata": {
        "id": "o_MXSVsILoBS"
      },
      "source": [
        "We can also aggregate the data by month with max:"
      ]
    },
    {
      "cell_type": "code",
      "metadata": {
        "colab": {
          "base_uri": "https://localhost:8080/"
        },
        "id": "gn0wqXBTHW95",
        "outputId": "863ffe25-7dff-480c-eda8-ee995ebbd923"
      },
      "source": [
        "aapl.resample('M').max()"
      ],
      "execution_count": null,
      "outputs": [
        {
          "output_type": "execute_result",
          "data": {
            "text/plain": [
              "Date\n",
              "2017-01-31    28.739218\n",
              "2017-02-28    32.451969\n",
              "2017-03-31    34.111141\n",
              "2017-04-30    34.264977\n",
              "2017-05-31    37.099133\n",
              "2017-06-30    36.944649\n",
              "2017-07-31    36.471699\n",
              "2017-08-31    39.129719\n",
              "2017-09-30    39.141655\n",
              "2017-10-31    40.332241\n",
              "2017-11-30    42.050140\n",
              "2017-12-31    42.244392\n",
              "Freq: M, Name: Close, dtype: float64"
            ]
          },
          "metadata": {},
          "execution_count": 93
        }
      ]
    },
    {
      "cell_type": "code",
      "metadata": {
        "colab": {
          "base_uri": "https://localhost:8080/"
        },
        "id": "Y5O1ovfR1Yaq",
        "outputId": "eadb6c9d-d95e-4a68-8693-50023e170ea5"
      },
      "source": [
        "aapl.resample('M').max()"
      ],
      "execution_count": 117,
      "outputs": [
        {
          "output_type": "execute_result",
          "data": {
            "text/plain": [
              "Date\n",
              "2018-01-31    42.924450\n",
              "2018-02-28    43.029728\n",
              "2018-03-31    43.690910\n",
              "2018-04-30    42.854225\n",
              "2018-05-31    45.691296\n",
              "2018-06-30    46.818432\n",
              "2018-07-31    47.021179\n",
              "2018-08-31    55.132778\n",
              "2018-09-30    55.309582\n",
              "2018-10-31    56.208168\n",
              "2018-11-30    53.822449\n",
              "2018-12-31    44.920235\n",
              "Freq: M, Name: Close, dtype: float64"
            ]
          },
          "metadata": {},
          "execution_count": 117
        }
      ]
    },
    {
      "cell_type": "markdown",
      "metadata": {
        "id": "Z8r46UFlLdAh"
      },
      "source": [
        "We can choose almost any frequency by using the format 'nf', where 'n' is an integer and 'f' is M for month, W for week and D for day."
      ]
    },
    {
      "cell_type": "code",
      "metadata": {
        "colab": {
          "base_uri": "https://localhost:8080/"
        },
        "id": "kdVB_-JFHW96",
        "outputId": "49704fff-b319-4947-b02e-e3f78f6bb972"
      },
      "source": [
        "three_day = aapl.resample('3D').mean()\n",
        "two_week = aapl.resample('2W').mean()\n",
        "two_month = aapl.resample('2M').mean()\n",
        "\n",
        "\n",
        "print(three_day)\n",
        "print(two_week)\n",
        "print(two_month )"
      ],
      "execution_count": null,
      "outputs": [
        {
          "output_type": "stream",
          "name": "stdout",
          "text": [
            "Date\n",
            "2017-01-03    27.398286\n",
            "2017-01-06    27.787132\n",
            "2017-01-09    28.110774\n",
            "2017-01-12    28.078175\n",
            "2017-01-15    28.279665\n",
            "                ...    \n",
            "2017-12-17    42.019310\n",
            "2017-12-20    41.854095\n",
            "2017-12-23          NaN\n",
            "2017-12-26    40.886700\n",
            "2017-12-29    40.522736\n",
            "Freq: 3D, Name: Close, Length: 121, dtype: float64\n",
            "Date\n",
            "2017-01-08    27.495497\n",
            "2017-01-22    28.172571\n",
            "2017-02-05    29.108263\n",
            "2017-02-19    31.516817\n",
            "2017-03-05    32.595556\n",
            "2017-03-19    33.017881\n",
            "2017-04-02    33.625218\n",
            "2017-04-16    33.849726\n",
            "2017-04-30    33.791843\n",
            "2017-05-14    35.697633\n",
            "2017-05-28    36.496181\n",
            "2017-06-11    36.515007\n",
            "2017-06-25    34.529047\n",
            "2017-07-09    34.265135\n",
            "2017-07-23    35.278873\n",
            "2017-08-06    36.272775\n",
            "2017-08-20    37.904119\n",
            "2017-09-03    38.458793\n",
            "2017-09-17    38.282708\n",
            "2017-10-01    36.840876\n",
            "2017-10-15    37.071593\n",
            "2017-10-29    37.757321\n",
            "2017-11-12    41.032237\n",
            "2017-11-26    41.204375\n",
            "2017-12-10    40.867067\n",
            "2017-12-24    41.620866\n",
            "2018-01-07    40.795709\n",
            "Freq: 2W-SUN, Name: Close, dtype: float64\n",
            "Date\n",
            "2017-01-31    28.178332\n",
            "2017-03-31    32.524054\n",
            "2017-05-31    35.056855\n",
            "2017-07-31    35.186964\n",
            "2017-09-30    37.761187\n",
            "2017-11-30    39.402611\n",
            "2018-01-31    41.160038\n",
            "Freq: 2M, Name: Close, dtype: float64\n"
          ]
        }
      ]
    },
    {
      "cell_type": "code",
      "metadata": {
        "colab": {
          "base_uri": "https://localhost:8080/"
        },
        "id": "NX8g2NaP1dSD",
        "outputId": "05bb8d62-83de-4152-f1f8-65d589be927b"
      },
      "source": [
        "three_day = aapl.resample('3D').mean()\n",
        "two_week = aapl.resample('2W').mean()\n",
        "two_month = aapl.resample('2M').mean()\n",
        "\n",
        "\n",
        "print(three_day)\n",
        "print(two_week)\n",
        "print(two_month )"
      ],
      "execution_count": 118,
      "outputs": [
        {
          "output_type": "stream",
          "name": "stdout",
          "text": [
            "Date\n",
            "2018-01-02    41.307341\n",
            "2018-01-05    41.904373\n",
            "2018-01-08    41.742352\n",
            "2018-01-11    42.188131\n",
            "2018-01-14    42.189335\n",
            "                ...    \n",
            "2018-12-16    40.104233\n",
            "2018-12-19    37.952031\n",
            "2018-12-22    35.686821\n",
            "2018-12-25    38.075991\n",
            "2018-12-28    37.971481\n",
            "Freq: 3D, Name: Close, Length: 121, dtype: float64\n",
            "Date\n",
            "2018-01-07    41.456599\n",
            "2018-01-21    42.259571\n",
            "2018-02-04    40.743507\n",
            "2018-02-18    39.139214\n",
            "2018-03-04    42.144952\n",
            "2018-03-18    42.850373\n",
            "2018-04-01    40.898991\n",
            "2018-04-15    41.172895\n",
            "2018-04-29    40.603557\n",
            "2018-05-13    43.507641\n",
            "2018-05-27    45.277366\n",
            "2018-06-10    46.039920\n",
            "2018-06-24    45.499657\n",
            "2018-07-08    44.673570\n",
            "2018-07-22    46.032817\n",
            "2018-08-05    47.347004\n",
            "2018-08-19    50.782590\n",
            "2018-09-02    53.054185\n",
            "2018-09-16    54.176341\n",
            "2018-09-30    53.436622\n",
            "2018-10-14    54.361358\n",
            "2018-10-28    53.057090\n",
            "2018-11-11    50.955028\n",
            "2018-11-25    45.100361\n",
            "2018-12-09    43.010144\n",
            "2018-12-23    39.913920\n",
            "2019-01-06    37.452571\n",
            "Freq: 2W-SUN, Name: Close, dtype: float64\n",
            "Date\n",
            "2018-01-31    41.666180\n",
            "2018-03-31    41.147479\n",
            "2018-05-31    42.821451\n",
            "2018-07-31    45.729050\n",
            "2018-09-30    52.600223\n",
            "2018-11-30    50.123821\n",
            "2019-01-31    40.012815\n",
            "Freq: 2M, Name: Close, dtype: float64\n"
          ]
        }
      ]
    },
    {
      "cell_type": "markdown",
      "metadata": {
        "id": "iy4RqsnwL-Bw"
      },
      "source": [
        "Besides the mean() method, other methods can also be used with the resampler:\n",
        "\n"
      ]
    },
    {
      "cell_type": "code",
      "metadata": {
        "colab": {
          "base_uri": "https://localhost:8080/"
        },
        "id": "DNT8Fx9dHW96",
        "outputId": "8b73ed41-5341-44f2-ffc3-478bd92f73f4"
      },
      "source": [
        "std = aapl.resample('W').std()\n",
        "max = aapl.resample('W').max()\n",
        "min = aapl.resample('W').min()\n",
        "\n",
        "\n",
        "print(std)\n",
        "print(max)\n",
        "print(min)"
      ],
      "execution_count": null,
      "outputs": [
        {
          "output_type": "stream",
          "name": "stdout",
          "text": [
            "Date\n",
            "2017-01-08    0.203368\n",
            "2017-01-15    0.072530\n",
            "2017-01-22    0.025554\n",
            "2017-01-29    0.245288\n",
            "2017-02-05    0.943260\n",
            "2017-02-12    0.252001\n",
            "2017-02-19    0.231394\n",
            "2017-02-26    0.059345\n",
            "2017-03-05    0.340094\n",
            "2017-03-12    0.076284\n",
            "2017-03-19    0.177834\n",
            "2017-03-26    0.157262\n",
            "2017-04-02    0.319806\n",
            "2017-04-09    0.128689\n",
            "2017-04-16    0.212476\n",
            "2017-04-23    0.174672\n",
            "2017-04-30    0.090027\n",
            "2017-05-07    0.235639\n",
            "2017-05-14    0.352980\n",
            "2017-05-21    0.536091\n",
            "2017-05-28    0.060392\n",
            "2017-06-04    0.281225\n",
            "2017-06-11    0.620034\n",
            "2017-06-18    0.382564\n",
            "2017-06-25    0.128893\n",
            "2017-07-02    0.264113\n",
            "2017-07-09    0.158890\n",
            "2017-07-16    0.404281\n",
            "2017-07-23    0.124988\n",
            "2017-07-30    0.384441\n",
            "2017-08-06    0.924388\n",
            "2017-08-13    0.467469\n",
            "2017-08-20    0.435251\n",
            "2017-08-27    0.275762\n",
            "2017-09-03    0.251722\n",
            "2017-09-10    0.381637\n",
            "2017-09-17    0.294141\n",
            "2017-09-24    0.735195\n",
            "2017-10-01    0.354840\n",
            "2017-10-08    0.204857\n",
            "2017-10-15    0.118733\n",
            "2017-10-22    0.517001\n",
            "2017-10-29    0.680452\n",
            "2017-11-05    0.560686\n",
            "2017-11-12    0.190971\n",
            "2017-11-19    0.436199\n",
            "2017-11-26    0.563047\n",
            "2017-12-03    0.427439\n",
            "2017-12-10    0.073130\n",
            "2017-12-17    0.205266\n",
            "2017-12-24    0.194120\n",
            "2017-12-31    0.190390\n",
            "Freq: W-SUN, Name: Close, dtype: float64\n",
            "Date\n",
            "2017-01-08    27.787132\n",
            "2017-01-15    28.220753\n",
            "2017-01-22    28.279665\n",
            "2017-01-29    28.739218\n",
            "2017-02-05    30.419493\n",
            "2017-02-12    31.341911\n",
            "2017-02-19    32.122974\n",
            "2017-02-26    32.451969\n",
            "2017-03-05    33.086281\n",
            "2017-03-12    33.022373\n",
            "2017-03-19    33.299305\n",
            "2017-03-26    33.481544\n",
            "2017-04-02    34.111141\n",
            "2017-04-09    34.264977\n",
            "2017-04-16    33.886284\n",
            "2017-04-23    33.713501\n",
            "2017-04-30    34.208179\n",
            "2017-05-07    35.256695\n",
            "2017-05-14    37.099133\n",
            "2017-05-21    37.004063\n",
            "2017-05-28    36.597664\n",
            "2017-06-04    36.944649\n",
            "2017-06-11    36.925632\n",
            "2017-06-18    34.838963\n",
            "2017-06-25    34.779545\n",
            "2017-07-02    34.658337\n",
            "2017-07-09    34.266190\n",
            "2017-07-16    35.421230\n",
            "2017-07-23    35.891800\n",
            "2017-07-30    36.471699\n",
            "2017-08-06    37.346291\n",
            "2017-08-13    38.277939\n",
            "2017-08-20    38.557095\n",
            "2017-08-27    38.170567\n",
            "2017-09-03    39.141655\n",
            "2017-09-10    38.671623\n",
            "2017-09-17    38.533234\n",
            "2017-09-24    37.872326\n",
            "2017-10-01    36.798645\n",
            "2017-10-08    37.075409\n",
            "2017-10-15    37.457165\n",
            "2017-10-22    38.287479\n",
            "2017-10-29    38.903053\n",
            "2017-11-05    41.157795\n",
            "2017-11-12    42.050140\n",
            "2017-11-19    41.657745\n",
            "2017-11-26    41.897190\n",
            "2017-12-03    41.686470\n",
            "2017-12-10    40.659222\n",
            "2017-12-17    41.657745\n",
            "2017-12-24    42.244392\n",
            "2017-12-31    40.965721\n",
            "Freq: W-SUN, Name: Close, dtype: float64\n",
            "Date\n",
            "2017-01-08    27.341724\n",
            "2017-01-15    28.041645\n",
            "2017-01-22    28.227821\n",
            "2017-01-29    28.272598\n",
            "2017-02-05    28.597816\n",
            "2017-02-12    30.704651\n",
            "2017-02-19    31.547823\n",
            "2017-02-26    32.314690\n",
            "2017-03-05    32.409355\n",
            "2017-03-12    32.823563\n",
            "2017-03-19    32.896942\n",
            "2017-03-26    33.098122\n",
            "2017-04-02    33.344276\n",
            "2017-04-09    33.926514\n",
            "2017-04-16    33.384510\n",
            "2017-04-23    33.296936\n",
            "2017-04-30    33.997528\n",
            "2017-05-07    34.681545\n",
            "2017-05-14    36.215267\n",
            "2017-05-21    35.708805\n",
            "2017-05-28    36.443184\n",
            "2017-06-04    36.305332\n",
            "2017-06-11    35.406971\n",
            "2017-06-18    33.812263\n",
            "2017-06-25    34.463455\n",
            "2017-07-02    34.147358\n",
            "2017-07-09    33.921577\n",
            "2017-07-16    34.475338\n",
            "2017-07-23    35.544815\n",
            "2017-07-30    35.530552\n",
            "2017-08-06    35.347557\n",
            "2017-08-13    37.058720\n",
            "2017-08-20    37.578846\n",
            "2017-08-27    37.509666\n",
            "2017-09-03    38.526081\n",
            "2017-09-10    37.848465\n",
            "2017-09-17    37.764950\n",
            "2017-09-24    36.240326\n",
            "2017-10-01    35.920620\n",
            "2017-10-08    36.619694\n",
            "2017-10-15    37.182777\n",
            "2017-10-22    37.216179\n",
            "2017-10-29    37.261517\n",
            "2017-11-05    39.778702\n",
            "2017-11-12    41.575333\n",
            "2017-11-19    40.486816\n",
            "2017-11-26    40.702312\n",
            "2017-12-03    40.582603\n",
            "2017-12-10    40.470051\n",
            "2017-12-17    41.114185\n",
            "2017-12-24    41.748734\n",
            "2017-12-31    40.522736\n",
            "Freq: W-SUN, Name: Close, dtype: float64\n"
          ]
        }
      ]
    },
    {
      "cell_type": "code",
      "metadata": {
        "colab": {
          "base_uri": "https://localhost:8080/"
        },
        "id": "Y_VOFUCM1g0F",
        "outputId": "648c105d-1d0c-4288-d7b6-d599d4d30c7d"
      },
      "source": [
        "std = aapl.resample('W').std()\n",
        "max = aapl.resample('W').max()\n",
        "min = aapl.resample('W').min()\n",
        "\n",
        "\n",
        "print(std)\n",
        "print(max)\n",
        "print(min)"
      ],
      "execution_count": 119,
      "outputs": [
        {
          "output_type": "stream",
          "name": "stdout",
          "text": [
            "Date\n",
            "2018-01-07    0.311403\n",
            "2018-01-14    0.288312\n",
            "2018-01-21    0.339490\n",
            "2018-01-28    0.684510\n",
            "2018-02-04    0.758768\n",
            "2018-02-11    0.744480\n",
            "2018-02-18    1.116748\n",
            "2018-02-25    0.465712\n",
            "2018-03-04    0.400878\n",
            "2018-03-11    0.431228\n",
            "2018-03-18    0.362398\n",
            "2018-03-25    1.060446\n",
            "2018-04-01    0.656805\n",
            "2018-04-08    0.610086\n",
            "2018-04-15    0.439084\n",
            "2018-04-22    1.237680\n",
            "2018-04-29    0.272098\n",
            "2018-05-06    1.748038\n",
            "2018-05-13    0.500233\n",
            "2018-05-20    0.218412\n",
            "2018-05-27    0.139075\n",
            "2018-06-03    0.354981\n",
            "2018-06-10    0.248004\n",
            "2018-06-17    0.301032\n",
            "2018-06-24    0.361401\n",
            "2018-07-01    0.311578\n",
            "2018-07-08    0.438547\n",
            "2018-07-15    0.330694\n",
            "2018-07-22    0.137874\n",
            "2018-07-29    0.395859\n",
            "2018-08-05    2.142135\n",
            "2018-08-12    0.218422\n",
            "2018-08-19    0.863346\n",
            "2018-08-26    0.110552\n",
            "2018-09-02    0.949397\n",
            "2018-09-09    0.791677\n",
            "2018-09-16    0.747899\n",
            "2018-09-23    0.226394\n",
            "2018-09-30    0.585075\n",
            "2018-10-07    0.688865\n",
            "2018-10-14    1.254903\n",
            "2018-10-21    0.619544\n",
            "2018-10-28    0.764156\n",
            "2018-11-04    1.401455\n",
            "2018-11-11    0.865057\n",
            "2018-11-18    0.706504\n",
            "2018-11-25    1.381394\n",
            "2018-12-02    0.730030\n",
            "2018-12-09    1.637513\n",
            "2018-12-16    0.492021\n",
            "2018-12-23    1.481742\n",
            "2018-12-30    1.182536\n",
            "Freq: W-SUN, Name: Close, dtype: float64\n",
            "Date\n",
            "2018-01-07    41.904373\n",
            "2018-01-14    42.404839\n",
            "2018-01-21    42.924450\n",
            "2018-01-28    42.392860\n",
            "2018-02-04    40.218632\n",
            "2018-02-11    39.038120\n",
            "2018-02-18    41.591965\n",
            "2018-02-25    42.195446\n",
            "2018-03-04    43.029728\n",
            "2018-03-11    43.272568\n",
            "2018-03-18    43.690910\n",
            "2018-03-25    42.147350\n",
            "2018-04-01    41.539070\n",
            "2018-04-08    41.546284\n",
            "2018-04-15    42.010315\n",
            "2018-04-22    42.854225\n",
            "2018-04-29    39.728634\n",
            "2018-05-06    44.198223\n",
            "2018-05-13    45.691296\n",
            "2018-05-20    45.418552\n",
            "2018-05-27    45.515106\n",
            "2018-06-03    45.915756\n",
            "2018-06-10    46.818432\n",
            "2018-06-17    46.408127\n",
            "2018-06-24    45.553719\n",
            "2018-07-01    44.771721\n",
            "2018-07-08    45.367878\n",
            "2018-07-15    46.178833\n",
            "2018-07-22    46.311581\n",
            "2018-07-29    47.021179\n",
            "2018-08-05    50.199844\n",
            "2018-08-12    50.460514\n",
            "2018-08-19    52.698627\n",
            "2018-08-26    52.354698\n",
            "2018-09-02    55.132778\n",
            "2018-09-09    55.309582\n",
            "2018-09-16    54.837288\n",
            "2018-09-23    53.292023\n",
            "2018-09-30    54.675011\n",
            "2018-10-07    56.208168\n",
            "2018-10-14    54.948700\n",
            "2018-10-21    53.805496\n",
            "2018-10-28    53.945972\n",
            "2018-11-04    53.822449\n",
            "2018-11-11    50.850613\n",
            "2018-11-18    47.192738\n",
            "2018-11-25    45.173004\n",
            "2018-12-02    43.977207\n",
            "2018-12-09    44.920235\n",
            "2018-12-16    41.549149\n",
            "2018-12-23    40.363079\n",
            "2018-12-30    38.199944\n",
            "Freq: W-SUN, Name: Close, dtype: float64\n",
            "Date\n",
            "2018-01-07    41.241096\n",
            "2018-01-14    41.734364\n",
            "2018-01-21    42.189335\n",
            "2018-01-28    40.972908\n",
            "2018-02-04    38.432301\n",
            "2018-02-11    37.151230\n",
            "2018-02-18    39.120346\n",
            "2018-02-25    41.130337\n",
            "2018-03-04    42.075230\n",
            "2018-03-11    42.082432\n",
            "2018-03-18    42.801327\n",
            "2018-03-25    39.656502\n",
            "2018-04-01    40.026768\n",
            "2018-04-08    40.074852\n",
            "2018-04-15    40.885101\n",
            "2018-04-22    39.844040\n",
            "2018-04-29    39.026577\n",
            "2018-05-06    39.733444\n",
            "2018-05-13    44.517998\n",
            "2018-05-20    44.967224\n",
            "2018-05-27    45.172379\n",
            "2018-06-03    45.102379\n",
            "2018-06-10    46.268135\n",
            "2018-06-17    45.577850\n",
            "2018-06-24    44.631733\n",
            "2018-07-01    43.968006\n",
            "2018-07-08    44.390377\n",
            "2018-07-15    45.346161\n",
            "2018-07-22    45.954376\n",
            "2018-07-29    46.094360\n",
            "2018-08-05    45.836109\n",
            "2018-08-12    49.987450\n",
            "2018-08-19    50.589039\n",
            "2018-08-26    52.083435\n",
            "2018-09-02    52.785824\n",
            "2018-09-09    53.599632\n",
            "2018-09-16    52.880276\n",
            "2018-09-23    52.718006\n",
            "2018-09-30    53.386490\n",
            "2018-10-07    54.323818\n",
            "2018-10-14    51.940536\n",
            "2018-10-21    52.320797\n",
            "2018-10-28    52.095535\n",
            "2018-11-04    50.252373\n",
            "2018-11-11    48.825790\n",
            "2018-11-18    45.401470\n",
            "2018-11-25    41.874836\n",
            "2018-12-02    42.348785\n",
            "2018-12-09    40.951252\n",
            "2018-12-16    40.219669\n",
            "2018-12-23    36.634708\n",
            "2018-12-30    35.686821\n",
            "Freq: W-SUN, Name: Close, dtype: float64\n"
          ]
        }
      ]
    },
    {
      "cell_type": "markdown",
      "metadata": {
        "id": "uqln0s5DMI3I"
      },
      "source": [
        "Often we want to calculate monthly returns of a stock, based on prices on the last day of each month. To fetch those prices, we use the series.resample.agg() method:"
      ]
    },
    {
      "cell_type": "code",
      "metadata": {
        "colab": {
          "base_uri": "https://localhost:8080/"
        },
        "id": "A6FSYvqbHW97",
        "outputId": "2d8df5ca-cc77-40a4-fe0d-6c80266d3ca7"
      },
      "source": [
        "last_day = aapl.resample('M').agg(lambda x: x[-1])\n",
        "print(last_day)"
      ],
      "execution_count": null,
      "outputs": [
        {
          "output_type": "stream",
          "name": "stdout",
          "text": [
            "Date\n",
            "2017-01-31    28.597816\n",
            "2017-02-28    32.423561\n",
            "2017-03-31    34.002254\n",
            "2017-04-30    33.999889\n",
            "2017-05-31    36.305332\n",
            "2017-06-30    34.228172\n",
            "2017-07-31    35.347557\n",
            "2017-08-31    39.129719\n",
            "2017-09-30    36.772392\n",
            "2017-10-31    40.332241\n",
            "2017-11-30    41.150097\n",
            "2017-12-31    40.522736\n",
            "Freq: M, Name: Close, dtype: float64\n"
          ]
        }
      ]
    },
    {
      "cell_type": "code",
      "metadata": {
        "colab": {
          "base_uri": "https://localhost:8080/"
        },
        "id": "80qhmqtZ1oMj",
        "outputId": "5884df60-de6e-4b19-afe1-1ffc7ed4f721"
      },
      "source": [
        "last_day = aapl.resample('W').agg(lambda x: x[-1])\n",
        "print(last_day)"
      ],
      "execution_count": 120,
      "outputs": [
        {
          "output_type": "stream",
          "name": "stdout",
          "text": [
            "Date\n",
            "2018-01-07    41.904373\n",
            "2018-01-14    42.404839\n",
            "2018-01-21    42.732887\n",
            "2018-01-28    41.068687\n",
            "2018-02-04    38.432301\n",
            "2018-02-11    37.605633\n",
            "2018-02-18    41.457329\n",
            "2018-02-25    42.195446\n",
            "2018-03-04    42.366150\n",
            "2018-03-11    43.272568\n",
            "2018-03-18    42.801327\n",
            "2018-03-25    39.656502\n",
            "2018-04-01    40.339317\n",
            "2018-04-08    40.483582\n",
            "2018-04-15    42.010315\n",
            "2018-04-22    39.844040\n",
            "2018-04-29    39.026577\n",
            "2018-05-06    44.198223\n",
            "2018-05-13    45.517517\n",
            "2018-05-20    44.967224\n",
            "2018-05-27    45.515106\n",
            "2018-06-03    45.915756\n",
            "2018-06-10    46.268135\n",
            "2018-06-17    45.577850\n",
            "2018-06-24    44.631733\n",
            "2018-07-01    44.677605\n",
            "2018-07-08    45.367878\n",
            "2018-07-15    46.178833\n",
            "2018-07-22    46.205391\n",
            "2018-07-29    46.094360\n",
            "2018-08-05    50.199844\n",
            "2018-08-12    50.264484\n",
            "2018-08-19    52.698627\n",
            "2018-08-26    52.354698\n",
            "2018-09-02    55.132778\n",
            "2018-09-09    53.599632\n",
            "2018-09-16    54.214828\n",
            "2018-09-23    52.718006\n",
            "2018-09-30    54.675011\n",
            "2018-10-07    54.323818\n",
            "2018-10-14    53.795811\n",
            "2018-10-21    53.117638\n",
            "2018-10-28    52.388611\n",
            "2018-11-04    50.252373\n",
            "2018-11-11    49.696136\n",
            "2018-11-18    47.037193\n",
            "2018-11-25    41.874836\n",
            "2018-12-02    43.403614\n",
            "2018-12-09    40.951252\n",
            "2018-12-16    40.219669\n",
            "2018-12-23    36.634708\n",
            "2018-12-30    37.971481\n",
            "Freq: W-SUN, Name: Close, dtype: float64\n"
          ]
        }
      ]
    },
    {
      "cell_type": "markdown",
      "metadata": {
        "id": "uwomY3aXMR46"
      },
      "source": [
        "Or directly calculate the monthly rates of return using the data for the first day and the last day:"
      ]
    },
    {
      "cell_type": "code",
      "metadata": {
        "colab": {
          "base_uri": "https://localhost:8080/"
        },
        "id": "qK2NMJrNHW96",
        "outputId": "b6ef704f-d164-486d-ad77-4b8391d02e5e"
      },
      "source": [
        "monthly_return = aapl.resample('M').agg(lambda x: x[-1]/x[0] - 1)\n",
        "print(monthly_return)"
      ],
      "execution_count": null,
      "outputs": [
        {
          "output_type": "stream",
          "name": "stdout",
          "text": [
            "Date\n",
            "2017-01-31    0.044770\n",
            "2017-02-28    0.068613\n",
            "2017-03-31    0.027684\n",
            "2017-04-30   -0.000348\n",
            "2017-05-31    0.046463\n",
            "2017-06-30   -0.059799\n",
            "2017-07-31    0.036446\n",
            "2017-08-31    0.097261\n",
            "2017-09-30   -0.060530\n",
            "2017-10-31    0.099018\n",
            "2017-11-30    0.033422\n",
            "2017-12-31   -0.010640\n",
            "Freq: M, Name: Close, dtype: float64\n"
          ]
        }
      ]
    },
    {
      "cell_type": "code",
      "metadata": {
        "colab": {
          "base_uri": "https://localhost:8080/"
        },
        "id": "yXVlCe2r2ZhM",
        "outputId": "0c71f233-c748-4fb9-96da-cf7b3afa9a38"
      },
      "source": [
        "monthly_return = aapl.resample('M').agg(lambda x: x[-1]/x[0] - 1)\n",
        "print(monthly_return)"
      ],
      "execution_count": 121,
      "outputs": [
        {
          "output_type": "stream",
          "name": "stdout",
          "text": [
            "Date\n",
            "2018-01-31   -0.028039\n",
            "2018-02-28    0.065957\n",
            "2018-03-31   -0.041257\n",
            "2018-04-30   -0.008519\n",
            "2018-05-31    0.109347\n",
            "2018-06-30   -0.026966\n",
            "2018-07-31    0.016615\n",
            "2018-08-31    0.133639\n",
            "2018-09-30   -0.011473\n",
            "2018-10-31   -0.036962\n",
            "2018-11-30   -0.193578\n",
            "2018-12-31   -0.154691\n",
            "Freq: M, Name: Close, dtype: float64\n"
          ]
        }
      ]
    },
    {
      "cell_type": "markdown",
      "metadata": {
        "id": "_DYbMTFWMj8J"
      },
      "source": [
        "Series object also provides us some convenient methods to do some quick calculation."
      ]
    },
    {
      "cell_type": "code",
      "metadata": {
        "colab": {
          "base_uri": "https://localhost:8080/"
        },
        "id": "1Mxc0HwvHW98",
        "outputId": "d3f0a1bf-5cb9-453c-be0c-d672fd27802e"
      },
      "source": [
        "print(monthly_return.mean())\n",
        "print(monthly_return.std())\n",
        "print(monthly_return.max())"
      ],
      "execution_count": null,
      "outputs": [
        {
          "output_type": "stream",
          "name": "stdout",
          "text": [
            "0.02686331860727394\n",
            "0.052258487776588924\n",
            "0.09901841642506737\n"
          ]
        }
      ]
    },
    {
      "cell_type": "code",
      "metadata": {
        "colab": {
          "base_uri": "https://localhost:8080/"
        },
        "id": "yiFjIW3g2fFk",
        "outputId": "cc709e51-0056-49d5-b63b-850368b22105"
      },
      "source": [
        "print(monthly_return.mean())\n",
        "print(monthly_return.std())\n",
        "print(monthly_return.max())"
      ],
      "execution_count": 122,
      "outputs": [
        {
          "output_type": "stream",
          "name": "stdout",
          "text": [
            "-0.014660575439773393\n",
            "0.09441254229874485\n",
            "0.13363932943884693\n"
          ]
        }
      ]
    },
    {
      "cell_type": "markdown",
      "metadata": {
        "id": "mn59J5dqMpqX"
      },
      "source": [
        "Another two methods frequently used on Series are .diff() and .pct_change(). The former calculates the difference between consecutive elements, and the latter calculates the percentage change."
      ]
    },
    {
      "cell_type": "code",
      "metadata": {
        "colab": {
          "base_uri": "https://localhost:8080/"
        },
        "id": "DupZTSqqHW99",
        "outputId": "141cb6b9-3a98-4204-b65c-1291020b7745"
      },
      "source": [
        "print(last_day.diff())\n",
        "print(last_day.pct_change())"
      ],
      "execution_count": null,
      "outputs": [
        {
          "output_type": "stream",
          "name": "stdout",
          "text": [
            "Date\n",
            "2017-01-31         NaN\n",
            "2017-02-28    3.825745\n",
            "2017-03-31    1.578693\n",
            "2017-04-30   -0.002365\n",
            "2017-05-31    2.305443\n",
            "2017-06-30   -2.077160\n",
            "2017-07-31    1.119385\n",
            "2017-08-31    3.782162\n",
            "2017-09-30   -2.357327\n",
            "2017-10-31    3.559849\n",
            "2017-11-30    0.817856\n",
            "2017-12-31   -0.627361\n",
            "Freq: M, Name: Close, dtype: float64\n",
            "Date\n",
            "2017-01-31         NaN\n",
            "2017-02-28    0.133778\n",
            "2017-03-31    0.048690\n",
            "2017-04-30   -0.000070\n",
            "2017-05-31    0.067807\n",
            "2017-06-30   -0.057214\n",
            "2017-07-31    0.032704\n",
            "2017-08-31    0.106999\n",
            "2017-09-30   -0.060244\n",
            "2017-10-31    0.096808\n",
            "2017-11-30    0.020278\n",
            "2017-12-31   -0.015246\n",
            "Freq: M, Name: Close, dtype: float64\n"
          ]
        }
      ]
    },
    {
      "cell_type": "code",
      "metadata": {
        "colab": {
          "base_uri": "https://localhost:8080/"
        },
        "id": "zd8YP5uA2hfT",
        "outputId": "d0e90e0b-677d-437b-8983-b801a36252d1"
      },
      "source": [
        "print(last_day.diff())\n",
        "print(last_day.pct_change())"
      ],
      "execution_count": 123,
      "outputs": [
        {
          "output_type": "stream",
          "name": "stdout",
          "text": [
            "Date\n",
            "2018-01-07         NaN\n",
            "2018-01-14    0.500465\n",
            "2018-01-21    0.328049\n",
            "2018-01-28   -1.664200\n",
            "2018-02-04   -2.636387\n",
            "2018-02-11   -0.826668\n",
            "2018-02-18    3.851696\n",
            "2018-02-25    0.738117\n",
            "2018-03-04    0.170704\n",
            "2018-03-11    0.906418\n",
            "2018-03-18   -0.471241\n",
            "2018-03-25   -3.144825\n",
            "2018-04-01    0.682816\n",
            "2018-04-08    0.144264\n",
            "2018-04-15    1.526733\n",
            "2018-04-22   -2.166275\n",
            "2018-04-29   -0.817463\n",
            "2018-05-06    5.171646\n",
            "2018-05-13    1.319294\n",
            "2018-05-20   -0.550293\n",
            "2018-05-27    0.547882\n",
            "2018-06-03    0.400650\n",
            "2018-06-10    0.352379\n",
            "2018-06-17   -0.690285\n",
            "2018-06-24   -0.946117\n",
            "2018-07-01    0.045872\n",
            "2018-07-08    0.690273\n",
            "2018-07-15    0.810955\n",
            "2018-07-22    0.026558\n",
            "2018-07-29   -0.111031\n",
            "2018-08-05    4.105484\n",
            "2018-08-12    0.064640\n",
            "2018-08-19    2.434143\n",
            "2018-08-26   -0.343929\n",
            "2018-09-02    2.778080\n",
            "2018-09-09   -1.533146\n",
            "2018-09-16    0.615196\n",
            "2018-09-23   -1.496822\n",
            "2018-09-30    1.957005\n",
            "2018-10-07   -0.351192\n",
            "2018-10-14   -0.528008\n",
            "2018-10-21   -0.678173\n",
            "2018-10-28   -0.729027\n",
            "2018-11-04   -2.136238\n",
            "2018-11-11   -0.556236\n",
            "2018-11-18   -2.658943\n",
            "2018-11-25   -5.162357\n",
            "2018-12-02    1.528778\n",
            "2018-12-09   -2.452362\n",
            "2018-12-16   -0.731583\n",
            "2018-12-23   -3.584961\n",
            "2018-12-30    1.336773\n",
            "Freq: W-SUN, Name: Close, dtype: float64\n",
            "Date\n",
            "2018-01-07         NaN\n",
            "2018-01-14    0.011943\n",
            "2018-01-21    0.007736\n",
            "2018-01-28   -0.038944\n",
            "2018-02-04   -0.064195\n",
            "2018-02-11   -0.021510\n",
            "2018-02-18    0.102423\n",
            "2018-02-25    0.017804\n",
            "2018-03-04    0.004046\n",
            "2018-03-11    0.021395\n",
            "2018-03-18   -0.010890\n",
            "2018-03-25   -0.073475\n",
            "2018-04-01    0.017218\n",
            "2018-04-08    0.003576\n",
            "2018-04-15    0.037712\n",
            "2018-04-22   -0.051565\n",
            "2018-04-29   -0.020517\n",
            "2018-05-06    0.132516\n",
            "2018-05-13    0.029849\n",
            "2018-05-20   -0.012090\n",
            "2018-05-27    0.012184\n",
            "2018-06-03    0.008803\n",
            "2018-06-10    0.007674\n",
            "2018-06-17   -0.014919\n",
            "2018-06-24   -0.020758\n",
            "2018-07-01    0.001028\n",
            "2018-07-08    0.015450\n",
            "2018-07-15    0.017875\n",
            "2018-07-22    0.000575\n",
            "2018-07-29   -0.002403\n",
            "2018-08-05    0.089067\n",
            "2018-08-12    0.001288\n",
            "2018-08-19    0.048427\n",
            "2018-08-26   -0.006526\n",
            "2018-09-02    0.053063\n",
            "2018-09-09   -0.027808\n",
            "2018-09-16    0.011478\n",
            "2018-09-23   -0.027609\n",
            "2018-09-30    0.037122\n",
            "2018-10-07   -0.006423\n",
            "2018-10-14   -0.009720\n",
            "2018-10-21   -0.012606\n",
            "2018-10-28   -0.013725\n",
            "2018-11-04   -0.040777\n",
            "2018-11-11   -0.011069\n",
            "2018-11-18   -0.053504\n",
            "2018-11-25   -0.109751\n",
            "2018-12-02    0.036508\n",
            "2018-12-09   -0.056501\n",
            "2018-12-16   -0.017865\n",
            "2018-12-23   -0.089135\n",
            "2018-12-30    0.036489\n",
            "Freq: W-SUN, Name: Close, dtype: float64\n"
          ]
        }
      ]
    },
    {
      "cell_type": "markdown",
      "metadata": {
        "id": "RaMAOFepM6Io"
      },
      "source": [
        "Notice that we induced a NaN value while calculating percentage changes i.e. returns.\n",
        "\n",
        "When dealing with NaN values, we usually either removing the data point or fill it with a specific value. Here we fill it with 0:"
      ]
    },
    {
      "cell_type": "code",
      "metadata": {
        "colab": {
          "base_uri": "https://localhost:8080/"
        },
        "id": "-xyLb3A3HW99",
        "outputId": "9831c7d3-abb2-48f4-aaaa-b0451d8a1f53"
      },
      "source": [
        "daily_return = last_day.pct_change()\n",
        "print(daily_return.fillna(0))"
      ],
      "execution_count": null,
      "outputs": [
        {
          "output_type": "stream",
          "name": "stdout",
          "text": [
            "Date\n",
            "2017-01-31    0.000000\n",
            "2017-02-28    0.133778\n",
            "2017-03-31    0.048690\n",
            "2017-04-30   -0.000070\n",
            "2017-05-31    0.067807\n",
            "2017-06-30   -0.057214\n",
            "2017-07-31    0.032704\n",
            "2017-08-31    0.106999\n",
            "2017-09-30   -0.060244\n",
            "2017-10-31    0.096808\n",
            "2017-11-30    0.020278\n",
            "2017-12-31   -0.015246\n",
            "Freq: M, Name: Close, dtype: float64\n"
          ]
        }
      ]
    },
    {
      "cell_type": "code",
      "metadata": {
        "colab": {
          "base_uri": "https://localhost:8080/"
        },
        "id": "jYGSb6hH2nCU",
        "outputId": "7478be3f-c07a-460f-a7bb-f45e090a9846"
      },
      "source": [
        "daily_return = last_day.pct_change()\n",
        "print(daily_return.fillna(0))"
      ],
      "execution_count": 124,
      "outputs": [
        {
          "output_type": "stream",
          "name": "stdout",
          "text": [
            "Date\n",
            "2018-01-07    0.000000\n",
            "2018-01-14    0.011943\n",
            "2018-01-21    0.007736\n",
            "2018-01-28   -0.038944\n",
            "2018-02-04   -0.064195\n",
            "2018-02-11   -0.021510\n",
            "2018-02-18    0.102423\n",
            "2018-02-25    0.017804\n",
            "2018-03-04    0.004046\n",
            "2018-03-11    0.021395\n",
            "2018-03-18   -0.010890\n",
            "2018-03-25   -0.073475\n",
            "2018-04-01    0.017218\n",
            "2018-04-08    0.003576\n",
            "2018-04-15    0.037712\n",
            "2018-04-22   -0.051565\n",
            "2018-04-29   -0.020517\n",
            "2018-05-06    0.132516\n",
            "2018-05-13    0.029849\n",
            "2018-05-20   -0.012090\n",
            "2018-05-27    0.012184\n",
            "2018-06-03    0.008803\n",
            "2018-06-10    0.007674\n",
            "2018-06-17   -0.014919\n",
            "2018-06-24   -0.020758\n",
            "2018-07-01    0.001028\n",
            "2018-07-08    0.015450\n",
            "2018-07-15    0.017875\n",
            "2018-07-22    0.000575\n",
            "2018-07-29   -0.002403\n",
            "2018-08-05    0.089067\n",
            "2018-08-12    0.001288\n",
            "2018-08-19    0.048427\n",
            "2018-08-26   -0.006526\n",
            "2018-09-02    0.053063\n",
            "2018-09-09   -0.027808\n",
            "2018-09-16    0.011478\n",
            "2018-09-23   -0.027609\n",
            "2018-09-30    0.037122\n",
            "2018-10-07   -0.006423\n",
            "2018-10-14   -0.009720\n",
            "2018-10-21   -0.012606\n",
            "2018-10-28   -0.013725\n",
            "2018-11-04   -0.040777\n",
            "2018-11-11   -0.011069\n",
            "2018-11-18   -0.053504\n",
            "2018-11-25   -0.109751\n",
            "2018-12-02    0.036508\n",
            "2018-12-09   -0.056501\n",
            "2018-12-16   -0.017865\n",
            "2018-12-23   -0.089135\n",
            "2018-12-30    0.036489\n",
            "Freq: W-SUN, Name: Close, dtype: float64\n"
          ]
        }
      ]
    },
    {
      "cell_type": "markdown",
      "metadata": {
        "id": "BYS10Om1NQVC"
      },
      "source": [
        "Alternatively, we can fill a NaN with the next fitted value. This is called 'backward fill', or 'bfill' in short:"
      ]
    },
    {
      "cell_type": "code",
      "metadata": {
        "colab": {
          "base_uri": "https://localhost:8080/"
        },
        "id": "J513kHeKHW9-",
        "outputId": "3ab13c91-dcf3-46c7-94dd-39acf7616a79"
      },
      "source": [
        "daily_return = last_day.pct_change()\n",
        "print(daily_return.fillna(method = 'bfill'))"
      ],
      "execution_count": null,
      "outputs": [
        {
          "output_type": "stream",
          "name": "stdout",
          "text": [
            "Date\n",
            "2017-01-31    0.133778\n",
            "2017-02-28    0.133778\n",
            "2017-03-31    0.048690\n",
            "2017-04-30   -0.000070\n",
            "2017-05-31    0.067807\n",
            "2017-06-30   -0.057214\n",
            "2017-07-31    0.032704\n",
            "2017-08-31    0.106999\n",
            "2017-09-30   -0.060244\n",
            "2017-10-31    0.096808\n",
            "2017-11-30    0.020278\n",
            "2017-12-31   -0.015246\n",
            "Freq: M, Name: Close, dtype: float64\n"
          ]
        }
      ]
    },
    {
      "cell_type": "code",
      "metadata": {
        "colab": {
          "base_uri": "https://localhost:8080/"
        },
        "id": "2mx6MoAL2tT5",
        "outputId": "0c0e68e6-8355-4267-a134-0b8c9271ceab"
      },
      "source": [
        "daily_return = last_day.pct_change()\n",
        "print(daily_return.fillna(method = 'bfill'))"
      ],
      "execution_count": 125,
      "outputs": [
        {
          "output_type": "stream",
          "name": "stdout",
          "text": [
            "Date\n",
            "2018-01-07    0.011943\n",
            "2018-01-14    0.011943\n",
            "2018-01-21    0.007736\n",
            "2018-01-28   -0.038944\n",
            "2018-02-04   -0.064195\n",
            "2018-02-11   -0.021510\n",
            "2018-02-18    0.102423\n",
            "2018-02-25    0.017804\n",
            "2018-03-04    0.004046\n",
            "2018-03-11    0.021395\n",
            "2018-03-18   -0.010890\n",
            "2018-03-25   -0.073475\n",
            "2018-04-01    0.017218\n",
            "2018-04-08    0.003576\n",
            "2018-04-15    0.037712\n",
            "2018-04-22   -0.051565\n",
            "2018-04-29   -0.020517\n",
            "2018-05-06    0.132516\n",
            "2018-05-13    0.029849\n",
            "2018-05-20   -0.012090\n",
            "2018-05-27    0.012184\n",
            "2018-06-03    0.008803\n",
            "2018-06-10    0.007674\n",
            "2018-06-17   -0.014919\n",
            "2018-06-24   -0.020758\n",
            "2018-07-01    0.001028\n",
            "2018-07-08    0.015450\n",
            "2018-07-15    0.017875\n",
            "2018-07-22    0.000575\n",
            "2018-07-29   -0.002403\n",
            "2018-08-05    0.089067\n",
            "2018-08-12    0.001288\n",
            "2018-08-19    0.048427\n",
            "2018-08-26   -0.006526\n",
            "2018-09-02    0.053063\n",
            "2018-09-09   -0.027808\n",
            "2018-09-16    0.011478\n",
            "2018-09-23   -0.027609\n",
            "2018-09-30    0.037122\n",
            "2018-10-07   -0.006423\n",
            "2018-10-14   -0.009720\n",
            "2018-10-21   -0.012606\n",
            "2018-10-28   -0.013725\n",
            "2018-11-04   -0.040777\n",
            "2018-11-11   -0.011069\n",
            "2018-11-18   -0.053504\n",
            "2018-11-25   -0.109751\n",
            "2018-12-02    0.036508\n",
            "2018-12-09   -0.056501\n",
            "2018-12-16   -0.017865\n",
            "2018-12-23   -0.089135\n",
            "2018-12-30    0.036489\n",
            "Freq: W-SUN, Name: Close, dtype: float64\n"
          ]
        }
      ]
    },
    {
      "cell_type": "markdown",
      "metadata": {
        "id": "bj8QUSgdNepf"
      },
      "source": [
        "As expected, since there is a 'backward fill' method, there must be a 'forward fill' method, or 'ffill' in short. However we can't use it here because the NaN is the first value.\n",
        "\n",
        "We can also simply remove NaN values by **_.dropna()_**"
      ]
    },
    {
      "cell_type": "code",
      "metadata": {
        "colab": {
          "base_uri": "https://localhost:8080/"
        },
        "id": "WG5ux1lqHW9-",
        "outputId": "8de2381f-7731-446b-c31f-be094e559ed3"
      },
      "source": [
        "daily_return = last_day.pct_change()\n",
        "daily_return.dropna()"
      ],
      "execution_count": null,
      "outputs": [
        {
          "output_type": "execute_result",
          "data": {
            "text/plain": [
              "Date\n",
              "2017-02-28    0.133778\n",
              "2017-03-31    0.048690\n",
              "2017-04-30   -0.000070\n",
              "2017-05-31    0.067807\n",
              "2017-06-30   -0.057214\n",
              "2017-07-31    0.032704\n",
              "2017-08-31    0.106999\n",
              "2017-09-30   -0.060244\n",
              "2017-10-31    0.096808\n",
              "2017-11-30    0.020278\n",
              "2017-12-31   -0.015246\n",
              "Freq: M, Name: Close, dtype: float64"
            ]
          },
          "metadata": {},
          "execution_count": 102
        }
      ]
    },
    {
      "cell_type": "code",
      "metadata": {
        "colab": {
          "base_uri": "https://localhost:8080/"
        },
        "id": "02uciqfI2wY_",
        "outputId": "15e57000-aa51-4e8e-c03c-873e34bf0001"
      },
      "source": [
        "daily_return = last_day.pct_change()\n",
        "daily_return.dropna()"
      ],
      "execution_count": 126,
      "outputs": [
        {
          "output_type": "execute_result",
          "data": {
            "text/plain": [
              "Date\n",
              "2018-01-14    0.011943\n",
              "2018-01-21    0.007736\n",
              "2018-01-28   -0.038944\n",
              "2018-02-04   -0.064195\n",
              "2018-02-11   -0.021510\n",
              "2018-02-18    0.102423\n",
              "2018-02-25    0.017804\n",
              "2018-03-04    0.004046\n",
              "2018-03-11    0.021395\n",
              "2018-03-18   -0.010890\n",
              "2018-03-25   -0.073475\n",
              "2018-04-01    0.017218\n",
              "2018-04-08    0.003576\n",
              "2018-04-15    0.037712\n",
              "2018-04-22   -0.051565\n",
              "2018-04-29   -0.020517\n",
              "2018-05-06    0.132516\n",
              "2018-05-13    0.029849\n",
              "2018-05-20   -0.012090\n",
              "2018-05-27    0.012184\n",
              "2018-06-03    0.008803\n",
              "2018-06-10    0.007674\n",
              "2018-06-17   -0.014919\n",
              "2018-06-24   -0.020758\n",
              "2018-07-01    0.001028\n",
              "2018-07-08    0.015450\n",
              "2018-07-15    0.017875\n",
              "2018-07-22    0.000575\n",
              "2018-07-29   -0.002403\n",
              "2018-08-05    0.089067\n",
              "2018-08-12    0.001288\n",
              "2018-08-19    0.048427\n",
              "2018-08-26   -0.006526\n",
              "2018-09-02    0.053063\n",
              "2018-09-09   -0.027808\n",
              "2018-09-16    0.011478\n",
              "2018-09-23   -0.027609\n",
              "2018-09-30    0.037122\n",
              "2018-10-07   -0.006423\n",
              "2018-10-14   -0.009720\n",
              "2018-10-21   -0.012606\n",
              "2018-10-28   -0.013725\n",
              "2018-11-04   -0.040777\n",
              "2018-11-11   -0.011069\n",
              "2018-11-18   -0.053504\n",
              "2018-11-25   -0.109751\n",
              "2018-12-02    0.036508\n",
              "2018-12-09   -0.056501\n",
              "2018-12-16   -0.017865\n",
              "2018-12-23   -0.089135\n",
              "2018-12-30    0.036489\n",
              "Freq: W-SUN, Name: Close, dtype: float64"
            ]
          },
          "metadata": {},
          "execution_count": 126
        }
      ]
    },
    {
      "cell_type": "markdown",
      "metadata": {
        "id": "nQH2eBWkNjdC"
      },
      "source": [
        "# DataFrame\n",
        "The **DataFrame** is the most commonly used data structure in Pandas. It is essentially a table, just like an Excel spreadsheet.\n",
        "\n",
        "More precisely, a DataFrame is a collection of Series objects, each of which may contain different data types. A DataFrame can be created from various data types: dictionary, 2-D numpy.ndarray, a Series or another DataFrame.\n",
        "\n",
        "## Create DataFrames\n",
        "The most common method of creating a DataFrame is passing a dictionary:"
      ]
    },
    {
      "cell_type": "code",
      "metadata": {
        "colab": {
          "base_uri": "https://localhost:8080/"
        },
        "id": "vd5Wf1ohHW9-",
        "outputId": "44179e64-8f91-4eac-9d41-bc81dac1603c"
      },
      "source": [
        "import pandas as pd\n",
        "\n",
        "dict = {'AAPL': [143.5, 144.09, 142.73, 144.18, 143.77],'GOOG':[898.7, 911.71, 906.69, 918.59, 926.99],\n",
        "        'IBM':[155.58, 153.67, 152.36, 152.94, 153.49]}\n",
        "data_index = pd.date_range('2017-07-03',periods = 5, freq = 'D')\n",
        "df = pd.DataFrame(dict, index = data_index)\n",
        "print(df)"
      ],
      "execution_count": null,
      "outputs": [
        {
          "output_type": "stream",
          "name": "stdout",
          "text": [
            "              AAPL    GOOG     IBM\n",
            "2017-07-03  143.50  898.70  155.58\n",
            "2017-07-04  144.09  911.71  153.67\n",
            "2017-07-05  142.73  906.69  152.36\n",
            "2017-07-06  144.18  918.59  152.94\n",
            "2017-07-07  143.77  926.99  153.49\n"
          ]
        }
      ]
    },
    {
      "cell_type": "code",
      "metadata": {
        "colab": {
          "base_uri": "https://localhost:8080/"
        },
        "id": "4VTLIJqH22yl",
        "outputId": "7783658e-042b-4adc-df66-80f22f7118d2"
      },
      "source": [
        "import pandas as pd\n",
        "\n",
        "dict = {'AAPL': [123.5, 124.09, 122.73, 124.18, 123.77],'GOOG':[888.7, 901.71, 902.69, 918.59, 926.99],\n",
        "        'IBM':[155.58, 153.67, 152.36, 152.94, 153.49]}\n",
        "data_index = pd.date_range('2018-07-03',periods = 5, freq = 'D')\n",
        "df = pd.DataFrame(dict, index = data_index)\n",
        "print(df)"
      ],
      "execution_count": 129,
      "outputs": [
        {
          "output_type": "stream",
          "name": "stdout",
          "text": [
            "              AAPL    GOOG     IBM\n",
            "2018-07-03  123.50  888.70  155.58\n",
            "2018-07-04  124.09  901.71  153.67\n",
            "2018-07-05  122.73  902.69  152.36\n",
            "2018-07-06  124.18  918.59  152.94\n",
            "2018-07-07  123.77  926.99  153.49\n"
          ]
        }
      ]
    },
    {
      "cell_type": "markdown",
      "metadata": {
        "id": "0uYmLQTgOPnX"
      },
      "source": [
        "## Manipulating DataFrames\n",
        "We can fetch values in a DataFrame by columns and index. Each column in a DataFrame is essentially a Pandas Series. We can fetch a column by square brackets: **df['column_name']**\n",
        "\n",
        "If a column name contains no spaces, then we can also use df.column_name to fetch a column:"
      ]
    },
    {
      "cell_type": "code",
      "metadata": {
        "colab": {
          "base_uri": "https://localhost:8080/"
        },
        "id": "2pB2f7lBHW9_",
        "outputId": "fd17e613-08f4-470e-981d-727c3ddfb954"
      },
      "source": [
        "df = aapl_table\n",
        "print(df.Close.tail(5))\n",
        "print(df['Volume'].tail(5))"
      ],
      "execution_count": null,
      "outputs": [
        {
          "output_type": "stream",
          "name": "stdout",
          "text": [
            "Date\n",
            "2017-12-22    41.906776\n",
            "2017-12-26    40.843601\n",
            "2017-12-27    40.850777\n",
            "2017-12-28    40.965721\n",
            "2017-12-29    40.522736\n",
            "Name: Close, dtype: float64\n",
            "Date\n",
            "2017-12-22     65397600\n",
            "2017-12-26    132742000\n",
            "2017-12-27     85992800\n",
            "2017-12-28     65920800\n",
            "2017-12-29    103999600\n",
            "Name: Volume, dtype: int64\n"
          ]
        }
      ]
    },
    {
      "cell_type": "code",
      "metadata": {
        "colab": {
          "base_uri": "https://localhost:8080/"
        },
        "id": "EIFBktM93KoU",
        "outputId": "14bc1328-5099-44cf-dd1e-a0846dce6aaf"
      },
      "source": [
        "df = aapl_table\n",
        "print(df.Close.tail(5))\n",
        "print(df['Volume'].tail(5))"
      ],
      "execution_count": 130,
      "outputs": [
        {
          "output_type": "stream",
          "name": "stdout",
          "text": [
            "Date\n",
            "2018-12-21    36.634708\n",
            "2018-12-24    35.686821\n",
            "2018-12-26    38.199944\n",
            "2018-12-27    37.952038\n",
            "2018-12-28    37.971481\n",
            "Name: Close, dtype: float64\n",
            "Date\n",
            "2018-12-21    382978400\n",
            "2018-12-24    148676800\n",
            "2018-12-26    234330000\n",
            "2018-12-27    212468400\n",
            "2018-12-28    169165600\n",
            "Name: Volume, dtype: int64\n"
          ]
        }
      ]
    },
    {
      "cell_type": "markdown",
      "metadata": {
        "id": "z0ugOel9O4-P"
      },
      "source": [
        "All the methods we applied to a Series index such as iloc[], loc[] and resampling methods, can also be applied to a DataFrame:"
      ]
    },
    {
      "cell_type": "code",
      "metadata": {
        "colab": {
          "base_uri": "https://localhost:8080/"
        },
        "id": "_8dfjkedHW9_",
        "outputId": "893c8607-cf18-4e12-a0d5-e697c91ac7c1"
      },
      "source": [
        "aapl_2016 = df['2016']\n",
        "aapl_month = aapl_2016.resample('M').agg(lambda x: x[-1])\n",
        "print(aapl_month)"
      ],
      "execution_count": null,
      "outputs": [
        {
          "output_type": "stream",
          "name": "stdout",
          "text": [
            "                 Open       High        Low  ...     Volume  Dividends  Stock Splits\n",
            "Date                                         ...                                    \n",
            "2016-01-31  21.852388  22.440250  21.750952  ...  257666000        0.0             0\n",
            "2016-02-29  22.450761  22.768308  22.402086  ...  140865200        0.0             0\n",
            "2016-03-31  25.431520  25.473242  25.236819  ...  103553600        0.0             0\n",
            "2016-04-30  21.785529  21.954734  21.442488  ...  274126000        0.0             0\n",
            "2016-05-31  23.226409  23.412967  23.044516  ...  169228800        0.0             0\n",
            "2016-06-30  22.023112  22.333262  21.990464  ...  143345600        0.0             0\n",
            "2016-07-31  24.296780  24.380731  24.177849  ...  110934800        0.0             0\n",
            "2016-08-31  24.773054  24.986412  24.768364  ...  118649600        0.0             0\n",
            "2016-09-30  26.367388  26.580747  26.212645  ...  145516400        0.0             0\n",
            "2016-10-31  26.646396  26.782384  26.540888  ...  105677600        0.0             0\n",
            "2016-11-30  26.300094  26.441492  25.986660  ...  144649200        0.0             0\n",
            "2016-12-31  27.490193  27.619807  27.202683  ...  122345200        0.0             0\n",
            "\n",
            "[12 rows x 7 columns]\n"
          ]
        }
      ]
    },
    {
      "cell_type": "code",
      "metadata": {
        "colab": {
          "base_uri": "https://localhost:8080/"
        },
        "id": "umNM97qi3QMd",
        "outputId": "f53a453b-fc00-40e0-82be-5b66f7948693"
      },
      "source": [
        "aapl_2017 = df['2017']\n",
        "aapl_month = aapl_2017.resample('M').agg(lambda x: x[-1])\n",
        "print(aapl_month)"
      ],
      "execution_count": 131,
      "outputs": [
        {
          "output_type": "stream",
          "name": "stdout",
          "text": [
            "                 Open       High        Low  ...     Volume  Dividends  Stock Splits\n",
            "Date                                         ...                                    \n",
            "2017-01-31  28.550679  28.607238  28.425777  ...  196804000        0.0             0\n",
            "2017-02-28  32.444870  32.530077  32.354928  ...   93931600        0.0             0\n",
            "2017-03-31  34.016455  34.146633  33.848407  ...   78646800        0.0             0\n",
            "2017-04-30  34.104032  34.153737  33.909951  ...   83441600        0.0             0\n",
            "2017-05-31  36.592909  36.640441  36.215027  ...   97804800        0.0             0\n",
            "2017-06-30  34.330365  34.451576  34.171132  ...   92096400        0.0             0\n",
            "2017-07-31  35.625614  35.727811  35.204954  ...   79383600        0.0             0\n",
            "2017-08-31  39.043836  39.253801  39.005659  ...  107140400        0.0             0\n",
            "2017-09-30  36.555280  36.774788  36.266578  ...  105199200        0.0             0\n",
            "2017-10-31  40.060246  40.477789  39.831196  ...  144187200        0.0             0\n",
            "2017-11-30  40.810073  41.219541  40.333563  ...  166108800        0.0             0\n",
            "2017-12-31  40.831629  40.848389  40.520339  ...  103999600        0.0             0\n",
            "\n",
            "[12 rows x 7 columns]\n"
          ]
        }
      ]
    },
    {
      "cell_type": "markdown",
      "metadata": {
        "id": "CqrbrbFZPTJe"
      },
      "source": [
        "We may select certain columns of a DataFrame using their names:"
      ]
    },
    {
      "cell_type": "code",
      "metadata": {
        "colab": {
          "base_uri": "https://localhost:8080/"
        },
        "id": "7bQGeyCAHW9_",
        "outputId": "7a427233-719f-482d-ec12-28baf91dd1de"
      },
      "source": [
        "aapl_bar = aapl_month[['Open', 'High', 'Low', 'Close']]\n",
        "print(aapl_bar)"
      ],
      "execution_count": null,
      "outputs": [
        {
          "output_type": "stream",
          "name": "stdout",
          "text": [
            "                 Open       High        Low      Close\n",
            "Date                                                  \n",
            "2016-01-31  21.852388  22.440250  21.750952  22.440250\n",
            "2016-02-29  22.450761  22.768308  22.402086  22.411358\n",
            "2016-03-31  25.431520  25.473242  25.236819  25.262316\n",
            "2016-04-30  21.785529  21.954734  21.442488  21.727583\n",
            "2016-05-31  23.226409  23.412967  23.044516  23.287041\n",
            "2016-06-30  22.023112  22.333262  21.990464  22.293619\n",
            "2016-07-31  24.296780  24.380731  24.177849  24.301443\n",
            "2016-08-31  24.773054  24.986412  24.768364  24.876215\n",
            "2016-09-30  26.367388  26.580747  26.212645  26.505720\n",
            "2016-10-31  26.646396  26.782384  26.540888  26.620605\n",
            "2016-11-30  26.300094  26.441492  25.986660  26.045576\n",
            "2016-12-31  27.490193  27.619807  27.202683  27.294592\n"
          ]
        }
      ]
    },
    {
      "cell_type": "code",
      "metadata": {
        "colab": {
          "base_uri": "https://localhost:8080/"
        },
        "id": "iSuZ0ayJ3ae3",
        "outputId": "c7643114-19b0-455b-ecd1-32e27ebe57f6"
      },
      "source": [
        "aapl_bar = aapl_month[['Open', 'High', 'Low', 'Close']]\n",
        "print(aapl_bar)"
      ],
      "execution_count": 132,
      "outputs": [
        {
          "output_type": "stream",
          "name": "stdout",
          "text": [
            "                 Open       High        Low      Close\n",
            "Date                                                  \n",
            "2017-01-31  28.550679  28.607238  28.425777  28.597811\n",
            "2017-02-28  32.444870  32.530077  32.354928  32.423569\n",
            "2017-03-31  34.016455  34.146633  33.848407  34.002254\n",
            "2017-04-30  34.104032  34.153737  33.909951  33.999889\n",
            "2017-05-31  36.592909  36.640441  36.215027  36.305336\n",
            "2017-06-30  34.330365  34.451576  34.171132  34.228172\n",
            "2017-07-31  35.625614  35.727811  35.204954  35.347549\n",
            "2017-08-31  39.043836  39.253801  39.005659  39.129730\n",
            "2017-09-30  36.555280  36.774788  36.266578  36.772400\n",
            "2017-10-31  40.060246  40.477789  39.831196  40.332245\n",
            "2017-11-30  40.810073  41.219541  40.333563  41.150101\n",
            "2017-12-31  40.831629  40.848389  40.520339  40.522732\n"
          ]
        }
      ]
    },
    {
      "cell_type": "markdown",
      "metadata": {
        "id": "8CQaZCAQP68O"
      },
      "source": [
        "We can even specify both rows and columns using loc[]. The row indices and column names are separated by a comma:"
      ]
    },
    {
      "cell_type": "code",
      "metadata": {
        "colab": {
          "base_uri": "https://localhost:8080/"
        },
        "id": "YjWWiHVpHW-A",
        "outputId": "5972e593-5289-4636-f913-2c04e9fe179c"
      },
      "source": [
        "print(aapl_month.loc['2016-03':'2016-06',['Open', 'High', 'Low', 'Close']])"
      ],
      "execution_count": null,
      "outputs": [
        {
          "output_type": "stream",
          "name": "stdout",
          "text": [
            "                 Open       High        Low      Close\n",
            "Date                                                  \n",
            "2016-03-31  25.431520  25.473242  25.236819  25.262316\n",
            "2016-04-30  21.785529  21.954734  21.442488  21.727583\n",
            "2016-05-31  23.226409  23.412967  23.044516  23.287041\n",
            "2016-06-30  22.023112  22.333262  21.990464  22.293619\n"
          ]
        }
      ]
    },
    {
      "cell_type": "code",
      "metadata": {
        "colab": {
          "base_uri": "https://localhost:8080/"
        },
        "id": "kukXjH9s3fRU",
        "outputId": "6d175cb9-c74b-47f2-e674-b9cec2b5879d"
      },
      "source": [
        "print(aapl_month.loc['2017-03':'2017-06',['Open', 'High', 'Low', 'Close']])"
      ],
      "execution_count": 134,
      "outputs": [
        {
          "output_type": "stream",
          "name": "stdout",
          "text": [
            "                 Open       High        Low      Close\n",
            "Date                                                  \n",
            "2017-03-31  34.016455  34.146633  33.848407  34.002254\n",
            "2017-04-30  34.104032  34.153737  33.909951  33.999889\n",
            "2017-05-31  36.592909  36.640441  36.215027  36.305336\n",
            "2017-06-30  34.330365  34.451576  34.171132  34.228172\n"
          ]
        }
      ]
    },
    {
      "cell_type": "markdown",
      "metadata": {
        "id": "Xcn_pHNLQBEH"
      },
      "source": [
        "The subset methods in DataFrame is quite useful. By writing logical statements in square brackets, we can make customized subsets:"
      ]
    },
    {
      "cell_type": "code",
      "metadata": {
        "colab": {
          "base_uri": "https://localhost:8080/"
        },
        "id": "RxKg4dObHW-A",
        "outputId": "907ce3c6-da1b-4b18-c8e2-daf5a2bb23e7"
      },
      "source": [
        "import numpy as np\n",
        "\n",
        "above = aapl_bar[aapl_bar.Close > np.mean(aapl_bar.Close)]\n",
        "print(above)"
      ],
      "execution_count": null,
      "outputs": [
        {
          "output_type": "stream",
          "name": "stdout",
          "text": [
            "                 Open       High        Low      Close\n",
            "Date                                                  \n",
            "2016-03-31  25.431520  25.473242  25.236819  25.262316\n",
            "2016-08-31  24.773054  24.986412  24.768364  24.876215\n",
            "2016-09-30  26.367388  26.580747  26.212645  26.505720\n",
            "2016-10-31  26.646396  26.782384  26.540888  26.620605\n",
            "2016-11-30  26.300094  26.441492  25.986660  26.045576\n",
            "2016-12-31  27.490193  27.619807  27.202683  27.294592\n"
          ]
        }
      ]
    },
    {
      "cell_type": "code",
      "metadata": {
        "colab": {
          "base_uri": "https://localhost:8080/"
        },
        "id": "YIITL_i13sxT",
        "outputId": "59c37285-e8e4-45c7-b6fd-f3bdb246ade8"
      },
      "source": [
        "import numpy as np\n",
        "\n",
        "above = aapl_bar[aapl_bar.Close > np.mean(aapl_bar.Close)]\n",
        "print(above)"
      ],
      "execution_count": 135,
      "outputs": [
        {
          "output_type": "stream",
          "name": "stdout",
          "text": [
            "                 Open       High        Low      Close\n",
            "Date                                                  \n",
            "2017-05-31  36.592909  36.640441  36.215027  36.305336\n",
            "2017-08-31  39.043836  39.253801  39.005659  39.129730\n",
            "2017-09-30  36.555280  36.774788  36.266578  36.772400\n",
            "2017-10-31  40.060246  40.477789  39.831196  40.332245\n",
            "2017-11-30  40.810073  41.219541  40.333563  41.150101\n",
            "2017-12-31  40.831629  40.848389  40.520339  40.522732\n"
          ]
        }
      ]
    },
    {
      "cell_type": "markdown",
      "metadata": {
        "id": "wcm_UadkQLL5"
      },
      "source": [
        "## Data Validation\n",
        "As mentioned, all methods that apply to a Series can also be applied to a DataFrame. Here we add a new column to an existing DataFrame:"
      ]
    },
    {
      "cell_type": "code",
      "metadata": {
        "colab": {
          "base_uri": "https://localhost:8080/"
        },
        "id": "jZXFdOVFHW-A",
        "outputId": "35e1d9c9-1460-417c-940e-c6fa70c9947b"
      },
      "source": [
        "aapl_bar['rate_return'] = aapl_bar.Close.pct_change()\n",
        "print(aapl_bar)"
      ],
      "execution_count": null,
      "outputs": [
        {
          "output_type": "stream",
          "name": "stdout",
          "text": [
            "                 Open       High        Low      Close  rate_return\n",
            "Date                                                               \n",
            "2016-01-31  21.852388  22.440250  21.750952  22.440250          NaN\n",
            "2016-02-29  22.450761  22.768308  22.402086  22.411358    -0.001288\n",
            "2016-03-31  25.431520  25.473242  25.236819  25.262316     0.127210\n",
            "2016-04-30  21.785529  21.954734  21.442488  21.727583    -0.139921\n",
            "2016-05-31  23.226409  23.412967  23.044516  23.287041     0.071773\n",
            "2016-06-30  22.023112  22.333262  21.990464  22.293619    -0.042660\n",
            "2016-07-31  24.296780  24.380731  24.177849  24.301443     0.090063\n",
            "2016-08-31  24.773054  24.986412  24.768364  24.876215     0.023652\n",
            "2016-09-30  26.367388  26.580747  26.212645  26.505720     0.065505\n",
            "2016-10-31  26.646396  26.782384  26.540888  26.620605     0.004334\n",
            "2016-11-30  26.300094  26.441492  25.986660  26.045576    -0.021601\n",
            "2016-12-31  27.490193  27.619807  27.202683  27.294592     0.047955\n"
          ]
        },
        {
          "output_type": "stream",
          "name": "stderr",
          "text": [
            "/usr/local/lib/python3.7/dist-packages/ipykernel_launcher.py:1: SettingWithCopyWarning: \n",
            "A value is trying to be set on a copy of a slice from a DataFrame.\n",
            "Try using .loc[row_indexer,col_indexer] = value instead\n",
            "\n",
            "See the caveats in the documentation: https://pandas.pydata.org/pandas-docs/stable/user_guide/indexing.html#returning-a-view-versus-a-copy\n",
            "  \"\"\"Entry point for launching an IPython kernel.\n"
          ]
        }
      ]
    },
    {
      "cell_type": "code",
      "metadata": {
        "colab": {
          "base_uri": "https://localhost:8080/"
        },
        "id": "hcLFJ-TX3x01",
        "outputId": "95918610-c374-4d6c-e5f2-b191a7e67420"
      },
      "source": [
        "aapl_bar['rate_return'] = aapl_bar.Close.pct_change()\n",
        "print(aapl_bar)"
      ],
      "execution_count": 136,
      "outputs": [
        {
          "output_type": "stream",
          "name": "stdout",
          "text": [
            "                 Open       High        Low      Close  rate_return\n",
            "Date                                                               \n",
            "2017-01-31  28.550679  28.607238  28.425777  28.597811          NaN\n",
            "2017-02-28  32.444870  32.530077  32.354928  32.423569     0.133778\n",
            "2017-03-31  34.016455  34.146633  33.848407  34.002254     0.048689\n",
            "2017-04-30  34.104032  34.153737  33.909951  33.999889    -0.000070\n",
            "2017-05-31  36.592909  36.640441  36.215027  36.305336     0.067807\n",
            "2017-06-30  34.330365  34.451576  34.171132  34.228172    -0.057214\n",
            "2017-07-31  35.625614  35.727811  35.204954  35.347549     0.032703\n",
            "2017-08-31  39.043836  39.253801  39.005659  39.129730     0.107000\n",
            "2017-09-30  36.555280  36.774788  36.266578  36.772400    -0.060244\n",
            "2017-10-31  40.060246  40.477789  39.831196  40.332245     0.096808\n",
            "2017-11-30  40.810073  41.219541  40.333563  41.150101     0.020278\n",
            "2017-12-31  40.831629  40.848389  40.520339  40.522732    -0.015246\n"
          ]
        },
        {
          "output_type": "stream",
          "name": "stderr",
          "text": [
            "/usr/local/lib/python3.7/dist-packages/ipykernel_launcher.py:1: SettingWithCopyWarning: \n",
            "A value is trying to be set on a copy of a slice from a DataFrame.\n",
            "Try using .loc[row_indexer,col_indexer] = value instead\n",
            "\n",
            "See the caveats in the documentation: https://pandas.pydata.org/pandas-docs/stable/user_guide/indexing.html#returning-a-view-versus-a-copy\n",
            "  \"\"\"Entry point for launching an IPython kernel.\n"
          ]
        }
      ]
    },
    {
      "cell_type": "markdown",
      "metadata": {
        "id": "_or6n5-LQUa-"
      },
      "source": [
        "Here the calculation introduced a NaN value. If the DataFrame is large, we would not be able to observe it. **isnull()** provides a convenient way to check abnormal values."
      ]
    },
    {
      "cell_type": "code",
      "metadata": {
        "colab": {
          "base_uri": "https://localhost:8080/"
        },
        "id": "V5wgmhIPHW-B",
        "outputId": "cf646765-ea74-4e63-ced7-78e1ec2e1b93"
      },
      "source": [
        "missing = aapl_bar.isnull()\n",
        "print(missing)\n",
        "print('---------------------------------------------')\n",
        "print(missing.describe())"
      ],
      "execution_count": null,
      "outputs": [
        {
          "output_type": "stream",
          "name": "stdout",
          "text": [
            "             Open   High    Low  Close  rate_return\n",
            "Date                                               \n",
            "2016-01-31  False  False  False  False         True\n",
            "2016-02-29  False  False  False  False        False\n",
            "2016-03-31  False  False  False  False        False\n",
            "2016-04-30  False  False  False  False        False\n",
            "2016-05-31  False  False  False  False        False\n",
            "2016-06-30  False  False  False  False        False\n",
            "2016-07-31  False  False  False  False        False\n",
            "2016-08-31  False  False  False  False        False\n",
            "2016-09-30  False  False  False  False        False\n",
            "2016-10-31  False  False  False  False        False\n",
            "2016-11-30  False  False  False  False        False\n",
            "2016-12-31  False  False  False  False        False\n",
            "---------------------------------------------\n",
            "         Open   High    Low  Close rate_return\n",
            "count      12     12     12     12          12\n",
            "unique      1      1      1      1           2\n",
            "top     False  False  False  False       False\n",
            "freq       12     12     12     12          11\n"
          ]
        }
      ]
    },
    {
      "cell_type": "code",
      "metadata": {
        "colab": {
          "base_uri": "https://localhost:8080/"
        },
        "id": "Vgq3I1kp31m0",
        "outputId": "5324e6d6-8071-4ea8-f879-42796a9585d0"
      },
      "source": [
        "missing = aapl_bar.isnull()\n",
        "print(missing)\n",
        "print('---------------------------------------------')\n",
        "print(missing.describe())"
      ],
      "execution_count": 137,
      "outputs": [
        {
          "output_type": "stream",
          "name": "stdout",
          "text": [
            "             Open   High    Low  Close  rate_return\n",
            "Date                                               \n",
            "2017-01-31  False  False  False  False         True\n",
            "2017-02-28  False  False  False  False        False\n",
            "2017-03-31  False  False  False  False        False\n",
            "2017-04-30  False  False  False  False        False\n",
            "2017-05-31  False  False  False  False        False\n",
            "2017-06-30  False  False  False  False        False\n",
            "2017-07-31  False  False  False  False        False\n",
            "2017-08-31  False  False  False  False        False\n",
            "2017-09-30  False  False  False  False        False\n",
            "2017-10-31  False  False  False  False        False\n",
            "2017-11-30  False  False  False  False        False\n",
            "2017-12-31  False  False  False  False        False\n",
            "---------------------------------------------\n",
            "         Open   High    Low  Close rate_return\n",
            "count      12     12     12     12          12\n",
            "unique      1      1      1      1           2\n",
            "top     False  False  False  False       False\n",
            "freq       12     12     12     12          11\n"
          ]
        }
      ]
    },
    {
      "cell_type": "markdown",
      "metadata": {
        "id": "d6KFV4i0QfLW"
      },
      "source": [
        "The row labelled \"unique\" indicates the number of unique values in each column. Since the \"rate_return\" column has 2 unique values, it has at least one missing value.\n",
        "\n",
        "We can deduce the number of missing values by comparing \"count\" with \"freq\". There are 12 counts and 11 False values, so there is one True value which corresponds to the missing value.\n",
        "\n",
        "We can also find the rows with missing values easily:"
      ]
    },
    {
      "cell_type": "code",
      "metadata": {
        "colab": {
          "base_uri": "https://localhost:8080/"
        },
        "id": "Eo0ZAhCsHW-B",
        "outputId": "632cc9ee-2b53-4669-d329-1af7538859f6"
      },
      "source": [
        "print(missing[missing.rate_return == True])"
      ],
      "execution_count": null,
      "outputs": [
        {
          "output_type": "stream",
          "name": "stdout",
          "text": [
            "             Open   High    Low  Close  rate_return\n",
            "Date                                               \n",
            "2016-01-31  False  False  False  False         True\n"
          ]
        }
      ]
    },
    {
      "cell_type": "code",
      "metadata": {
        "colab": {
          "base_uri": "https://localhost:8080/"
        },
        "id": "FzKsYdAI36H8",
        "outputId": "3fe20f0f-9585-4b0a-e725-0d5b002131ac"
      },
      "source": [
        "print(missing[missing.rate_return == True])"
      ],
      "execution_count": 138,
      "outputs": [
        {
          "output_type": "stream",
          "name": "stdout",
          "text": [
            "             Open   High    Low  Close  rate_return\n",
            "Date                                               \n",
            "2017-01-31  False  False  False  False         True\n"
          ]
        }
      ]
    },
    {
      "cell_type": "markdown",
      "metadata": {
        "id": "qgggpD8OQkZX"
      },
      "source": [
        "Usually when dealing with missing data, we either delete the whole row or fill it with some value. As we introduced in the Series chapter, the same method **dropna()** and **fillna()** can be applied to a DataFrame."
      ]
    },
    {
      "cell_type": "code",
      "metadata": {
        "colab": {
          "base_uri": "https://localhost:8080/"
        },
        "id": "j8PaIokjHW-B",
        "outputId": "501fd060-83fe-4f98-e5ad-f9b0f41e525c"
      },
      "source": [
        "drop = aapl_bar.dropna()\n",
        "print(drop)\n",
        "print('\\n--------------------------------------------------\\n')\n",
        "fill = aapl_bar.fillna(0)\n",
        "print(fill)"
      ],
      "execution_count": null,
      "outputs": [
        {
          "output_type": "stream",
          "name": "stdout",
          "text": [
            "                 Open       High        Low      Close  rate_return\n",
            "Date                                                               \n",
            "2016-02-29  22.450761  22.768308  22.402086  22.411358    -0.001288\n",
            "2016-03-31  25.431520  25.473242  25.236819  25.262316     0.127210\n",
            "2016-04-30  21.785529  21.954734  21.442488  21.727583    -0.139921\n",
            "2016-05-31  23.226409  23.412967  23.044516  23.287041     0.071773\n",
            "2016-06-30  22.023112  22.333262  21.990464  22.293619    -0.042660\n",
            "2016-07-31  24.296780  24.380731  24.177849  24.301443     0.090063\n",
            "2016-08-31  24.773054  24.986412  24.768364  24.876215     0.023652\n",
            "2016-09-30  26.367388  26.580747  26.212645  26.505720     0.065505\n",
            "2016-10-31  26.646396  26.782384  26.540888  26.620605     0.004334\n",
            "2016-11-30  26.300094  26.441492  25.986660  26.045576    -0.021601\n",
            "2016-12-31  27.490193  27.619807  27.202683  27.294592     0.047955\n",
            "\n",
            "--------------------------------------------------\n",
            "\n",
            "                 Open       High        Low      Close  rate_return\n",
            "Date                                                               \n",
            "2016-01-31  21.852388  22.440250  21.750952  22.440250     0.000000\n",
            "2016-02-29  22.450761  22.768308  22.402086  22.411358    -0.001288\n",
            "2016-03-31  25.431520  25.473242  25.236819  25.262316     0.127210\n",
            "2016-04-30  21.785529  21.954734  21.442488  21.727583    -0.139921\n",
            "2016-05-31  23.226409  23.412967  23.044516  23.287041     0.071773\n",
            "2016-06-30  22.023112  22.333262  21.990464  22.293619    -0.042660\n",
            "2016-07-31  24.296780  24.380731  24.177849  24.301443     0.090063\n",
            "2016-08-31  24.773054  24.986412  24.768364  24.876215     0.023652\n",
            "2016-09-30  26.367388  26.580747  26.212645  26.505720     0.065505\n",
            "2016-10-31  26.646396  26.782384  26.540888  26.620605     0.004334\n",
            "2016-11-30  26.300094  26.441492  25.986660  26.045576    -0.021601\n",
            "2016-12-31  27.490193  27.619807  27.202683  27.294592     0.047955\n"
          ]
        }
      ]
    },
    {
      "cell_type": "code",
      "metadata": {
        "colab": {
          "base_uri": "https://localhost:8080/"
        },
        "id": "UzvyPRs53-Xs",
        "outputId": "f856776e-7c7d-4882-c3ee-33f78252bbf5"
      },
      "source": [
        "drop = aapl_bar.dropna()\n",
        "print(drop)\n",
        "print('\\n--------------------------------------------------\\n')\n",
        "fill = aapl_bar.fillna(0)\n",
        "print(fill)"
      ],
      "execution_count": 139,
      "outputs": [
        {
          "output_type": "stream",
          "name": "stdout",
          "text": [
            "                 Open       High        Low      Close  rate_return\n",
            "Date                                                               \n",
            "2017-02-28  32.444870  32.530077  32.354928  32.423569     0.133778\n",
            "2017-03-31  34.016455  34.146633  33.848407  34.002254     0.048689\n",
            "2017-04-30  34.104032  34.153737  33.909951  33.999889    -0.000070\n",
            "2017-05-31  36.592909  36.640441  36.215027  36.305336     0.067807\n",
            "2017-06-30  34.330365  34.451576  34.171132  34.228172    -0.057214\n",
            "2017-07-31  35.625614  35.727811  35.204954  35.347549     0.032703\n",
            "2017-08-31  39.043836  39.253801  39.005659  39.129730     0.107000\n",
            "2017-09-30  36.555280  36.774788  36.266578  36.772400    -0.060244\n",
            "2017-10-31  40.060246  40.477789  39.831196  40.332245     0.096808\n",
            "2017-11-30  40.810073  41.219541  40.333563  41.150101     0.020278\n",
            "2017-12-31  40.831629  40.848389  40.520339  40.522732    -0.015246\n",
            "\n",
            "--------------------------------------------------\n",
            "\n",
            "                 Open       High        Low      Close  rate_return\n",
            "Date                                                               \n",
            "2017-01-31  28.550679  28.607238  28.425777  28.597811     0.000000\n",
            "2017-02-28  32.444870  32.530077  32.354928  32.423569     0.133778\n",
            "2017-03-31  34.016455  34.146633  33.848407  34.002254     0.048689\n",
            "2017-04-30  34.104032  34.153737  33.909951  33.999889    -0.000070\n",
            "2017-05-31  36.592909  36.640441  36.215027  36.305336     0.067807\n",
            "2017-06-30  34.330365  34.451576  34.171132  34.228172    -0.057214\n",
            "2017-07-31  35.625614  35.727811  35.204954  35.347549     0.032703\n",
            "2017-08-31  39.043836  39.253801  39.005659  39.129730     0.107000\n",
            "2017-09-30  36.555280  36.774788  36.266578  36.772400    -0.060244\n",
            "2017-10-31  40.060246  40.477789  39.831196  40.332245     0.096808\n",
            "2017-11-30  40.810073  41.219541  40.333563  41.150101     0.020278\n",
            "2017-12-31  40.831629  40.848389  40.520339  40.522732    -0.015246\n"
          ]
        }
      ]
    },
    {
      "cell_type": "markdown",
      "metadata": {
        "id": "0tvoFlKWQxYG"
      },
      "source": [
        "## DataFrame Concat\n",
        "We have seen how to extract a Series from a dataFrame. Now we need to consider how to merge a Series or a DataFrame into another one.\n",
        "\n",
        "In Pandas, the function **concat()** allows us to merge multiple Series into a DataFrame:"
      ]
    },
    {
      "cell_type": "code",
      "metadata": {
        "colab": {
          "base_uri": "https://localhost:8080/"
        },
        "id": "uQrmLIWKHW-C",
        "outputId": "6e25a419-88a8-4df1-a025-f9f583699b4c"
      },
      "source": [
        "s1 = pd.Series([143.5, 144.09, 142.73, 144.18, 143.77], name = 'AAPL')\n",
        "s2 = pd.Series([898.7, 911.71, 906.69, 918.59, 926.99], name = 'GOOG')\n",
        "data_frame = pd.concat([s1,s2], axis = 1)\n",
        "print(data_frame)"
      ],
      "execution_count": null,
      "outputs": [
        {
          "output_type": "stream",
          "name": "stdout",
          "text": [
            "     AAPL    GOOG\n",
            "0  143.50  898.70\n",
            "1  144.09  911.71\n",
            "2  142.73  906.69\n",
            "3  144.18  918.59\n",
            "4  143.77  926.99\n"
          ]
        }
      ]
    },
    {
      "cell_type": "code",
      "metadata": {
        "colab": {
          "base_uri": "https://localhost:8080/"
        },
        "id": "CLJzfFRf4Ezq",
        "outputId": "f1a62fac-5d57-4294-ad67-efec31adc3b4"
      },
      "source": [
        "s1 = pd.Series([123.5, 124.09, 122.73, 124.18, 123.77], name = 'AAPL')\n",
        "s2 = pd.Series([892.7, 912.71, 902.69, 918.59, 926.99], name = 'GOOG')\n",
        "data_frame = pd.concat([s1,s2], axis = 1)\n",
        "print(data_frame)"
      ],
      "execution_count": 140,
      "outputs": [
        {
          "output_type": "stream",
          "name": "stdout",
          "text": [
            "     AAPL    GOOG\n",
            "0  123.50  892.70\n",
            "1  124.09  912.71\n",
            "2  122.73  902.69\n",
            "3  124.18  918.59\n",
            "4  123.77  926.99\n"
          ]
        }
      ]
    },
    {
      "cell_type": "markdown",
      "metadata": {
        "id": "3ojbNYJLR2vv"
      },
      "source": [
        "The \"axis = 1\" parameter will join two DataFrames by columns:"
      ]
    },
    {
      "cell_type": "code",
      "metadata": {
        "colab": {
          "base_uri": "https://localhost:8080/"
        },
        "id": "DJsaLd-cRoIm",
        "outputId": "5eecb75d-1d7d-47db-daba-e5fe5b0e009b"
      },
      "source": [
        "log_price = np.log(aapl_bar.Close)\n",
        "log_price.name = 'log_price'\n",
        "print(log_price)\n",
        "print('\\n---------------------- separate line--------------------\\n')\n",
        "concat = pd.concat([aapl_bar, log_price], axis = 1)\n",
        "print(concat)"
      ],
      "execution_count": null,
      "outputs": [
        {
          "output_type": "stream",
          "name": "stdout",
          "text": [
            "Date\n",
            "2016-01-31    3.110856\n",
            "2016-02-29    3.109568\n",
            "2016-03-31    3.229314\n",
            "2016-04-30    3.078583\n",
            "2016-05-31    3.147897\n",
            "2016-06-30    3.104301\n",
            "2016-07-31    3.190536\n",
            "2016-08-31    3.213912\n",
            "2016-09-30    3.277361\n",
            "2016-10-31    3.281686\n",
            "2016-11-30    3.259848\n",
            "2016-12-31    3.306689\n",
            "Freq: M, Name: log_price, dtype: float64\n",
            "\n",
            "---------------------- separate line--------------------\n",
            "\n",
            "                 Open       High        Low      Close  rate_return  log_price\n",
            "Date                                                                          \n",
            "2016-01-31  21.852388  22.440250  21.750952  22.440250          NaN   3.110856\n",
            "2016-02-29  22.450761  22.768308  22.402086  22.411358    -0.001288   3.109568\n",
            "2016-03-31  25.431520  25.473242  25.236819  25.262316     0.127210   3.229314\n",
            "2016-04-30  21.785529  21.954734  21.442488  21.727583    -0.139921   3.078583\n",
            "2016-05-31  23.226409  23.412967  23.044516  23.287041     0.071773   3.147897\n",
            "2016-06-30  22.023112  22.333262  21.990464  22.293619    -0.042660   3.104301\n",
            "2016-07-31  24.296780  24.380731  24.177849  24.301443     0.090063   3.190536\n",
            "2016-08-31  24.773054  24.986412  24.768364  24.876215     0.023652   3.213912\n",
            "2016-09-30  26.367388  26.580747  26.212645  26.505720     0.065505   3.277361\n",
            "2016-10-31  26.646396  26.782384  26.540888  26.620605     0.004334   3.281686\n",
            "2016-11-30  26.300094  26.441492  25.986660  26.045576    -0.021601   3.259848\n",
            "2016-12-31  27.490193  27.619807  27.202683  27.294592     0.047955   3.306689\n"
          ]
        }
      ]
    },
    {
      "cell_type": "code",
      "metadata": {
        "colab": {
          "base_uri": "https://localhost:8080/"
        },
        "id": "RnvP1ZiD4Nmz",
        "outputId": "c321ea42-5f6c-4de1-fbcd-d66d91abef79"
      },
      "source": [
        "log_price = np.log(aapl_bar.Close)\n",
        "log_price.name = 'log_price'\n",
        "print(log_price)\n",
        "print('\\n---------------------- separate line--------------------\\n')\n",
        "concat = pd.concat([aapl_bar, log_price], axis = 1)\n",
        "print(concat)"
      ],
      "execution_count": 141,
      "outputs": [
        {
          "output_type": "stream",
          "name": "stdout",
          "text": [
            "Date\n",
            "2017-01-31    3.353330\n",
            "2017-02-28    3.478886\n",
            "2017-03-31    3.526427\n",
            "2017-04-30    3.526357\n",
            "2017-05-31    3.591965\n",
            "2017-06-30    3.533049\n",
            "2017-07-31    3.565229\n",
            "2017-08-31    3.666883\n",
            "2017-09-30    3.604748\n",
            "2017-10-31    3.697151\n",
            "2017-11-30    3.717226\n",
            "2017-12-31    3.701863\n",
            "Freq: M, Name: log_price, dtype: float64\n",
            "\n",
            "---------------------- separate line--------------------\n",
            "\n",
            "                 Open       High        Low      Close  rate_return  log_price\n",
            "Date                                                                          \n",
            "2017-01-31  28.550679  28.607238  28.425777  28.597811          NaN   3.353330\n",
            "2017-02-28  32.444870  32.530077  32.354928  32.423569     0.133778   3.478886\n",
            "2017-03-31  34.016455  34.146633  33.848407  34.002254     0.048689   3.526427\n",
            "2017-04-30  34.104032  34.153737  33.909951  33.999889    -0.000070   3.526357\n",
            "2017-05-31  36.592909  36.640441  36.215027  36.305336     0.067807   3.591965\n",
            "2017-06-30  34.330365  34.451576  34.171132  34.228172    -0.057214   3.533049\n",
            "2017-07-31  35.625614  35.727811  35.204954  35.347549     0.032703   3.565229\n",
            "2017-08-31  39.043836  39.253801  39.005659  39.129730     0.107000   3.666883\n",
            "2017-09-30  36.555280  36.774788  36.266578  36.772400    -0.060244   3.604748\n",
            "2017-10-31  40.060246  40.477789  39.831196  40.332245     0.096808   3.697151\n",
            "2017-11-30  40.810073  41.219541  40.333563  41.150101     0.020278   3.717226\n",
            "2017-12-31  40.831629  40.848389  40.520339  40.522732    -0.015246   3.701863\n"
          ]
        }
      ]
    },
    {
      "cell_type": "markdown",
      "metadata": {
        "id": "mIZz-FUyR_62"
      },
      "source": [
        "We can also join two DataFrames by rows. Consider these two DataFrames:"
      ]
    },
    {
      "cell_type": "code",
      "metadata": {
        "colab": {
          "base_uri": "https://localhost:8080/"
        },
        "id": "W7uXZptLHW-C",
        "outputId": "293e68e0-a71f-4ca3-bf8d-944cb833fe78"
      },
      "source": [
        "df_volume = aapl_table.loc['2016-10':'2017-04',['Volume', 'Stock Splits']].resample('M').agg(lambda x: x[-1])\n",
        "print(df_volume)\n",
        "print('\\n---------------------- separate line--------------------\\n')\n",
        "df_2017 = aapl_table.loc['2016-10':'2017-04',['Open', 'High', 'Low', 'Close']].resample('M').agg(lambda x: x[-1])\n",
        "print(df_2017)"
      ],
      "execution_count": null,
      "outputs": [
        {
          "output_type": "stream",
          "name": "stdout",
          "text": [
            "               Volume  Stock Splits\n",
            "Date                               \n",
            "2016-10-31  105677600             0\n",
            "2016-11-30  144649200             0\n",
            "2016-12-31  122345200             0\n",
            "2017-01-31  196804000             0\n",
            "2017-02-28   93931600             0\n",
            "2017-03-31   78646800             0\n",
            "2017-04-30   83441600             0\n",
            "\n",
            "---------------------- separate line--------------------\n",
            "\n",
            "                 Open       High        Low      Close\n",
            "Date                                                  \n",
            "2016-10-31  26.646396  26.782384  26.540888  26.620605\n",
            "2016-11-30  26.300094  26.441492  25.986660  26.045576\n",
            "2016-12-31  27.490193  27.619807  27.202683  27.294592\n",
            "2017-01-31  28.550684  28.607243  28.425783  28.597816\n",
            "2017-02-28  32.444862  32.530069  32.354920  32.423561\n",
            "2017-03-31  34.016455  34.146633  33.848407  34.002254\n",
            "2017-04-30  34.104032  34.153737  33.909951  33.999889\n"
          ]
        }
      ]
    },
    {
      "cell_type": "code",
      "metadata": {
        "colab": {
          "base_uri": "https://localhost:8080/"
        },
        "id": "A3pVnsMp4VY0",
        "outputId": "404f1ec8-bba1-47bc-93ea-2ea1671722cf"
      },
      "source": [
        "df_volume = aapl_table.loc['2017-10':'2018-04',['Volume', 'Stock Splits']].resample('M').agg(lambda x: x[-1])\n",
        "print(df_volume)\n",
        "print('\\n---------------------- separate line--------------------\\n')\n",
        "df_2017 = aapl_table.loc['2017-10':'2018-04',['Open', 'High', 'Low', 'Close']].resample('M').agg(lambda x: x[-1])\n",
        "print(df_2017)"
      ],
      "execution_count": 142,
      "outputs": [
        {
          "output_type": "stream",
          "name": "stdout",
          "text": [
            "               Volume  Stock Splits\n",
            "Date                               \n",
            "2017-10-31  144187200             0\n",
            "2017-11-30  166108800             0\n",
            "2017-12-31  103999600             0\n",
            "2018-01-31  129915600             0\n",
            "2018-02-28  151128400             0\n",
            "2018-03-31  153594000             0\n",
            "2018-04-30  169709600             0\n",
            "\n",
            "---------------------- separate line--------------------\n",
            "\n",
            "                 Open       High        Low      Close\n",
            "Date                                                  \n",
            "2017-10-31  40.060246  40.477789  39.831196  40.332245\n",
            "2017-11-30  40.810073  41.219541  40.333563  41.150101\n",
            "2017-12-31  40.831629  40.848389  40.520339  40.522732\n",
            "2018-01-31  39.957616  40.333560  39.869019  40.091709\n",
            "2018-02-28  43.099457  43.426442  42.808539  42.825367\n",
            "2018-03-31  40.346530  41.293824  40.127738  40.339317\n",
            "2018-04-30  38.980901  40.214304  38.911174  39.733444\n"
          ]
        }
      ]
    },
    {
      "cell_type": "markdown",
      "metadata": {
        "id": "iZk_C9aSSLeP"
      },
      "source": [
        "Now we merge the DataFrames with our DataFrame 'aapl_bar'"
      ]
    },
    {
      "cell_type": "code",
      "metadata": {
        "colab": {
          "base_uri": "https://localhost:8080/"
        },
        "id": "aFqmjokOHW-C",
        "outputId": "0b04d7bc-221c-46eb-c6b8-4a7feca2f531"
      },
      "source": [
        "concat = pd.concat([aapl_bar, df_volume], axis = 1)\n",
        "print(concat)"
      ],
      "execution_count": null,
      "outputs": [
        {
          "output_type": "stream",
          "name": "stdout",
          "text": [
            "                 Open       High  ...       Volume  Stock Splits\n",
            "Date                              ...                           \n",
            "2016-01-31  21.852388  22.440250  ...          NaN           NaN\n",
            "2016-02-29  22.450761  22.768308  ...          NaN           NaN\n",
            "2016-03-31  25.431520  25.473242  ...          NaN           NaN\n",
            "2016-04-30  21.785529  21.954734  ...          NaN           NaN\n",
            "2016-05-31  23.226409  23.412967  ...          NaN           NaN\n",
            "2016-06-30  22.023112  22.333262  ...          NaN           NaN\n",
            "2016-07-31  24.296780  24.380731  ...          NaN           NaN\n",
            "2016-08-31  24.773054  24.986412  ...          NaN           NaN\n",
            "2016-09-30  26.367388  26.580747  ...          NaN           NaN\n",
            "2016-10-31  26.646396  26.782384  ...  105677600.0           0.0\n",
            "2016-11-30  26.300094  26.441492  ...  144649200.0           0.0\n",
            "2016-12-31  27.490193  27.619807  ...  122345200.0           0.0\n",
            "2017-01-31        NaN        NaN  ...  196804000.0           0.0\n",
            "2017-02-28        NaN        NaN  ...   93931600.0           0.0\n",
            "2017-03-31        NaN        NaN  ...   78646800.0           0.0\n",
            "2017-04-30        NaN        NaN  ...   83441600.0           0.0\n",
            "\n",
            "[16 rows x 7 columns]\n"
          ]
        }
      ]
    },
    {
      "cell_type": "code",
      "metadata": {
        "colab": {
          "base_uri": "https://localhost:8080/"
        },
        "id": "iodHsu9J4gHD",
        "outputId": "f4a5bd46-57f1-4db7-8b3c-2205229ea8f6"
      },
      "source": [
        "concat = pd.concat([aapl_bar, df_volume], axis = 1)\n",
        "print(concat)"
      ],
      "execution_count": 143,
      "outputs": [
        {
          "output_type": "stream",
          "name": "stdout",
          "text": [
            "                 Open       High  ...       Volume  Stock Splits\n",
            "Date                              ...                           \n",
            "2017-01-31  28.550679  28.607238  ...          NaN           NaN\n",
            "2017-02-28  32.444870  32.530077  ...          NaN           NaN\n",
            "2017-03-31  34.016455  34.146633  ...          NaN           NaN\n",
            "2017-04-30  34.104032  34.153737  ...          NaN           NaN\n",
            "2017-05-31  36.592909  36.640441  ...          NaN           NaN\n",
            "2017-06-30  34.330365  34.451576  ...          NaN           NaN\n",
            "2017-07-31  35.625614  35.727811  ...          NaN           NaN\n",
            "2017-08-31  39.043836  39.253801  ...          NaN           NaN\n",
            "2017-09-30  36.555280  36.774788  ...          NaN           NaN\n",
            "2017-10-31  40.060246  40.477789  ...  144187200.0           0.0\n",
            "2017-11-30  40.810073  41.219541  ...  166108800.0           0.0\n",
            "2017-12-31  40.831629  40.848389  ...  103999600.0           0.0\n",
            "2018-01-31        NaN        NaN  ...  129915600.0           0.0\n",
            "2018-02-28        NaN        NaN  ...  151128400.0           0.0\n",
            "2018-03-31        NaN        NaN  ...  153594000.0           0.0\n",
            "2018-04-30        NaN        NaN  ...  169709600.0           0.0\n",
            "\n",
            "[16 rows x 7 columns]\n"
          ]
        }
      ]
    },
    {
      "cell_type": "markdown",
      "metadata": {
        "id": "7yI3tgB4SR4O"
      },
      "source": [
        "By default the DataFrame are joined with all of the data. This default options results in zero information loss. We can also merge them by intersection, this is called 'inner join"
      ]
    },
    {
      "cell_type": "code",
      "metadata": {
        "colab": {
          "base_uri": "https://localhost:8080/"
        },
        "id": "31QGLyijHW-C",
        "outputId": "5da6383a-4f02-4d76-8bdf-a3845a8ee40b"
      },
      "source": [
        "concat = pd.concat([aapl_bar,df_volume],axis = 1, join = 'inner')\n",
        "print(concat)"
      ],
      "execution_count": null,
      "outputs": [
        {
          "output_type": "stream",
          "name": "stdout",
          "text": [
            "                 Open       High  ...     Volume  Stock Splits\n",
            "Date                              ...                         \n",
            "2016-10-31  26.646396  26.782384  ...  105677600             0\n",
            "2016-11-30  26.300094  26.441492  ...  144649200             0\n",
            "2016-12-31  27.490193  27.619807  ...  122345200             0\n",
            "\n",
            "[3 rows x 7 columns]\n"
          ]
        }
      ]
    },
    {
      "cell_type": "code",
      "metadata": {
        "colab": {
          "base_uri": "https://localhost:8080/"
        },
        "id": "4ZspXI9L4qej",
        "outputId": "6ddcfa47-95f7-4434-c4c3-bb3f537ab72b"
      },
      "source": [
        "concat = pd.concat([aapl_bar,df_volume],axis = 1, join = 'inner')\n",
        "print(concat)"
      ],
      "execution_count": 144,
      "outputs": [
        {
          "output_type": "stream",
          "name": "stdout",
          "text": [
            "                 Open       High  ...     Volume  Stock Splits\n",
            "Date                              ...                         \n",
            "2017-10-31  40.060246  40.477789  ...  144187200             0\n",
            "2017-11-30  40.810073  41.219541  ...  166108800             0\n",
            "2017-12-31  40.831629  40.848389  ...  103999600             0\n",
            "\n",
            "[3 rows x 7 columns]\n"
          ]
        }
      ]
    },
    {
      "cell_type": "markdown",
      "metadata": {
        "id": "oudcWMm5Sd0u"
      },
      "source": [
        "Only the intersection part was left if use 'inner join' method. Now let's try to append a DataFrame to another one:"
      ]
    },
    {
      "cell_type": "code",
      "metadata": {
        "colab": {
          "base_uri": "https://localhost:8080/"
        },
        "id": "lgw0qaOsHW-D",
        "outputId": "d6287ecf-8c47-4367-9f14-5b47625de02b"
      },
      "source": [
        "append = aapl_bar.append(df_2017)\n",
        "print(append)"
      ],
      "execution_count": null,
      "outputs": [
        {
          "output_type": "stream",
          "name": "stdout",
          "text": [
            "                 Open       High        Low      Close  rate_return\n",
            "Date                                                               \n",
            "2016-01-31  21.852388  22.440250  21.750952  22.440250          NaN\n",
            "2016-02-29  22.450761  22.768308  22.402086  22.411358    -0.001288\n",
            "2016-03-31  25.431520  25.473242  25.236819  25.262316     0.127210\n",
            "2016-04-30  21.785529  21.954734  21.442488  21.727583    -0.139921\n",
            "2016-05-31  23.226409  23.412967  23.044516  23.287041     0.071773\n",
            "2016-06-30  22.023112  22.333262  21.990464  22.293619    -0.042660\n",
            "2016-07-31  24.296780  24.380731  24.177849  24.301443     0.090063\n",
            "2016-08-31  24.773054  24.986412  24.768364  24.876215     0.023652\n",
            "2016-09-30  26.367388  26.580747  26.212645  26.505720     0.065505\n",
            "2016-10-31  26.646396  26.782384  26.540888  26.620605     0.004334\n",
            "2016-11-30  26.300094  26.441492  25.986660  26.045576    -0.021601\n",
            "2016-12-31  27.490193  27.619807  27.202683  27.294592     0.047955\n",
            "2016-10-31  26.646396  26.782384  26.540888  26.620605          NaN\n",
            "2016-11-30  26.300094  26.441492  25.986660  26.045576          NaN\n",
            "2016-12-31  27.490193  27.619807  27.202683  27.294592          NaN\n",
            "2017-01-31  28.550684  28.607243  28.425783  28.597816          NaN\n",
            "2017-02-28  32.444862  32.530069  32.354920  32.423561          NaN\n",
            "2017-03-31  34.016455  34.146633  33.848407  34.002254          NaN\n",
            "2017-04-30  34.104032  34.153737  33.909951  33.999889          NaN\n"
          ]
        }
      ]
    },
    {
      "cell_type": "code",
      "metadata": {
        "colab": {
          "base_uri": "https://localhost:8080/"
        },
        "id": "Xn7jlqcw4uBu",
        "outputId": "7a7cd146-6e17-4867-e01a-64cd91648828"
      },
      "source": [
        "append = aapl_bar.append(df_2017)\n",
        "print(append)"
      ],
      "execution_count": 145,
      "outputs": [
        {
          "output_type": "stream",
          "name": "stdout",
          "text": [
            "                 Open       High        Low      Close  rate_return\n",
            "Date                                                               \n",
            "2017-01-31  28.550679  28.607238  28.425777  28.597811          NaN\n",
            "2017-02-28  32.444870  32.530077  32.354928  32.423569     0.133778\n",
            "2017-03-31  34.016455  34.146633  33.848407  34.002254     0.048689\n",
            "2017-04-30  34.104032  34.153737  33.909951  33.999889    -0.000070\n",
            "2017-05-31  36.592909  36.640441  36.215027  36.305336     0.067807\n",
            "2017-06-30  34.330365  34.451576  34.171132  34.228172    -0.057214\n",
            "2017-07-31  35.625614  35.727811  35.204954  35.347549     0.032703\n",
            "2017-08-31  39.043836  39.253801  39.005659  39.129730     0.107000\n",
            "2017-09-30  36.555280  36.774788  36.266578  36.772400    -0.060244\n",
            "2017-10-31  40.060246  40.477789  39.831196  40.332245     0.096808\n",
            "2017-11-30  40.810073  41.219541  40.333563  41.150101     0.020278\n",
            "2017-12-31  40.831629  40.848389  40.520339  40.522732    -0.015246\n",
            "2017-10-31  40.060246  40.477789  39.831196  40.332245          NaN\n",
            "2017-11-30  40.810073  41.219541  40.333563  41.150101          NaN\n",
            "2017-12-31  40.831629  40.848389  40.520339  40.522732          NaN\n",
            "2018-01-31  39.957616  40.333560  39.869019  40.091709          NaN\n",
            "2018-02-28  43.099457  43.426442  42.808539  42.825367          NaN\n",
            "2018-03-31  40.346530  41.293824  40.127738  40.339317          NaN\n",
            "2018-04-30  38.980901  40.214304  38.911174  39.733444          NaN\n"
          ]
        }
      ]
    },
    {
      "cell_type": "markdown",
      "metadata": {
        "id": "zXT6cMquSq_P"
      },
      "source": [
        "'Append' is essentially to concat two DataFrames by axis = 0, thus here is an alternative way to append:"
      ]
    },
    {
      "cell_type": "code",
      "metadata": {
        "colab": {
          "base_uri": "https://localhost:8080/"
        },
        "id": "2EuSaFO9HW-D",
        "outputId": "3bd6dad7-022a-4c62-d049-24c219feab39"
      },
      "source": [
        "concat = pd.concat([aapl_bar, df_2017], axis = 0)\n",
        "print(concat)"
      ],
      "execution_count": null,
      "outputs": [
        {
          "output_type": "stream",
          "name": "stdout",
          "text": [
            "                 Open       High        Low      Close  rate_return\n",
            "Date                                                               \n",
            "2016-01-31  21.852388  22.440250  21.750952  22.440250          NaN\n",
            "2016-02-29  22.450761  22.768308  22.402086  22.411358    -0.001288\n",
            "2016-03-31  25.431520  25.473242  25.236819  25.262316     0.127210\n",
            "2016-04-30  21.785529  21.954734  21.442488  21.727583    -0.139921\n",
            "2016-05-31  23.226409  23.412967  23.044516  23.287041     0.071773\n",
            "2016-06-30  22.023112  22.333262  21.990464  22.293619    -0.042660\n",
            "2016-07-31  24.296780  24.380731  24.177849  24.301443     0.090063\n",
            "2016-08-31  24.773054  24.986412  24.768364  24.876215     0.023652\n",
            "2016-09-30  26.367388  26.580747  26.212645  26.505720     0.065505\n",
            "2016-10-31  26.646396  26.782384  26.540888  26.620605     0.004334\n",
            "2016-11-30  26.300094  26.441492  25.986660  26.045576    -0.021601\n",
            "2016-12-31  27.490193  27.619807  27.202683  27.294592     0.047955\n",
            "2016-10-31  26.646396  26.782384  26.540888  26.620605          NaN\n",
            "2016-11-30  26.300094  26.441492  25.986660  26.045576          NaN\n",
            "2016-12-31  27.490193  27.619807  27.202683  27.294592          NaN\n",
            "2017-01-31  28.550684  28.607243  28.425783  28.597816          NaN\n",
            "2017-02-28  32.444862  32.530069  32.354920  32.423561          NaN\n",
            "2017-03-31  34.016455  34.146633  33.848407  34.002254          NaN\n",
            "2017-04-30  34.104032  34.153737  33.909951  33.999889          NaN\n"
          ]
        }
      ]
    },
    {
      "cell_type": "code",
      "metadata": {
        "colab": {
          "base_uri": "https://localhost:8080/"
        },
        "id": "bjZ2cdEx4xOz",
        "outputId": "73d170e9-a541-42e1-8096-93daa0cea6c2"
      },
      "source": [
        "concat = pd.concat([aapl_bar, df_2017], axis = 0)\n",
        "print(concat)"
      ],
      "execution_count": 146,
      "outputs": [
        {
          "output_type": "stream",
          "name": "stdout",
          "text": [
            "                 Open       High        Low      Close  rate_return\n",
            "Date                                                               \n",
            "2017-01-31  28.550679  28.607238  28.425777  28.597811          NaN\n",
            "2017-02-28  32.444870  32.530077  32.354928  32.423569     0.133778\n",
            "2017-03-31  34.016455  34.146633  33.848407  34.002254     0.048689\n",
            "2017-04-30  34.104032  34.153737  33.909951  33.999889    -0.000070\n",
            "2017-05-31  36.592909  36.640441  36.215027  36.305336     0.067807\n",
            "2017-06-30  34.330365  34.451576  34.171132  34.228172    -0.057214\n",
            "2017-07-31  35.625614  35.727811  35.204954  35.347549     0.032703\n",
            "2017-08-31  39.043836  39.253801  39.005659  39.129730     0.107000\n",
            "2017-09-30  36.555280  36.774788  36.266578  36.772400    -0.060244\n",
            "2017-10-31  40.060246  40.477789  39.831196  40.332245     0.096808\n",
            "2017-11-30  40.810073  41.219541  40.333563  41.150101     0.020278\n",
            "2017-12-31  40.831629  40.848389  40.520339  40.522732    -0.015246\n",
            "2017-10-31  40.060246  40.477789  39.831196  40.332245          NaN\n",
            "2017-11-30  40.810073  41.219541  40.333563  41.150101          NaN\n",
            "2017-12-31  40.831629  40.848389  40.520339  40.522732          NaN\n",
            "2018-01-31  39.957616  40.333560  39.869019  40.091709          NaN\n",
            "2018-02-28  43.099457  43.426442  42.808539  42.825367          NaN\n",
            "2018-03-31  40.346530  41.293824  40.127738  40.339317          NaN\n",
            "2018-04-30  38.980901  40.214304  38.911174  39.733444          NaN\n"
          ]
        }
      ]
    },
    {
      "cell_type": "markdown",
      "metadata": {
        "id": "-YXL7V9ASst9"
      },
      "source": [
        "Please note that if the two DataFrame have some columns with the same column names, these columns are considered to be the same and will be merged. It's very important to have the right column names. If we change a column names here:"
      ]
    },
    {
      "cell_type": "code",
      "metadata": {
        "colab": {
          "base_uri": "https://localhost:8080/"
        },
        "id": "aT1eoa8mHW-D",
        "outputId": "66a329f7-4d47-4e21-d1bb-73f24346ef24"
      },
      "source": [
        "df_2017.columns = ['Change', 'High','Low','Close']\n",
        "concat = pd.concat([aapl_bar, df_2017], axis = 0)\n",
        "print(concat)"
      ],
      "execution_count": null,
      "outputs": [
        {
          "output_type": "stream",
          "name": "stdout",
          "text": [
            "                 Open       High        Low      Close  rate_return     Change\n",
            "Date                                                                          \n",
            "2016-01-31  21.852388  22.440250  21.750952  22.440250          NaN        NaN\n",
            "2016-02-29  22.450761  22.768308  22.402086  22.411358    -0.001288        NaN\n",
            "2016-03-31  25.431520  25.473242  25.236819  25.262316     0.127210        NaN\n",
            "2016-04-30  21.785529  21.954734  21.442488  21.727583    -0.139921        NaN\n",
            "2016-05-31  23.226409  23.412967  23.044516  23.287041     0.071773        NaN\n",
            "2016-06-30  22.023112  22.333262  21.990464  22.293619    -0.042660        NaN\n",
            "2016-07-31  24.296780  24.380731  24.177849  24.301443     0.090063        NaN\n",
            "2016-08-31  24.773054  24.986412  24.768364  24.876215     0.023652        NaN\n",
            "2016-09-30  26.367388  26.580747  26.212645  26.505720     0.065505        NaN\n",
            "2016-10-31  26.646396  26.782384  26.540888  26.620605     0.004334        NaN\n",
            "2016-11-30  26.300094  26.441492  25.986660  26.045576    -0.021601        NaN\n",
            "2016-12-31  27.490193  27.619807  27.202683  27.294592     0.047955        NaN\n",
            "2016-10-31        NaN  26.782384  26.540888  26.620605          NaN  26.646396\n",
            "2016-11-30        NaN  26.441492  25.986660  26.045576          NaN  26.300094\n",
            "2016-12-31        NaN  27.619807  27.202683  27.294592          NaN  27.490193\n",
            "2017-01-31        NaN  28.607243  28.425783  28.597816          NaN  28.550684\n",
            "2017-02-28        NaN  32.530069  32.354920  32.423561          NaN  32.444862\n",
            "2017-03-31        NaN  34.146633  33.848407  34.002254          NaN  34.016455\n",
            "2017-04-30        NaN  34.153737  33.909951  33.999889          NaN  34.104032\n"
          ]
        }
      ]
    },
    {
      "cell_type": "code",
      "metadata": {
        "colab": {
          "base_uri": "https://localhost:8080/"
        },
        "id": "29ORxrkl42JW",
        "outputId": "f055a4b1-e8de-4c23-a501-b06f17caac2f"
      },
      "source": [
        "df_2017.columns = ['Change', 'High','Low','Close']\n",
        "concat = pd.concat([aapl_bar, df_2017], axis = 0)\n",
        "print(concat)"
      ],
      "execution_count": 147,
      "outputs": [
        {
          "output_type": "stream",
          "name": "stdout",
          "text": [
            "                 Open       High        Low      Close  rate_return     Change\n",
            "Date                                                                          \n",
            "2017-01-31  28.550679  28.607238  28.425777  28.597811          NaN        NaN\n",
            "2017-02-28  32.444870  32.530077  32.354928  32.423569     0.133778        NaN\n",
            "2017-03-31  34.016455  34.146633  33.848407  34.002254     0.048689        NaN\n",
            "2017-04-30  34.104032  34.153737  33.909951  33.999889    -0.000070        NaN\n",
            "2017-05-31  36.592909  36.640441  36.215027  36.305336     0.067807        NaN\n",
            "2017-06-30  34.330365  34.451576  34.171132  34.228172    -0.057214        NaN\n",
            "2017-07-31  35.625614  35.727811  35.204954  35.347549     0.032703        NaN\n",
            "2017-08-31  39.043836  39.253801  39.005659  39.129730     0.107000        NaN\n",
            "2017-09-30  36.555280  36.774788  36.266578  36.772400    -0.060244        NaN\n",
            "2017-10-31  40.060246  40.477789  39.831196  40.332245     0.096808        NaN\n",
            "2017-11-30  40.810073  41.219541  40.333563  41.150101     0.020278        NaN\n",
            "2017-12-31  40.831629  40.848389  40.520339  40.522732    -0.015246        NaN\n",
            "2017-10-31        NaN  40.477789  39.831196  40.332245          NaN  40.060246\n",
            "2017-11-30        NaN  41.219541  40.333563  41.150101          NaN  40.810073\n",
            "2017-12-31        NaN  40.848389  40.520339  40.522732          NaN  40.831629\n",
            "2018-01-31        NaN  40.333560  39.869019  40.091709          NaN  39.957616\n",
            "2018-02-28        NaN  43.426442  42.808539  42.825367          NaN  43.099457\n",
            "2018-03-31        NaN  41.293824  40.127738  40.339317          NaN  40.346530\n",
            "2018-04-30        NaN  40.214304  38.911174  39.733444          NaN  38.980901\n"
          ]
        }
      ]
    },
    {
      "cell_type": "markdown",
      "metadata": {
        "id": "shbpOFyyS6uV"
      },
      "source": [
        "Since the column name of 'Open' has been changed, the new DataFrame has an new column named 'Change'.\n",
        "\n",
        "# Summary\n",
        "\n",
        "Hereby we introduced the most import part of python: resampling and DataFrame manipulation. We only introduced the most commonly used method in Financial data analysis. There are also many methods used in data mining, which are also beneficial. You can always check the [Pandas](https://pandas.pydata.org/pandas-docs/stable/index.html) official documentations for help."
      ]
    }
  ]
}