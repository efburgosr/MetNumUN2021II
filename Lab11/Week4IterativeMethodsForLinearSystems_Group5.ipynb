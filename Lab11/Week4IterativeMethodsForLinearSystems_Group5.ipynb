{
  "cells": [
    {
      "cell_type": "markdown",
      "metadata": {
        "id": "view-in-github",
        "colab_type": "text"
      },
      "source": [
        "<a href=\"https://colab.research.google.com/github/efburgosr/MetNumUN2021II/blob/main/Lab11/Week4IterativeMethodsForLinearSystems_Group5.ipynb\" target=\"_parent\"><img src=\"https://colab.research.google.com/assets/colab-badge.svg\" alt=\"Open In Colab\"/></a>"
      ]
    },
    {
      "cell_type": "markdown",
      "metadata": {
        "id": "dWl-9JJinxFi"
      },
      "source": [
        "# Simple iteration for systems of linear equations"
      ]
    },
    {
      "cell_type": "markdown",
      "source": [
        ""
      ],
      "metadata": {
        "id": "zbGlnR3Wicli"
      }
    },
    {
      "cell_type": "markdown",
      "metadata": {
        "id": "SSJg94KjnxFv"
      },
      "source": [
        "First, generate a random diagonally dominant matrix, for testing."
      ]
    },
    {
      "cell_type": "code",
      "execution_count": null,
      "metadata": {
        "collapsed": true,
        "id": "BEI_97aZnxFw"
      },
      "outputs": [],
      "source": [
        "import numpy as np\n",
        "rndm = np.random.RandomState(1234)\n",
        "\n",
        "n = 10\n",
        "A = rndm.uniform(size=(n, n)) + np.diagflat([15]*n)\n",
        "b = rndm.uniform(size=n)"
      ]
    },
    {
      "cell_type": "markdown",
      "metadata": {
        "id": "QSRprAVinxGN"
      },
      "source": [
        "# I.  Jacobi iteration\n",
        "\n",
        "Given\n",
        "\n",
        "$$\n",
        "A x = b\n",
        "$$\n",
        "\n",
        "separate the diagonal part $D$,\n",
        "\n",
        "$$ A = D + (A - D) $$\n",
        "\n",
        "and write\n",
        "\n",
        "$$\n",
        "x = D^{-1} (D - A) x + D^{-1} b\\;.\n",
        "$$\n",
        "\n",
        "Then iterate\n",
        "\n",
        "$$\n",
        "x_{n + 1} = B x_{n} + c\\;,\n",
        "$$\n",
        "\n",
        "where \n",
        "\n",
        "$$\n",
        "B = D^{-1} (A - D) \\qquad \\text{and} \\qquad c = D^{-1} b\n",
        "$$\n"
      ]
    },
    {
      "cell_type": "markdown",
      "metadata": {
        "id": "BU2fJYXtnxGP"
      },
      "source": [
        "Let's construct the matrix and the r.h.s. for the Jacobi iteration"
      ]
    },
    {
      "cell_type": "code",
      "execution_count": null,
      "metadata": {
        "id": "lac46YtfnxGQ"
      },
      "outputs": [],
      "source": [
        "diag_1d = np.diag(A)\n",
        "\n",
        "B = -A.copy()\n",
        "np.fill_diagonal(B, 0)\n",
        "\n",
        "D = np.diag(diag_1d)\n",
        "invD = np.diag(1./diag_1d)\n",
        "BB = invD @ B \n",
        "c = invD @ b"
      ]
    },
    {
      "cell_type": "code",
      "execution_count": null,
      "metadata": {
        "id": "pIaQJHbknxGS"
      },
      "outputs": [],
      "source": [
        "# sanity checks\n",
        "from numpy.testing import assert_allclose\n",
        "\n",
        "assert_allclose(-B + D, A)\n",
        "\n",
        "\n",
        "# xx is a \"ground truth\" solution, compute it using a direct method\n",
        "xx = np.linalg.solve(A, b)\n",
        "\n",
        "np.testing.assert_allclose(A@xx, b)\n",
        "np.testing.assert_allclose(D@xx, B@xx + b)\n",
        "np.testing.assert_allclose(xx, BB@xx + c)"
      ]
    },
    {
      "cell_type": "markdown",
      "metadata": {
        "id": "wODUG4KRnxGU"
      },
      "source": [
        "Check that $\\| B\\| \\leqslant 1$:"
      ]
    },
    {
      "cell_type": "code",
      "execution_count": null,
      "metadata": {
        "colab": {
          "base_uri": "https://localhost:8080/"
        },
        "id": "Kkr3qWBjnxGZ",
        "outputId": "eac48d4e-5174-4965-9f0f-bca4f4bd5cd2"
      },
      "outputs": [
        {
          "output_type": "execute_result",
          "data": {
            "text/plain": [
              "0.36436161983015336"
            ]
          },
          "metadata": {},
          "execution_count": 4
        }
      ],
      "source": [
        "np.linalg.norm(BB)"
      ]
    },
    {
      "cell_type": "markdown",
      "metadata": {
        "id": "7al9N0D9nxGe"
      },
      "source": [
        "### Do the Jacobi iteration"
      ]
    },
    {
      "cell_type": "code",
      "execution_count": null,
      "metadata": {
        "collapsed": true,
        "id": "XZtWpllznxGf"
      },
      "outputs": [],
      "source": [
        "n_iter = 50\n",
        "\n",
        "x0 = np.ones(n)\n",
        "x = x0\n",
        "for _ in range(n_iter):\n",
        "    x = BB @ x + c"
      ]
    },
    {
      "cell_type": "code",
      "execution_count": null,
      "metadata": {
        "colab": {
          "base_uri": "https://localhost:8080/"
        },
        "id": "1U_GhpNBnxGg",
        "outputId": "2dd13751-93d1-42c1-aa9d-61bb948c48d1"
      },
      "outputs": [
        {
          "output_type": "execute_result",
          "data": {
            "text/plain": [
              "array([ 1.11022302e-16,  0.00000000e+00, -2.22044605e-16, -1.11022302e-16,\n",
              "        1.11022302e-16,  0.00000000e+00, -2.42861287e-17,  0.00000000e+00,\n",
              "       -2.77555756e-17,  1.11022302e-16])"
            ]
          },
          "metadata": {},
          "execution_count": 6
        }
      ],
      "source": [
        "# Check the result:\n",
        "\n",
        "A @ x - b"
      ]
    },
    {
      "cell_type": "markdown",
      "metadata": {
        "id": "i5Vx3MPAnxGi"
      },
      "source": [
        "### Task I.1\n",
        "\n",
        "Collect the proof-of-concept above into a single function implementing the Jacobi iteration. This function should receive the r.h.s. matrix $A$, the l.h.s. vector `b`, and the number of iterations to perform.\n",
        "\n",
        "\n",
        "The matrix $A$ in the illustration above is strongly diagonally dominant, by construction. \n",
        "What happens if the diagonal matrix elements of $A$ are made smaller? Check the convergence of the Jacobi iteration, and check the value of the norm of $B$.\n",
        "\n",
        "(20% of the total grade)\n"
      ]
    },
    {
      "cell_type": "code",
      "execution_count": null,
      "metadata": {
        "collapsed": true,
        "id": "EZGe6oJTnxGj"
      },
      "outputs": [],
      "source": [
        "# ... ENTER \n",
        "def J_iteration(A, b, eps = 1e-7, n_iter = 50):\n",
        "    \n",
        "    diag_1d = np.diag(A)\n",
        "    B = -A.copy()\n",
        "    np.fill_diagonal(B, 0)\n",
        "    invD = np.diag(1./diag_1d)\n",
        "    BB = invD @ B \n",
        "    c = invD @ b\n",
        "    \n",
        "    x = np.ones(n)\n",
        "    for _ in range(n_iter):\n",
        "        x = BB @ x + c\n",
        "    return x\n",
        "#... end ..."
      ]
    },
    {
      "cell_type": "code",
      "source": [
        "x = J_iteration(A, b)\n",
        "print(x)\n",
        "\n",
        "np.testing.assert_allclose(A@x, b)\n",
        "np.testing.assert_allclose(x, xx)"
      ],
      "metadata": {
        "colab": {
          "base_uri": "https://localhost:8080/"
        },
        "id": "h-QqUa76oIAT",
        "outputId": "add7c002-4d19-4d65-9348-86a5580a3ae6"
      },
      "execution_count": null,
      "outputs": [
        {
          "output_type": "stream",
          "name": "stdout",
          "text": [
            "[ 0.03919429  0.03780037  0.04283232  0.02365951  0.05745031 -0.00030244\n",
            " -0.00577279  0.03177549 -0.00422849  0.05284648]\n"
          ]
        }
      ]
    },
    {
      "cell_type": "code",
      "source": [
        "for k in range(1, 16):\n",
        "    A1 = A + np.diagflat([-k]*n)\n",
        "    print(np.linalg.norm(np.diag(1./np.diag(A1))@(-A1.copy()+np.diag(np.diag(A1)))),\n",
        "          np.linalg.norm(J_iteration(A1, b)-np.linalg.solve(A1, b)))"
      ],
      "metadata": {
        "colab": {
          "base_uri": "https://localhost:8080/"
        },
        "id": "wuPs3BkooMTA",
        "outputId": "99d29e48-fa89-4bdf-f723-cb977015aec8"
      },
      "execution_count": null,
      "outputs": [
        {
          "output_type": "stream",
          "name": "stdout",
          "text": [
            "0.38959181027260875 2.009053247780777e-17\n",
            "0.4185783948614869 2.7449806536241494e-17\n",
            "0.4522284025473819 4.7730515306684666e-17\n",
            "0.4917667095178099 2.3354429532350847e-17\n",
            "0.5388887887486234 1.8193933307329566e-17\n",
            "0.5960110344093966 1.036960250308455e-15\n",
            "0.6667001660296402 2.7708368486989536e-13\n",
            "0.7564517359241753 1.4990528448342257e-10\n",
            "0.8742017351588476 2.016159609243833e-07\n",
            "1.0355299928250665 0.0009191717405677776\n",
            "1.2702850939751231 23.48163367953915\n",
            "1.6439565658213244 8260242.793633645\n",
            "2.334809111760855 261149802433164.72\n",
            "4.080768845910033 1.3716691464130682e+26\n",
            "30.715327603064885 1.739863582849129e+61\n"
          ]
        }
      ]
    },
    {
      "cell_type": "markdown",
      "metadata": {
        "id": "uI4Udfb_nxGk"
      },
      "source": [
        "# II. Seidel's iteration."
      ]
    },
    {
      "cell_type": "markdown",
      "metadata": {
        "id": "2-AIN1wFnxGk"
      },
      "source": [
        "##### Task II.1\n",
        "\n",
        "Implement the Seidel's iteration. \n",
        "\n",
        "Test it on a random matrix. Study the convergence of iterations, relate to the norm of the iteration matrix.\n",
        "\n",
        "(30% of the total grade)"
      ]
    },
    {
      "cell_type": "code",
      "execution_count": null,
      "metadata": {
        "collapsed": true,
        "id": "5rzq1O4GnxGl"
      },
      "outputs": [],
      "source": [
        "# ... ENTER\n",
        "def seidel_iteration(A, b, eps = 1e-7, n_iter = 50):\n",
        "    x = np.ones(b.shape[0])\n",
        "    \n",
        "    for _ in range(n_iter):\n",
        "        for k in range(b.shape[0]):\n",
        "              x[k] = (b[k]-np.dot(A[k][:k], x[:k])- np.dot(A[k][k+1:], x[k+1:]))/A[k,k]\n",
        "    return x"
      ]
    },
    {
      "cell_type": "code",
      "source": [
        "x = seidel_iteration(A,b)\n",
        "\n",
        "np.testing.assert_allclose(A@x, b)\n",
        "np.testing.assert_allclose(x, xx)"
      ],
      "metadata": {
        "id": "tPlA8Nb1ouph"
      },
      "execution_count": null,
      "outputs": []
    },
    {
      "cell_type": "code",
      "source": [
        "for k in range(1, 16):\n",
        "    A1 = A + np.diagflat([-k]*n)\n",
        "    print(np.linalg.norm(np.diag(1./np.diag(A1))@(-A1.copy()+np.diag(np.diag(A1)))),\n",
        "          np.linalg.norm(seidel_iteration(A1, b)-np.linalg.solve(A1, b)))"
      ],
      "metadata": {
        "colab": {
          "base_uri": "https://localhost:8080/"
        },
        "id": "4je2eyUSoyYF",
        "outputId": "7a253e80-ffd3-4c0f-f24c-59c7493cc213"
      },
      "execution_count": null,
      "outputs": [
        {
          "output_type": "stream",
          "name": "stdout",
          "text": [
            "0.38959181027260875 1.554346659933056e-17\n",
            "0.4185783948614869 2.1006679397246172e-17\n",
            "0.4522284025473819 4.1966327647007474e-17\n",
            "0.4917667095178099 1.8526854844795107e-17\n",
            "0.5388887887486234 1.7433755170605403e-17\n",
            "0.5960110344093966 3.598244707867574e-17\n",
            "0.6667001660296402 4.001161414229486e-17\n",
            "0.7564517359241753 3.0444273447339113e-17\n",
            "0.8742017351588476 6.098731183695384e-17\n",
            "1.0355299928250665 6.009258394948638e-17\n",
            "1.2702850939751231 5.1108145016965626e-17\n",
            "1.6439565658213244 6.169862969064139e-17\n",
            "2.334809111760855 1.4488835837920476e-16\n",
            "4.080768845910033 4.1063361227369436e-09\n",
            "30.715327603064885 2.224327617064842e+114\n"
          ]
        }
      ]
    },
    {
      "cell_type": "markdown",
      "metadata": {
        "id": "_ohImZ7dnxGm"
      },
      "source": [
        "# III. Minimum residual scheme"
      ]
    },
    {
      "cell_type": "markdown",
      "metadata": {
        "id": "Oy-6DEKJnxGn"
      },
      "source": [
        "### Task III.1\n",
        "\n",
        "Implement the $\\textit{minimum residual}$ scheme: an explicit non-stationary method, where at each step you select the iteration parameter $\\tau_n$ to minimize the residual $\\mathbf{r}_{n+1}$ given $\\mathbf{r}_n$. Test it on a random matrix, study the convergence to the solution, in terms of the norm of the residual and the deviation from the ground truth solution (which you can obtain using a direct method). Study how the iteration parameter $\\tau_n$ changes as iterations progress.\n",
        "\n",
        "(50% of the grade)"
      ]
    },
    {
      "cell_type": "code",
      "execution_count": null,
      "metadata": {
        "collapsed": true,
        "id": "oUa1mMegnxGo"
      },
      "outputs": [],
      "source": [
        "# ... ENTER\n",
        "def minimum_res(A, b, eps = 1e-7, n_iter = 50):\n",
        "    x = np.ones(b.shape[0])\n",
        "    \n",
        "    for _ in range(n_iter):\n",
        "        r = A @ x - b\n",
        "        k = (r @ A @ r)/np.linalg.norm(A @ r)**2\n",
        "        x = x - k*r\n",
        "        \n",
        "    return x"
      ]
    },
    {
      "cell_type": "code",
      "source": [
        "x = minimum_res(A,b)\n",
        "\n",
        "np.testing.assert_allclose(A@x, b)\n",
        "np.testing.assert_allclose(x, xx)"
      ],
      "metadata": {
        "id": "w5RJjW_Ho59Y"
      },
      "execution_count": null,
      "outputs": []
    },
    {
      "cell_type": "code",
      "source": [
        "for k in range(1, 16):\n",
        "    A1 = A + np.diagflat([-k]*n)\n",
        "    print(np.linalg.norm(np.diag(1./np.diag(A1))@(-A1.copy()+np.diag(np.diag(A1)))),\n",
        "          np.linalg.norm(minimum_res(A1, b)-np.linalg.solve(A1, b)))"
      ],
      "metadata": {
        "colab": {
          "base_uri": "https://localhost:8080/"
        },
        "id": "H4yi7D_SpAiv",
        "outputId": "082bada0-b606-4d8c-c6cb-f63111319603"
      },
      "execution_count": null,
      "outputs": [
        {
          "output_type": "stream",
          "name": "stdout",
          "text": [
            "0.38959181027260875 2.1986593570450097e-17\n",
            "0.4185783948614869 3.048131780107179e-17\n",
            "0.4522284025473819 4.573225939075189e-17\n",
            "0.4917667095178099 3.647305096833231e-17\n",
            "0.5388887887486234 2.124593680485185e-17\n",
            "0.5960110344093966 3.66453918846474e-17\n",
            "0.6667001660296402 4.192148702340308e-17\n",
            "0.7564517359241753 nan\n",
            "0.8742017351588476 6.727507242144006e-17\n",
            "1.0355299928250665 6.527725485922918e-17\n",
            "1.2702850939751231 5.0515910130503314e-17\n",
            "1.6439565658213244 9.100687379121228e-17\n",
            "2.334809111760855 1.0804347218832563e-13\n",
            "4.080768845910033 0.00021717913683547106\n",
            "30.715327603064885 2.081804235084611\n"
          ]
        },
        {
          "output_type": "stream",
          "name": "stderr",
          "text": [
            "/usr/local/lib/python3.7/dist-packages/ipykernel_launcher.py:7: RuntimeWarning: invalid value encountered in double_scalars\n",
            "  import sys\n"
          ]
        }
      ]
    },
    {
      "cell_type": "markdown",
      "source": [
        "![week-4-lab11[1].png](data:image/png;base64,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)"
      ],
      "metadata": {
        "id": "DgCzqWdPieD3"
      }
    }
  ],
  "metadata": {
    "kernelspec": {
      "display_name": "Python 3",
      "language": "python",
      "name": "python3"
    },
    "language_info": {
      "codemirror_mode": {
        "name": "ipython",
        "version": 3
      },
      "file_extension": ".py",
      "mimetype": "text/x-python",
      "name": "python",
      "nbconvert_exporter": "python",
      "pygments_lexer": "ipython3",
      "version": "3.5.2"
    },
    "colab": {
      "name": "Week4IterativeMethodsForLinearSystems Group5.ipynb",
      "provenance": [],
      "collapsed_sections": [],
      "include_colab_link": true
    }
  },
  "nbformat": 4,
  "nbformat_minor": 0
}