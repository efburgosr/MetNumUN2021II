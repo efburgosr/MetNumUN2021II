{
  "nbformat": 4,
  "nbformat_minor": 0,
  "metadata": {
    "colab": {
      "name": "group5AlgorithmicToolboxWeek1Quadratic.ipynb",
      "provenance": [],
      "authorship_tag": "ABX9TyPVm5b4EUHxWwUSgSM8M/Of",
      "include_colab_link": true
    },
    "kernelspec": {
      "name": "python3",
      "display_name": "Python 3"
    },
    "language_info": {
      "name": "python"
    }
  },
  "cells": [
    {
      "cell_type": "markdown",
      "metadata": {
        "id": "view-in-github",
        "colab_type": "text"
      },
      "source": [
        "<a href=\"https://colab.research.google.com/github/efburgosr/MetNumUN2021II/blob/main/Lab7/group5AlgorithmicToolboxWeek1Quadratic.ipynb\" target=\"_parent\"><img src=\"https://colab.research.google.com/assets/colab-badge.svg\" alt=\"Open In Colab\"/></a>"
      ]
    },
    {
      "cell_type": "markdown",
      "metadata": {
        "id": "hu-kO0jlsKQT"
      },
      "source": [
        "**Solve a quadratic equation with the standard and Po-Shen Loh methods**"
      ]
    },
    {
      "cell_type": "markdown",
      "metadata": {
        "id": "cUDmeURMsS4z"
      },
      "source": [
        "![send-coursera[1].jpg](https://raw.githubusercontent.com/efburgosr/MetNumUN2021II/main/Lab7/send-coursera.jpg)"
      ]
    },
    {
      "cell_type": "markdown",
      "metadata": {
        "id": "HXa1TOg3z6kT"
      },
      "source": [
        "![send-coursera[1].jpg](https://raw.githubusercontent.com/efburgosr/MetNumUN2021II/main/Lab7/submit-uncode.jpg)"
      ]
    },
    {
      "cell_type": "markdown",
      "metadata": {
        "id": "Fui18WxazwUw"
      },
      "source": [
        ""
      ]
    }
  ]
}