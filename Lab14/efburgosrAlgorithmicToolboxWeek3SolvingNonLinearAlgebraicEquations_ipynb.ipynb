{
  "cells": [
    {
      "cell_type": "markdown",
      "metadata": {
        "id": "view-in-github",
        "colab_type": "text"
      },
      "source": [
        "<a href=\"https://colab.research.google.com/github/efburgosr/MetNumUN2021II/blob/main/Lab14/efburgosrAlgorithmicToolboxWeek3SolvingNonLinearAlgebraicEquations_ipynb.ipynb\" target=\"_parent\"><img src=\"https://colab.research.google.com/assets/colab-badge.svg\" alt=\"Open In Colab\"/></a>"
      ]
    },
    {
      "cell_type": "markdown",
      "metadata": {
        "id": "TwbuLWyFlBoy"
      },
      "source": [
        "# Part I. Root-finding. Newton's iteration."
      ]
    },
    {
      "cell_type": "markdown",
      "metadata": {
        "id": "tF9O0oi-lBo6"
      },
      "source": [
        "Write a function which performs Newton's iteration for a given function $f(x)$ with known derivative $f'(x)$. Your function should find the root of $f(x)$ with a predefined absolute accuracy $\\epsilon$. "
      ]
    },
    {
      "cell_type": "code",
      "execution_count": null,
      "metadata": {
        "collapsed": true,
        "id": "loWkxZ9ulBo8"
      },
      "outputs": [],
      "source": [
        "def newton_iteration(f, fder, x0, eps=1e-5, maxiter=1000):\n",
        "    \"\"\"Find a root of $f(x) = 0$ via Newton's iteration starting from x0.\n",
        "    \n",
        "    Parameters\n",
        "    ----------\n",
        "    f : callable\n",
        "        The function to find a root of.\n",
        "    fder : callable\n",
        "        The derivative of `f`.\n",
        "    x0 : float\n",
        "        Initial value for the Newton's iteration.\n",
        "    eps : float\n",
        "        The target accuracy. \n",
        "        The iteration stops when the distance between successive iterates is below `eps`.\n",
        "        Default is 1e-5.\n",
        "    maxiter : int\n",
        "        The maximum number of iterations (default is 1000.)\n",
        "        Iterations terminate if the number of iterations exceeds `maxiter`.\n",
        "        This parameter is only needed to avoid infinite loops if iterations wander off.\n",
        "        \n",
        "    Returns\n",
        "    -------\n",
        "    x : float\n",
        "        The estimate for the root.\n",
        "    niter : int\n",
        "        The number of iterations.\n",
        "    \"\"\"\n",
        "    # ... ENTER YOUR CODE HERE ...\n",
        "    cur = x0 - f(x0)/fder(x0)\n",
        "    nt = x0\n",
        "    \n",
        "    for _ in range(maxiter):\n",
        "        if(abs(cur-nt)<=eps):\n",
        "            break\n",
        "        nt = cur\n",
        "        cur = cur - f(cur)/fder(cur)\n",
        "    \n",
        "    return cur"
      ]
    },
    {
      "cell_type": "markdown",
      "metadata": {
        "id": "4s9X40BOlBo_"
      },
      "source": [
        "### Test I.1 \n",
        "\n",
        "Test your implementation on a simple example, $f(x) = x^2 - 1$ or similar. (20% of the total grade)"
      ]
    },
    {
      "cell_type": "code",
      "execution_count": null,
      "metadata": {
        "collapsed": true,
        "id": "Rl4843HFlBpA"
      },
      "outputs": [],
      "source": [
        "# ... ENTER YOUR CODE HERE ...\n",
        "import numpy as np\n",
        "from numpy.testing import assert_allclose"
      ]
    },
    {
      "cell_type": "code",
      "source": [
        "f = lambda x: (x-1)*(x+1)\n",
        "fd = lambda x: 2*x\n",
        "\n",
        "rndm = np.random.RandomState(1234)\n",
        "a = rndm.uniform(0, 10, size = (2,10))\n",
        "\n",
        "for x0 in a[0]:\n",
        "    assert_allclose(1, newton_iteration(f, fd, x0))\n",
        "\n",
        "for x0 in a[1]:\n",
        "    assert_allclose(-1, newton_iteration(f, fd, -x0))"
      ],
      "metadata": {
        "id": "aJ38Fou8lWql"
      },
      "execution_count": null,
      "outputs": []
    },
    {
      "cell_type": "markdown",
      "metadata": {
        "id": "IlPZ4OAelBpA"
      },
      "source": [
        "### Test I.2\n",
        "\n",
        "Now consider a function which has a multiple root. Take $f(x) = (x^2 - 1)^2$ as an example. Implement a modified Newton's iteraion,\n",
        "\n",
        "$$\n",
        "x_{n+1} = x_{n} - m \\frac{f(x_n)}{f'(x_n)}\n",
        "$$\n",
        "\n",
        "and vary $m= 1, 2, 3, 4, 5$. Check the number of iterations required for convergence within a fixed $\\epsilon$. Are your observations consistent with the expectation that the convergence is quadratic is $m$ equals the multiplicity of the root, and is linear otherwise? (40% of the total grade)"
      ]
    },
    {
      "cell_type": "code",
      "execution_count": null,
      "metadata": {
        "collapsed": true,
        "id": "aSBRHOf8lBpC"
      },
      "outputs": [],
      "source": [
        "# ... ENTER YOUR CODE HERE ...\n",
        "def modified_newton(f, fder, x0, m=1, eps=1e-5, maxiter=1000):\n",
        "    cur = x0 - m*f(x0)/fder(x0)\n",
        "    prev = x0\n",
        "    \n",
        "    for _ in range(maxiter):\n",
        "        if(abs(cur-prev)<=eps):\n",
        "            break\n",
        "        prev = cur\n",
        "        cur = cur - m*f(cur)/fder(cur)\n",
        "    \n",
        "    return cur"
      ]
    },
    {
      "cell_type": "code",
      "source": [
        "def calc_iter(f, fder, x0, m=1, eps=1e-5, maxiter=2**20):\n",
        "    \n",
        "    cur = x0 - m*f(x0)/fder(x0)\n",
        "    prev = x0\n",
        "    num = 1\n",
        "    \n",
        "    while abs(cur-prev)>eps and num<maxiter:\n",
        "        prev = cur\n",
        "        cur = cur - m*f(cur)/fder(cur)\n",
        "        num+=1\n",
        "    if num != maxiter:\n",
        "        return num\n",
        "    else:\n",
        "        return \"not converges\""
      ],
      "metadata": {
        "id": "-smxKd7Cljf-"
      },
      "execution_count": null,
      "outputs": []
    },
    {
      "cell_type": "code",
      "source": [
        "f = lambda x: (x-1)**2*(x+1)**2\n",
        "fd = lambda x: 4*(x-1)*(x+1)*x\n",
        "\n",
        "rndm = np.random.RandomState(1234)\n",
        "a = rndm.uniform(0, 10, size = (2,10))\n",
        "\n",
        "for x0 in a[0]:\n",
        "    assert_allclose(1, modified_newton(f, fd, x0, 2))\n",
        "\n",
        "for x0 in a[1]:\n",
        "    assert_allclose(-1, modified_newton(f, fd, -x0, 2))"
      ],
      "metadata": {
        "id": "NSB8ccVRlnQs"
      },
      "execution_count": null,
      "outputs": []
    },
    {
      "cell_type": "code",
      "source": [
        "for m in range(1,6):\n",
        "    print(m, calc_iter(f, fd, a[1][1],m))"
      ],
      "metadata": {
        "colab": {
          "base_uri": "https://localhost:8080/"
        },
        "id": "NCd1GVOclpFc",
        "outputId": "05ec071c-4864-456d-8176-6ab7355f53cd"
      },
      "execution_count": null,
      "outputs": [
        {
          "output_type": "stream",
          "name": "stdout",
          "text": [
            "1 22\n",
            "2 6\n",
            "3 18\n",
            "4 not converges\n",
            "5 435397\n"
          ]
        }
      ]
    },
    {
      "cell_type": "markdown",
      "metadata": {
        "id": "Yo_iW1UPlBpE"
      },
      "source": [
        "# Part II. Fixed-point iteration"
      ]
    },
    {
      "cell_type": "markdown",
      "metadata": {
        "id": "525ZQ3GPlBpG"
      },
      "source": [
        "Consider the following equation:\n",
        "\n",
        "$$\n",
        "\\sqrt{x} = \\cos{x}\n",
        "$$\n",
        "\n",
        "Plot the left-hand side and right-hand side of this equation, and localize the root graphically. Estimate the location of the root by visual inspection of the plot.\n",
        "\n",
        "Write a function which finds the solution using fixed-point iteration up to a predefined accuracy $\\epsilon$. Compare the result to an estimate from a visual inspection.\n",
        "\n",
        "Next, rewrite the fixed-point problem in the form\n",
        "\n",
        "$$\n",
        "x = x - \\alpha f(x)\n",
        "$$\n",
        "\n",
        "where $\\alpha$ is the free parameter. Check the dependence of the number of iterations required for a given $\\epsilon$ on $\\alpha$. Compare your results to an expectation that the optimal value of $\\alpha$ is given by \n",
        "\n",
        "$$\n",
        "\\alpha = \\frac{2}{m + M}\n",
        "$$\n",
        "\n",
        "where $0 < m < |f'(x)| < M$ over the localization interval. (40% of the total grade)"
      ]
    },
    {
      "cell_type": "code",
      "execution_count": null,
      "metadata": {
        "collapsed": true,
        "colab": {
          "base_uri": "https://localhost:8080/",
          "height": 320
        },
        "id": "B3lElUgJlBpI",
        "outputId": "b430d88d-d96f-42e3-b86f-e02dba78b106"
      },
      "outputs": [
        {
          "output_type": "stream",
          "name": "stderr",
          "text": [
            "/usr/local/lib/python3.7/dist-packages/ipykernel_launcher.py:7: UserWarning: You have mixed positional and keyword arguments, some input may be discarded.\n",
            "  import sys\n"
          ]
        },
        {
          "output_type": "display_data",
          "data": {
            "image/png": "[encoded data removed]",
            "text/plain": [
              "<Figure size 432x288 with 1 Axes>"
            ]
          },
          "metadata": {
            "needs_background": "light"
          }
        }
      ],
      "source": [
        "# ... ENTER YOUR CODE HERE ...\n",
        "import matplotlib.pyplot as ppt\n",
        "x = np.linspace(0.5, 5, 50)\n",
        "\n",
        "ppt.plot(x, np.sqrt(x))\n",
        "ppt.plot(x, np.cos(x))\n",
        "ppt.legend([1, 2], labels=[\"sqrt\", \"cos\"])\n",
        "\n",
        "ppt.show()"
      ]
    },
    {
      "cell_type": "code",
      "source": [
        "ppt.plot(np.linspace(0.5, 1, 50), 1 - (np.sqrt(np.linspace(0.5, 1, 50)) + np.sin(np.linspace(0.5, 1, 50))))\n",
        "ppt.legend(labels=[\"derevative of x-f(x)\"])\n",
        "ppt.show()"
      ],
      "metadata": {
        "colab": {
          "base_uri": "https://localhost:8080/",
          "height": 265
        },
        "id": "IELD9VpNmBe7",
        "outputId": "3702f229-3ad0-4812-d254-5deea493b2e1"
      },
      "execution_count": null,
      "outputs": [
        {
          "output_type": "display_data",
          "data": {
            "image/png": "[encoded data removed]",
            "text/plain": [
              "<Figure size 432x288 with 1 Axes>"
            ]
          },
          "metadata": {
            "needs_background": "light"
          }
        }
      ]
    },
    {
      "cell_type": "code",
      "source": [
        "\n",
        "def f_p_sol(eps = 1e-5, alpha = 1):\n",
        "    \n",
        "    prev = 1.5/2\n",
        "    cur = prev - alpha*(np.sqrt(prev) - np.cos(prev))\n",
        "    eps1 = abs(cur - prev)*10\n",
        "    num = 1\n",
        "    \n",
        "    while abs(cur - prev)>0.25*eps and cur>0:\n",
        "        prev = cur\n",
        "        cur = cur - alpha*(np.sqrt(cur) - np.cos(cur))\n",
        "        num+=1\n",
        "        \n",
        "    return cur, num"
      ],
      "metadata": {
        "id": "JgYHZbexmKqK"
      },
      "execution_count": null,
      "outputs": []
    },
    {
      "cell_type": "code",
      "source": [
        "for i in [0.1, 0.5, 1.0, 2.0]:\n",
        "    print(i, f_p_sol(alpha = i))"
      ],
      "metadata": {
        "colab": {
          "base_uri": "https://localhost:8080/"
        },
        "id": "BUE82t4dmQjX",
        "outputId": "06c64750-7f3d-4460-fca9-4069d3a95639"
      },
      "execution_count": null,
      "outputs": [
        {
          "output_type": "stream",
          "name": "stdout",
          "text": [
            "0.1 (0.6417314556204897, 67)\n",
            "0.5 (0.6417156095558334, 12)\n",
            "1.0 (0.6417142154160496, 9)\n",
            "2.0 (-0.11760568315221742, 5)\n"
          ]
        }
      ]
    },
    {
      "cell_type": "code",
      "source": [
        "f_p_sol(alpha = 2.0/3)"
      ],
      "metadata": {
        "colab": {
          "base_uri": "https://localhost:8080/"
        },
        "id": "RBoXwW7zmR2W",
        "outputId": "9e372b11-d07a-4d42-e65c-1730271e3a49"
      },
      "execution_count": null,
      "outputs": [
        {
          "output_type": "execute_result",
          "data": {
            "text/plain": [
              "(0.6417145071423276, 8)"
            ]
          },
          "metadata": {},
          "execution_count": 13
        }
      ]
    },
    {
      "cell_type": "markdown",
      "metadata": {
        "id": "zvuLA1cJlBpJ"
      },
      "source": [
        "# Part III. Newton's fractal.\n",
        "\n",
        "(Not graded). \n",
        "\n",
        "Consider the equation\n",
        "\n",
        "$$\n",
        "x^3 = 1\n",
        "$$\n",
        "\n",
        "It has three solutions in the complex plane, $x_k = \\exp(i\\, 2\\pi k/ 3)$, $k = 0, 1, 2$.\n",
        "\n",
        "The Newton's iterations converge to one of these solutions, depending on the starting point in the complex plane (to converge to a complex-valued solution, the iteration needs a complex-valued starting point).\n",
        "\n",
        "Plot the \\emph{basins of attraction} of these roots on the complex plane of $x$ (i.e., on the plane $\\mathrm{Re}x$ -- $\\mathrm{Im}x$). To this end, make a series of calculations, varying the initial conditions on a grid of points. \n",
        "Color the grid in three colors, according to the root, to which iterations converged."
      ]
    },
    {
      "cell_type": "code",
      "execution_count": null,
      "metadata": {
        "collapsed": true,
        "id": "dXOhX1TxlBpK"
      },
      "outputs": [],
      "source": [
        "import cmath\n",
        "\n",
        "def newt_frac(x0):\n",
        "    \n",
        "    eps=1e-5\n",
        "    maxiter=1000\n",
        "    cur = x0 - (x0**3-1)/3*x0**2\n",
        "    prev = x0\n",
        "    \n",
        "    for _ in range(maxiter):\n",
        "        if(abs(cur-prev)<=eps):\n",
        "            break\n",
        "        if(abs(cur-prev)>1e2):\n",
        "            return 0\n",
        "        prev = cur\n",
        "        cur = cur - (cur**3-1)/3*cur**2\n",
        "        \n",
        "    if abs(cur-cmath.exp(complex(0,2*np.pi*1/3)))<abs(cur-cmath.exp(complex(0,2*np.pi*2/3))):\n",
        "        return 1\n",
        "    else :\n",
        "        return 2"
      ]
    },
    {
      "cell_type": "code",
      "source": [
        "x = np.linspace(-2, 2, 1000)\n",
        "y = np.linspace(-2, 2, 1000)\n",
        "\n",
        "for x0 in x:\n",
        "    for y0 in y:\n",
        "        fr = newt_frac(complex(x0,y0))\n",
        "        if fr==1:\n",
        "            ppt.plot(x0, y0, marker='o', markersize=3, color='red')\n",
        "        elif fr==2:\n",
        "            ppt.plot(x0, y0, marker='o', markersize=3, color='blue')\n",
        "        \n",
        "roots_x = []\n",
        "roots_y = []\n",
        "for i in range(3):\n",
        "    z = cmath.exp(complex(0,2*np.pi*i/3))\n",
        "    roots_x.append(z.real)\n",
        "    roots_y.append(z.imag)\n",
        "\n",
        "ppt.scatter(roots_x, roots_y, c='g')\n",
        "ppt.show()"
      ],
      "metadata": {
        "id": "KrkbcZBbm_4_"
      },
      "execution_count": null,
      "outputs": []
    },
    {
      "cell_type": "markdown",
      "source": [
        "![image.png](data:image/png;base64,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)"
      ],
      "metadata": {
        "id": "SanRwLXYEiHE"
      }
    },
    {
      "cell_type": "markdown",
      "source": [
        ""
      ],
      "metadata": {
        "id": "byacBFWbEsEW"
      }
    }
  ],
  "metadata": {
    "kernelspec": {
      "display_name": "Python 3",
      "language": "python",
      "name": "python3"
    },
    "language_info": {
      "codemirror_mode": {
        "name": "ipython",
        "version": 3
      },
      "file_extension": ".py",
      "mimetype": "text/x-python",
      "name": "python",
      "nbconvert_exporter": "python",
      "pygments_lexer": "ipython3",
      "version": "3.5.2"
    },
    "colab": {
      "name": "efburgosrAlgorithmicToolboxWeek3SolvingNonLinearAlgebraicEquations.ipynb.ipynb",
      "provenance": [],
      "collapsed_sections": [],
      "include_colab_link": true
    }
  },
  "nbformat": 4,
  "nbformat_minor": 0
}